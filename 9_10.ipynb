{
 "cells": [
  {
   "cell_type": "code",
   "execution_count": 1,
   "metadata": {},
   "outputs": [],
   "source": [
    "def keras_plotter(history):\n",
    "    import pandas as pd\n",
    "    import matplotlib.pyplot as plt\n",
    "    \n",
    "    pd.DataFrame(history.history).plot(figsize=(8,5))\n",
    "    plt.grid(True)\n",
    "    plt.gca().set_ylim(0,2)\n",
    "    plt.savefig(\"9_t.jpeg\")\n",
    "    plt.show()\n",
    "   "
   ]
  },
  {
   "cell_type": "code",
   "execution_count": 2,
   "metadata": {},
   "outputs": [],
   "source": [
    "import tensorflow as tf\n",
    "from tensorflow import keras\n",
    "from tensorflow.keras.datasets import cifar10\n",
    "\n",
    "(x_train_val, y_train_val), (x_test, y_test) = cifar10.load_data()\n",
    "\n",
    "from sklearn.model_selection import StratifiedShuffleSplit\n",
    "strat_split=StratifiedShuffleSplit(n_splits=1,test_size=0.2)\n",
    "for train_index,test_index in strat_split.split(x_train_val,y_train_val):\n",
    "    x_train,y_train=x_train_val[train_index],y_train_val[train_index]\n",
    "    x_val,y_val=x_train_val[test_index],y_train_val[test_index]\n",
    "    \n",
    "x_train_val=x_train_val.reshape((50000,3072))\n",
    "x_train=x_train.reshape((40000,3072))\n",
    "x_val=x_val.reshape((10000,3072))\n",
    "x_test=x_test.reshape((10000,3072))\n",
    "\n",
    "from sklearn.preprocessing import StandardScaler\n",
    "sta_scal=StandardScaler()\n",
    "sta_scal.fit(x_train)\n",
    "x_train_val=sta_scal.transform(x_train_val)\n",
    "x_train=sta_scal.transform(x_train)\n",
    "x_val=sta_scal.transform(x_val)\n",
    "x_test=sta_scal.transform(x_test)\n",
    "\n",
    "\n",
    "x_train_val=x_train_val.reshape((50000,32, 32, 3))\n",
    "x_train=x_train.reshape((40000,32, 32, 3))\n",
    "x_val=x_val.reshape((10000,32, 32, 3))\n",
    "x_test=x_test.reshape((10000,32, 32, 3))\n",
    "\n",
    "\n",
    "y_train_val=keras.utils.to_categorical(y_train_val,10)\n",
    "y_train=keras.utils.to_categorical(y_train,10)\n",
    "y_val=keras.utils.to_categorical(y_val,10)\n",
    "y_test=keras.utils.to_categorical(y_test,10)\n"
   ]
  },
  {
   "cell_type": "code",
   "execution_count": 3,
   "metadata": {},
   "outputs": [],
   "source": [
    "#HyperParameters Definition\n",
    "import tensorflow\n",
    "n_hidden=20\n",
    "n_units=200\n",
    "act='elu'\n",
    "out_act='softmax'\n",
    "init='he_normal'\n",
    "init_lr=0.0001\n",
    "loss_def='categorical_crossentropy'\n",
    "ep=500\n",
    "ep_int=50\n",
    "bat_size=32\n",
    "max_lr=0.0001\n",
    "iterations=len(x_train)//bat_size*ep_int\n",
    "opt=tensorflow.keras.optimizers.Nadam(learning_rate=0.0001)\n",
    "loss=tensorflow.keras.losses.categorical_crossentropy"
   ]
  },
  {
   "cell_type": "code",
   "execution_count": 4,
   "metadata": {},
   "outputs": [],
   "source": [
    "#Model Definition\n",
    "import tensorflow as tf\n",
    "from tensorflow import keras\n",
    "#model1=Sequential()\n",
    "ins=tf.keras.layers.Input(shape=x_train.shape[1:])\n",
    "layer1=tf.keras.layers.Flatten(input_shape=x_train.shape[1:])(ins)\n",
    "layer1=tf.keras.layers.Dense(units=n_units,activation=act,kernel_initializer=init)(layer1)\n",
    "layer1=tf.keras.layers.BatchNormalization()(layer1)\n",
    "for i in range(n_hidden-1):\n",
    "    layer1=tf.keras.layers.Dense(units=n_units,activation=act,kernel_initializer=init)(layer1)\n",
    "    layer1=tf.keras.layers.BatchNormalization()(layer1)\n",
    "    if(i%3)==0:\n",
    "        layer1=tf.keras.layers.Dropout(0.5)(layer1,training=True)\n",
    "  \n",
    "outs = tf.keras.layers.Dense(units=10,activation=out_act,kernel_initializer=init)(layer1)\n",
    "model1=tf.keras.Model(inputs=ins,outputs=outs)\n",
    "model1.compile(optimizer=opt,loss=loss_def,metrics=['accuracy'])\n",
    "#model1.add()    "
   ]
  },
  {
   "cell_type": "code",
   "execution_count": 5,
   "metadata": {},
   "outputs": [
    {
     "data": {
      "text/plain": [
       "\"\\n#Model Definition\\n\\nmodel1=tensorflow.keras.models.Sequential()\\nmodel1.add(tensorflow.keras.layers.Flatten(input_shape=x_train.shape[1:]))\\n\\nfor i in range(n_hidden):\\n    model1.add(tensorflow.keras.layers.Dense(units=n_units,activation=act,kernel_initializer=init,kernel_regularizer=keras.regularizers.l2(0.01)))\\n\\nmodel1.add(tensorflow.keras.layers.Dense(units=10,activation=out_act,kernel_initializer=init,kernel_regularizer=keras.regularizers.l2(0.01)))   \\nmodel1.compile(optimizer=opt,loss=loss_def,metrics=['accuracy'])\\n\""
      ]
     },
     "execution_count": 5,
     "metadata": {},
     "output_type": "execute_result"
    }
   ],
   "source": [
    "'''\n",
    "#Model Definition\n",
    "\n",
    "model1=tensorflow.keras.models.Sequential()\n",
    "model1.add(tensorflow.keras.layers.Flatten(input_shape=x_train.shape[1:]))\n",
    "\n",
    "for i in range(n_hidden):\n",
    "    model1.add(tensorflow.keras.layers.Dense(units=n_units,activation=act,kernel_initializer=init,kernel_regularizer=keras.regularizers.l2(0.01)))\n",
    "\n",
    "model1.add(tensorflow.keras.layers.Dense(units=10,activation=out_act,kernel_initializer=init,kernel_regularizer=keras.regularizers.l2(0.01)))   \n",
    "model1.compile(optimizer=opt,loss=loss_def,metrics=['accuracy'])\n",
    "'''"
   ]
  },
  {
   "cell_type": "code",
   "execution_count": 6,
   "metadata": {},
   "outputs": [
    {
     "name": "stdout",
     "output_type": "stream",
     "text": [
      "Train on 40000 samples\n",
      "40000/40000 [==============================] - 32s 798us/sample - loss: 9136.7336 - accuracy: 0.1152\n"
     ]
    },
    {
     "data": {
      "image/png": "[encoded data removed]",
      "text/plain": [
       "<Figure size 432x288 with 1 Axes>"
      ]
     },
     "metadata": {
      "needs_background": "light"
     },
     "output_type": "display_data"
    }
   ],
   "source": [
    "import tensorflow as tf\n",
    "from tensorflow import keras\n",
    "model2=tf.keras.models.clone_model(model1)\n",
    "model2.compile(optimizer=opt,loss=loss_def,metrics=['accuracy'])\n",
    "K=tf.keras.backend\n",
    "\n",
    "class explr(keras.callbacks.Callback):\n",
    "    def __init__(self,factor):\n",
    "        self.factor=factor\n",
    "        self.rates=[]\n",
    "        self.losses=[]\n",
    "    \n",
    "    def on_batch_end(self,batch,logs):\n",
    "        self.rates.append(K.get_value(self.model.optimizer.lr))\n",
    "        self.losses.append(logs['loss'])\n",
    "        K.set_value(self.model.optimizer.lr,self.model.optimizer.lr*self.factor)\n",
    "    \n",
    "\n",
    "def lr_finder(model,x,y,epochs=1,batch_size=32,min_rate=1e-5,max_rate=10):\n",
    "    import numpy as np\n",
    "    init_w=model.get_weights()\n",
    "    init_lr=K.get_value(model.optimizer.lr)\n",
    "    iterations=len(x)//batch_size*epochs\n",
    "    factor=np.exp(np.log(max_rate/min_rate)/iterations)\n",
    "    K.set_value(model.optimizer.lr,min_rate)\n",
    "   \n",
    "    \n",
    "    exp_lr=explr(factor)\n",
    "    model.fit(x,y,epochs=epochs,batch_size=batch_size,callbacks=[exp_lr])\n",
    "    model.set_weights(init_w)\n",
    "    K.set_value(model.optimizer.lr,init_lr)\n",
    "    rates=exp_lr.rates\n",
    "    losses=exp_lr.losses\n",
    "   \n",
    "    \n",
    "    import matplotlib.pyplot as plt\n",
    "    plt.plot(rates,losses)\n",
    "    plt.gca().set_xscale(\"log\")\n",
    "    plt.hlines(min(losses),min(rates),max(rates))\n",
    "    plt.axis([min(rates),max(rates),min(losses),15])\n",
    "    plt.xlabel(\"Learning Rate\")\n",
    "    \n",
    "\n",
    "lr_finder(model2,x_train,y_train,epochs=1,batch_size=32,min_rate=1e-5,max_rate=15)"
   ]
  },
  {
   "cell_type": "code",
   "execution_count": 7,
   "metadata": {},
   "outputs": [],
   "source": [
    "import tensorflow as tf\n",
    "from tensorflow import keras\n",
    "K=tf.keras.backend\n",
    "class OneCycleScheduler(keras.callbacks.Callback):\n",
    "    def __init__(self,iterations,max_lr,start_lr=None,last_iterations=None,last_lr=None):\n",
    "        self.iterations=iterations\n",
    "        self.max_lr=max_lr\n",
    "        self.start_lr=start_lr or max_lr/10\n",
    "        self.last_iterations=last_iterations or iterations//10+1\n",
    "        self.half_iteration=(iterations-self.last_iterations)//2\n",
    "        self.last_lr=last_lr or self.start_lr/1000\n",
    "        self.iteration=0\n",
    "     \n",
    "    def interpolate(self,iter1,iter2,rate1,rate2):\n",
    "        temp1=((rate2-rate1)/(iter2-iter1))*(self.iteration-iter1)\n",
    "        temp2=rate1+temp1\n",
    "        return temp2\n",
    "    \n",
    "    def on_batch_begin(self,batch,logs):\n",
    "        \n",
    "        if self.iteration<self.half_iteration:\n",
    "            rate=self.interpolate(0,self.half_iteration,self.start_lr,self.max_lr)\n",
    "        \n",
    "        elif self.iteration <2*self.half_iteration:\n",
    "            \n",
    "            rate=self.interpolate(self.half_iteration,2*self.half_iteration,self.max_lr,self.start_lr)\n",
    "\n",
    "            \n",
    "        else:\n",
    "            rate=self.interpolate(2*self.half_iteration,self.iterations,self.start_lr,self.last_lr)\n",
    "            rate=max(rate,self.last_lr)\n",
    "            \n",
    "        \n",
    "        self.iteration+=1\n",
    "        K.set_value(self.model.optimizer.lr,rate)\n",
    "        \n",
    "onec=OneCycleScheduler(iterations=iterations,max_lr=max_lr)        "
   ]
  },
  {
   "cell_type": "code",
   "execution_count": 8,
   "metadata": {},
   "outputs": [],
   "source": [
    "import tensorflow as tf\n",
    "class custom_escb(tf.keras.callbacks.EarlyStopping):\n",
    "    def __init__(self,monitor='val_loss', min_delta=0, patience=10, verbose=2, mode='auto',baseline=None, restore_best_weights=True,start_epoch=50):\n",
    "        super(custom_escb,self).__init__()\n",
    "        self.monitor=monitor\n",
    "        self.patience=patience\n",
    "        self.verbose=verbose\n",
    "        self.start_epoch=start_epoch\n",
    "                \n",
    "    def on_epoch_end(self,epoch,logs=None):\n",
    "        if(epoch>self.start_epoch):\n",
    "            super().on_epoch_end(epoch,logs)\n",
    "cescb=custom_escb()       "
   ]
  },
  {
   "cell_type": "code",
   "execution_count": 9,
   "metadata": {},
   "outputs": [
    {
     "name": "stdout",
     "output_type": "stream",
     "text": [
      "Train on 40000 samples, validate on 10000 samples\n",
      "Epoch 1/500\n",
      "40000/40000 [==============================] - 32s 801us/sample - loss: 3.4516 - accuracy: 0.1018 - val_loss: 3.3738 - val_accuracy: 0.1025\n",
      "Epoch 2/500\n",
      "40000/40000 [==============================] - 26s 641us/sample - loss: 3.2636 - accuracy: 0.1004 - val_loss: 3.2075 - val_accuracy: 0.1022\n",
      "Epoch 3/500\n",
      "40000/40000 [==============================] - 25s 636us/sample - loss: 3.1253 - accuracy: 0.1042 - val_loss: 3.0894 - val_accuracy: 0.1047\n",
      "Epoch 4/500\n",
      "40000/40000 [==============================] - 32s 804us/sample - loss: 3.0264 - accuracy: 0.1051 - val_loss: 2.9796 - val_accuracy: 0.1060\n",
      "Epoch 5/500\n",
      "40000/40000 [==============================] - 36s 900us/sample - loss: 2.8982 - accuracy: 0.1136 - val_loss: 2.8840 - val_accuracy: 0.1146\n",
      "Epoch 6/500\n",
      "40000/40000 [==============================] - 36s 905us/sample - loss: 2.7771 - accuracy: 0.1239 - val_loss: 2.7362 - val_accuracy: 0.1292\n",
      "Epoch 7/500\n",
      "40000/40000 [==============================] - 36s 908us/sample - loss: 2.6663 - accuracy: 0.1352 - val_loss: 2.6422 - val_accuracy: 0.1348\n",
      "Epoch 8/500\n",
      "40000/40000 [==============================] - 36s 908us/sample - loss: 2.5571 - accuracy: 0.1457 - val_loss: 2.5116 - val_accuracy: 0.1446\n",
      "Epoch 9/500\n",
      "40000/40000 [==============================] - 36s 909us/sample - loss: 2.4843 - accuracy: 0.1493 - val_loss: 2.4427 - val_accuracy: 0.1479\n",
      "Epoch 10/500\n",
      "40000/40000 [==============================] - 36s 911us/sample - loss: 2.3927 - accuracy: 0.1583 - val_loss: 2.3738 - val_accuracy: 0.1587\n",
      "Epoch 11/500\n",
      "40000/40000 [==============================] - 36s 908us/sample - loss: 2.3273 - accuracy: 0.1637 - val_loss: 2.2779 - val_accuracy: 0.1715\n",
      "Epoch 12/500\n",
      "40000/40000 [==============================] - 36s 909us/sample - loss: 2.2370 - accuracy: 0.1845 - val_loss: 2.2046 - val_accuracy: 0.1840\n",
      "Epoch 13/500\n",
      "40000/40000 [==============================] - 36s 906us/sample - loss: 2.1607 - accuracy: 0.2055 - val_loss: 2.1259 - val_accuracy: 0.2073\n",
      "Epoch 14/500\n",
      "40000/40000 [==============================] - 36s 909us/sample - loss: 2.1048 - accuracy: 0.2194 - val_loss: 2.0588 - val_accuracy: 0.2268\n",
      "Epoch 15/500\n",
      "40000/40000 [==============================] - 36s 908us/sample - loss: 2.0547 - accuracy: 0.2249 - val_loss: 2.0256 - val_accuracy: 0.2399\n",
      "Epoch 16/500\n",
      "40000/40000 [==============================] - 36s 910us/sample - loss: 2.0028 - accuracy: 0.2435 - val_loss: 1.9579 - val_accuracy: 0.2617\n",
      "Epoch 17/500\n",
      "40000/40000 [==============================] - 36s 909us/sample - loss: 1.9383 - accuracy: 0.2714 - val_loss: 1.9139 - val_accuracy: 0.2740\n",
      "Epoch 18/500\n",
      "40000/40000 [==============================] - 36s 911us/sample - loss: 1.8907 - accuracy: 0.2938 - val_loss: 1.8595 - val_accuracy: 0.3082\n",
      "Epoch 19/500\n",
      "40000/40000 [==============================] - 36s 910us/sample - loss: 1.8442 - accuracy: 0.3158 - val_loss: 1.8071 - val_accuracy: 0.3345\n",
      "Epoch 20/500\n",
      "40000/40000 [==============================] - 36s 912us/sample - loss: 1.7999 - accuracy: 0.3382 - val_loss: 1.7773 - val_accuracy: 0.3481\n",
      "Epoch 21/500\n",
      "40000/40000 [==============================] - 36s 912us/sample - loss: 1.7639 - accuracy: 0.3511 - val_loss: 1.7532 - val_accuracy: 0.3608\n",
      "Epoch 22/500\n",
      "40000/40000 [==============================] - 37s 913us/sample - loss: 1.7339 - accuracy: 0.3648 - val_loss: 1.7069 - val_accuracy: 0.3831\n",
      "Epoch 23/500\n",
      "40000/40000 [==============================] - 37s 914us/sample - loss: 1.6990 - accuracy: 0.3839 - val_loss: 1.6964 - val_accuracy: 0.3889\n",
      "Epoch 24/500\n",
      "40000/40000 [==============================] - 37s 913us/sample - loss: 1.6739 - accuracy: 0.3963 - val_loss: 1.6667 - val_accuracy: 0.3993\n",
      "Epoch 25/500\n",
      "40000/40000 [==============================] - 36s 904us/sample - loss: 1.6474 - accuracy: 0.4076 - val_loss: 1.6479 - val_accuracy: 0.4113\n",
      "Epoch 26/500\n",
      "40000/40000 [==============================] - 36s 912us/sample - loss: 1.6247 - accuracy: 0.4151 - val_loss: 1.6279 - val_accuracy: 0.4211\n",
      "Epoch 27/500\n",
      "40000/40000 [==============================] - 36s 912us/sample - loss: 1.5973 - accuracy: 0.4275 - val_loss: 1.6001 - val_accuracy: 0.4403\n",
      "Epoch 28/500\n",
      "40000/40000 [==============================] - 36s 910us/sample - loss: 1.5820 - accuracy: 0.4338 - val_loss: 1.6007 - val_accuracy: 0.4330\n",
      "Epoch 29/500\n",
      "40000/40000 [==============================] - 36s 912us/sample - loss: 1.5679 - accuracy: 0.4393 - val_loss: 1.5904 - val_accuracy: 0.4391\n",
      "Epoch 30/500\n",
      "40000/40000 [==============================] - 36s 908us/sample - loss: 1.5501 - accuracy: 0.4461 - val_loss: 1.5927 - val_accuracy: 0.4347\n",
      "Epoch 31/500\n",
      "40000/40000 [==============================] - 36s 910us/sample - loss: 1.5290 - accuracy: 0.4525 - val_loss: 1.5817 - val_accuracy: 0.4418\n",
      "Epoch 32/500\n",
      "40000/40000 [==============================] - 36s 909us/sample - loss: 1.5146 - accuracy: 0.4594 - val_loss: 1.5658 - val_accuracy: 0.4459\n",
      "Epoch 33/500\n",
      "40000/40000 [==============================] - 36s 911us/sample - loss: 1.5061 - accuracy: 0.4619 - val_loss: 1.5648 - val_accuracy: 0.4483\n",
      "Epoch 34/500\n",
      "40000/40000 [==============================] - 36s 911us/sample - loss: 1.4843 - accuracy: 0.4687 - val_loss: 1.5432 - val_accuracy: 0.4545\n",
      "Epoch 35/500\n",
      "40000/40000 [==============================] - 36s 910us/sample - loss: 1.4737 - accuracy: 0.4764 - val_loss: 1.5367 - val_accuracy: 0.4564\n",
      "Epoch 36/500\n",
      "40000/40000 [==============================] - 37s 930us/sample - loss: 1.4651 - accuracy: 0.4796 - val_loss: 1.5403 - val_accuracy: 0.4588\n",
      "Epoch 37/500\n",
      "40000/40000 [==============================] - 37s 921us/sample - loss: 1.4506 - accuracy: 0.4832 - val_loss: 1.5292 - val_accuracy: 0.4608\n",
      "Epoch 38/500\n",
      "40000/40000 [==============================] - 37s 926us/sample - loss: 1.4404 - accuracy: 0.4871 - val_loss: 1.5277 - val_accuracy: 0.4526\n",
      "Epoch 39/500\n",
      "40000/40000 [==============================] - 37s 922us/sample - loss: 1.4304 - accuracy: 0.4926 - val_loss: 1.5247 - val_accuracy: 0.4641\n",
      "Epoch 40/500\n",
      "40000/40000 [==============================] - 37s 927us/sample - loss: 1.4208 - accuracy: 0.4974 - val_loss: 1.5173 - val_accuracy: 0.4681\n",
      "Epoch 41/500\n",
      "40000/40000 [==============================] - 37s 922us/sample - loss: 1.4106 - accuracy: 0.5005 - val_loss: 1.5130 - val_accuracy: 0.4644\n",
      "Epoch 42/500\n",
      "40000/40000 [==============================] - 37s 922us/sample - loss: 1.3992 - accuracy: 0.5037 - val_loss: 1.5176 - val_accuracy: 0.4673\n",
      "Epoch 43/500\n",
      "40000/40000 [==============================] - 37s 926us/sample - loss: 1.4009 - accuracy: 0.5024 - val_loss: 1.5148 - val_accuracy: 0.4701\n",
      "Epoch 44/500\n",
      "40000/40000 [==============================] - 37s 924us/sample - loss: 1.3869 - accuracy: 0.5081 - val_loss: 1.5226 - val_accuracy: 0.4691\n",
      "Epoch 45/500\n",
      "40000/40000 [==============================] - 37s 928us/sample - loss: 1.3861 - accuracy: 0.5102 - val_loss: 1.5158 - val_accuracy: 0.4701\n",
      "Epoch 46/500\n",
      "40000/40000 [==============================] - 37s 925us/sample - loss: 1.3870 - accuracy: 0.5085 - val_loss: 1.5114 - val_accuracy: 0.4706\n",
      "Epoch 47/500\n",
      "40000/40000 [==============================] - 37s 933us/sample - loss: 1.3813 - accuracy: 0.5128 - val_loss: 1.5170 - val_accuracy: 0.4700\n",
      "Epoch 48/500\n",
      "40000/40000 [==============================] - 37s 930us/sample - loss: 1.3661 - accuracy: 0.5185 - val_loss: 1.5071 - val_accuracy: 0.4792\n",
      "Epoch 49/500\n",
      "40000/40000 [==============================] - 37s 937us/sample - loss: 1.3718 - accuracy: 0.5150 - val_loss: 1.5037 - val_accuracy: 0.4717\n",
      "Epoch 50/500\n",
      "40000/40000 [==============================] - 37s 922us/sample - loss: 1.3693 - accuracy: 0.5132 - val_loss: 1.5100 - val_accuracy: 0.4741\n",
      "Epoch 51/500\n",
      "40000/40000 [==============================] - 37s 929us/sample - loss: 1.3709 - accuracy: 0.5145 - val_loss: 1.5124 - val_accuracy: 0.4753\n",
      "Epoch 52/500\n",
      "40000/40000 [==============================] - 37s 923us/sample - loss: 1.3707 - accuracy: 0.5151 - val_loss: 1.5093 - val_accuracy: 0.4690\n",
      "Epoch 53/500\n",
      "40000/40000 [==============================] - 38s 938us/sample - loss: 1.3703 - accuracy: 0.5134 - val_loss: 1.5039 - val_accuracy: 0.4749\n",
      "Epoch 54/500\n"
     ]
    },
    {
     "name": "stdout",
     "output_type": "stream",
     "text": [
      "40000/40000 [==============================] - 36s 904us/sample - loss: 1.3673 - accuracy: 0.5152 - val_loss: 1.5149 - val_accuracy: 0.4691\n",
      "Epoch 55/500\n",
      "40000/40000 [==============================] - 36s 902us/sample - loss: 1.3712 - accuracy: 0.5112 - val_loss: 1.5073 - val_accuracy: 0.4709\n",
      "Epoch 56/500\n",
      "40000/40000 [==============================] - 37s 919us/sample - loss: 1.3689 - accuracy: 0.5128 - val_loss: 1.5072 - val_accuracy: 0.4723\n",
      "Epoch 57/500\n",
      "40000/40000 [==============================] - 37s 915us/sample - loss: 1.3707 - accuracy: 0.5155 - val_loss: 1.5031 - val_accuracy: 0.4749\n",
      "Epoch 58/500\n",
      "40000/40000 [==============================] - 37s 924us/sample - loss: 1.3712 - accuracy: 0.5152 - val_loss: 1.5144 - val_accuracy: 0.4692\n",
      "Epoch 59/500\n",
      "40000/40000 [==============================] - 37s 922us/sample - loss: 1.3678 - accuracy: 0.5179 - val_loss: 1.5085 - val_accuracy: 0.4645\n",
      "Epoch 60/500\n",
      "40000/40000 [==============================] - 37s 928us/sample - loss: 1.3702 - accuracy: 0.5159 - val_loss: 1.5157 - val_accuracy: 0.4686\n",
      "Epoch 61/500\n",
      "40000/40000 [==============================] - 37s 930us/sample - loss: 1.3706 - accuracy: 0.5120 - val_loss: 1.5113 - val_accuracy: 0.4694\n",
      "Epoch 62/500\n",
      "40000/40000 [==============================] - 37s 920us/sample - loss: 1.3705 - accuracy: 0.5147 - val_loss: 1.5063 - val_accuracy: 0.4758\n",
      "Epoch 63/500\n",
      "40000/40000 [==============================] - 37s 930us/sample - loss: 1.3676 - accuracy: 0.5156 - val_loss: 1.5066 - val_accuracy: 0.4747\n",
      "Epoch 64/500\n",
      "40000/40000 [==============================] - 37s 921us/sample - loss: 1.3734 - accuracy: 0.5117 - val_loss: 1.5105 - val_accuracy: 0.4725\n",
      "Epoch 65/500\n",
      "40000/40000 [==============================] - 38s 938us/sample - loss: 1.3712 - accuracy: 0.5123 - val_loss: 1.5183 - val_accuracy: 0.4673\n",
      "Epoch 66/500\n",
      "40000/40000 [==============================] - 37s 926us/sample - loss: 1.3766 - accuracy: 0.5154 - val_loss: 1.5091 - val_accuracy: 0.4696\n",
      "Epoch 67/500\n",
      "40000/40000 [==============================] - 37s 927us/sample - loss: 1.3663 - accuracy: 0.5145 - val_loss: 1.4990 - val_accuracy: 0.4756\n",
      "Epoch 68/500\n",
      "40000/40000 [==============================] - 37s 931us/sample - loss: 1.3701 - accuracy: 0.5167 - val_loss: 1.5013 - val_accuracy: 0.4754\n",
      "Epoch 69/500\n",
      "40000/40000 [==============================] - 38s 943us/sample - loss: 1.3685 - accuracy: 0.5132 - val_loss: 1.5073 - val_accuracy: 0.4751\n",
      "Epoch 70/500\n",
      "40000/40000 [==============================] - 37s 921us/sample - loss: 1.3724 - accuracy: 0.5149 - val_loss: 1.5163 - val_accuracy: 0.4721\n",
      "Epoch 71/500\n",
      "40000/40000 [==============================] - 37s 922us/sample - loss: 1.3684 - accuracy: 0.5140 - val_loss: 1.5041 - val_accuracy: 0.4754\n",
      "Epoch 72/500\n",
      "40000/40000 [==============================] - 37s 922us/sample - loss: 1.3663 - accuracy: 0.5160 - val_loss: 1.5067 - val_accuracy: 0.4712\n",
      "Epoch 73/500\n",
      "40000/40000 [==============================] - 37s 921us/sample - loss: 1.3702 - accuracy: 0.5151 - val_loss: 1.5169 - val_accuracy: 0.4647\n",
      "Epoch 74/500\n",
      "40000/40000 [==============================] - 38s 949us/sample - loss: 1.3684 - accuracy: 0.5157 - val_loss: 1.5087 - val_accuracy: 0.4767\n",
      "Epoch 75/500\n",
      "40000/40000 [==============================] - 37s 924us/sample - loss: 1.3696 - accuracy: 0.5141 - val_loss: 1.5021 - val_accuracy: 0.4711\n",
      "Epoch 76/500\n",
      "40000/40000 [==============================] - 37s 932us/sample - loss: 1.3679 - accuracy: 0.5166 - val_loss: 1.5098 - val_accuracy: 0.4750\n",
      "Epoch 77/500\n",
      "40000/40000 [==============================] - 37s 923us/sample - loss: 1.3722 - accuracy: 0.5155 - val_loss: 1.5077 - val_accuracy: 0.4738\n",
      "Epoch 00077: early stopping\n"
     ]
    }
   ],
   "source": [
    "escb=tensorflow.keras.callbacks.EarlyStopping(monitor='val_accuracy',patience=10,verbose=2,restore_best_weights=True)\n",
    "history=model1.fit(initial_epoch=0,x=x_train,y=y_train,epochs=ep,validation_data=(x_val,y_val),batch_size=32,callbacks=[onec,cescb])#"
   ]
  },
  {
   "cell_type": "code",
   "execution_count": 10,
   "metadata": {
    "scrolled": true
   },
   "outputs": [
    {
     "data": {
      "image/png": "[encoded data removed]",
      "text/plain": [
       "<Figure size 576x360 with 1 Axes>"
      ]
     },
     "metadata": {
      "needs_background": "light"
     },
     "output_type": "display_data"
    }
   ],
   "source": [
    "keras_plotter(history)"
   ]
  },
  {
   "cell_type": "code",
   "execution_count": 11,
   "metadata": {},
   "outputs": [
    {
     "name": "stdout",
     "output_type": "stream",
     "text": [
      "Train Accuracy 0.55655\n"
     ]
    }
   ],
   "source": [
    "import numpy as np\n",
    "y_pred=model1.predict(x_train)\n",
    "y_pred_sparse=np.argmax(y_pred,axis=1)\n",
    "y_train_sparse=np.argmax(y_train,axis=1)\n",
    "from sklearn.metrics import accuracy_score\n",
    "acc=accuracy_score(y_train_sparse,y_pred_sparse)\n",
    "print(\"Train Accuracy\",acc)"
   ]
  },
  {
   "cell_type": "code",
   "execution_count": 12,
   "metadata": {},
   "outputs": [
    {
     "name": "stdout",
     "output_type": "stream",
     "text": [
      "Validation Loss 0.4744\n"
     ]
    }
   ],
   "source": [
    "import numpy as np\n",
    "y_pred=model1.predict(x_val)\n",
    "y_pred_sparse=np.argmax(y_pred,axis=1)\n",
    "y_val_sparse=np.argmax(y_val,axis=1)\n",
    "from sklearn.metrics import accuracy_score\n",
    "acc=accuracy_score(y_val_sparse,y_pred_sparse)\n",
    "print(\"Validation Loss\",acc)"
   ]
  },
  {
   "cell_type": "code",
   "execution_count": 13,
   "metadata": {},
   "outputs": [
    {
     "name": "stdout",
     "output_type": "stream",
     "text": [
      "Test Accuracy 0.4799\n"
     ]
    }
   ],
   "source": [
    "import numpy as np\n",
    "y_pred=model1.predict(x_test)\n",
    "y_pred_sparse=np.argmax(y_pred,axis=1)\n",
    "y_test_sparse=np.argmax(y_test,axis=1)\n",
    "from sklearn.metrics import accuracy_score\n",
    "acc=accuracy_score(y_test_sparse,y_pred_sparse)\n",
    "print(\"Test Accuracy\",acc)"
   ]
  },
  {
   "cell_type": "code",
   "execution_count": 14,
   "metadata": {},
   "outputs": [
    {
     "name": "stdout",
     "output_type": "stream",
     "text": [
      "test\n",
      "MC Dropout Test Loss 0.511\n"
     ]
    }
   ],
   "source": [
    "def mc_droupout(model1,x_test,y_test):\n",
    "    \n",
    "    num_iter=100\n",
    "    print(\"test\")\n",
    "    y_prob_pred_temp=np.zeros((10000,10,num_iter))\n",
    "\n",
    "    for i in range(num_iter):\n",
    "\n",
    "        y_prob_pred_temp[:,:,i]=model1.predict(x_test)\n",
    "\n",
    "    y_prob_pred=y_prob_pred_temp.mean(axis=2)\n",
    "    y_prob_pred_sparse=np.argmax(y_prob_pred,axis=1)\n",
    "    return y_prob_pred_sparse\n",
    "\n",
    "y_prob_pred_sparse=mc_droupout(model1,x_test,y_test)\n",
    "y_test_sparse=np.argmax(y_test,axis=1)\n",
    "    \n",
    "from sklearn.metrics import accuracy_score\n",
    "acc=accuracy_score(y_test_sparse,y_prob_pred_sparse)\n",
    "print(\"MC Dropout Test Loss\",acc)\n"
   ]
  },
  {
   "cell_type": "code",
   "execution_count": null,
   "metadata": {},
   "outputs": [],
   "source": []
  }
 ],
 "metadata": {
  "kernelspec": {
   "display_name": "Python 3",
   "language": "python",
   "name": "python3"
  },
  "language_info": {
   "codemirror_mode": {
    "name": "ipython",
    "version": 3
   },
   "file_extension": ".py",
   "mimetype": "text/x-python",
   "name": "python",
   "nbconvert_exporter": "python",
   "pygments_lexer": "ipython3",
   "version": "3.7.6"
  }
 },
 "nbformat": 4,
 "nbformat_minor": 4
}
