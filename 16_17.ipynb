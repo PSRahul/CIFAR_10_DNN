{
 "cells": [
  {
   "cell_type": "code",
   "execution_count": 1,
   "metadata": {},
   "outputs": [],
   "source": [
    "def keras_plotter(history):\n",
    "    import pandas as pd\n",
    "    import matplotlib.pyplot as plt\n",
    "    \n",
    "    pd.DataFrame(history.history).plot(figsize=(8,5))\n",
    "    plt.grid(True)\n",
    "    plt.gca().set_ylim(0,2)\n",
    "    plt.savefig(\"9_t.jpeg\")\n",
    "    plt.show()\n",
    "   "
   ]
  },
  {
   "cell_type": "code",
   "execution_count": 2,
   "metadata": {},
   "outputs": [],
   "source": [
    "import tensorflow as tf\n",
    "from tensorflow import keras\n",
    "from tensorflow.keras.datasets import cifar10\n",
    "\n",
    "(x_train_val, y_train_val), (x_test, y_test) = cifar10.load_data()\n",
    "\n",
    "from sklearn.model_selection import StratifiedShuffleSplit\n",
    "strat_split=StratifiedShuffleSplit(n_splits=1,test_size=0.2)\n",
    "for train_index,test_index in strat_split.split(x_train_val,y_train_val):\n",
    "    x_train,y_train=x_train_val[train_index],y_train_val[train_index]\n",
    "    x_val,y_val=x_train_val[test_index],y_train_val[test_index]\n",
    "    \n",
    "x_train_val=x_train_val.reshape((50000,3072))\n",
    "x_train=x_train.reshape((40000,3072))\n",
    "x_val=x_val.reshape((10000,3072))\n",
    "x_test=x_test.reshape((10000,3072))\n",
    "\n",
    "from sklearn.preprocessing import StandardScaler\n",
    "sta_scal=StandardScaler()\n",
    "sta_scal.fit(x_train)\n",
    "x_train_val=sta_scal.transform(x_train_val)\n",
    "x_train=sta_scal.transform(x_train)\n",
    "x_val=sta_scal.transform(x_val)\n",
    "x_test=sta_scal.transform(x_test)\n",
    "\n",
    "\n",
    "x_train_val=x_train_val.reshape((50000,32, 32, 3))\n",
    "x_train=x_train.reshape((40000,32, 32, 3))\n",
    "x_val=x_val.reshape((10000,32, 32, 3))\n",
    "x_test=x_test.reshape((10000,32, 32, 3))\n",
    "\n",
    "\n",
    "y_train_val=keras.utils.to_categorical(y_train_val,10)\n",
    "y_train=keras.utils.to_categorical(y_train,10)\n",
    "y_val=keras.utils.to_categorical(y_val,10)\n",
    "y_test=keras.utils.to_categorical(y_test,10)\n"
   ]
  },
  {
   "cell_type": "code",
   "execution_count": 3,
   "metadata": {},
   "outputs": [],
   "source": [
    "#HyperParameters Definition\n",
    "import tensorflow\n",
    "n_hidden=20\n",
    "n_units=200\n",
    "act='elu'\n",
    "out_act='softmax'\n",
    "init='he_normal'\n",
    "init_lr=0.0001\n",
    "loss_def='categorical_crossentropy'\n",
    "ep=500\n",
    "ep_int=50\n",
    "bat_size=32\n",
    "max_lr=0.0001\n",
    "iterations=len(x_train)//bat_size*ep_int\n",
    "opt=tensorflow.keras.optimizers.Nadam(learning_rate=0.0001)\n",
    "loss=tensorflow.keras.losses.categorical_crossentropy"
   ]
  },
  {
   "cell_type": "code",
   "execution_count": 4,
   "metadata": {},
   "outputs": [],
   "source": [
    "#Model Definition\n",
    "import tensorflow as tf\n",
    "from tensorflow import keras\n",
    "#model1=Sequential()\n",
    "ins=tf.keras.layers.Input(shape=x_train.shape[1:])\n",
    "layer1=tf.keras.layers.Flatten(input_shape=x_train.shape[1:])(ins)\n",
    "layer1=tf.keras.layers.Dense(units=n_units,activation=act,kernel_initializer=init)(layer1)\n",
    "layer1=tf.keras.layers.BatchNormalization()(layer1)\n",
    "for i in range(n_hidden-1):\n",
    "    layer1=tf.keras.layers.Dense(units=n_units,activation=act,kernel_initializer=init)(layer1)\n",
    "    layer1=tf.keras.layers.BatchNormalization()(layer1)\n",
    "   #if(i%3)==0:\n",
    "    layer1=tf.keras.layers.Dropout(0.3)(layer1,training=True)\n",
    "  \n",
    "outs = tf.keras.layers.Dense(units=10,activation=out_act,kernel_initializer=init)(layer1)\n",
    "model1=tf.keras.Model(inputs=ins,outputs=outs)\n",
    "model1.compile(optimizer=opt,loss=loss_def,metrics=['accuracy'])\n",
    "#model1.add()    "
   ]
  },
  {
   "cell_type": "code",
   "execution_count": 5,
   "metadata": {},
   "outputs": [
    {
     "data": {
      "text/plain": [
       "\"\\n#Model Definition\\n\\nmodel1=tensorflow.keras.models.Sequential()\\nmodel1.add(tensorflow.keras.layers.Flatten(input_shape=x_train.shape[1:]))\\n\\nfor i in range(n_hidden):\\n    model1.add(tensorflow.keras.layers.Dense(units=n_units,activation=act,kernel_initializer=init,kernel_regularizer=keras.regularizers.l2(0.01)))\\n\\nmodel1.add(tensorflow.keras.layers.Dense(units=10,activation=out_act,kernel_initializer=init,kernel_regularizer=keras.regularizers.l2(0.01)))   \\nmodel1.compile(optimizer=opt,loss=loss_def,metrics=['accuracy'])\\n\""
      ]
     },
     "execution_count": 5,
     "metadata": {},
     "output_type": "execute_result"
    }
   ],
   "source": [
    "'''\n",
    "#Model Definition\n",
    "\n",
    "model1=tensorflow.keras.models.Sequential()\n",
    "model1.add(tensorflow.keras.layers.Flatten(input_shape=x_train.shape[1:]))\n",
    "\n",
    "for i in range(n_hidden):\n",
    "    model1.add(tensorflow.keras.layers.Dense(units=n_units,activation=act,kernel_initializer=init,kernel_regularizer=keras.regularizers.l2(0.01)))\n",
    "\n",
    "model1.add(tensorflow.keras.layers.Dense(units=10,activation=out_act,kernel_initializer=init,kernel_regularizer=keras.regularizers.l2(0.01)))   \n",
    "model1.compile(optimizer=opt,loss=loss_def,metrics=['accuracy'])\n",
    "'''"
   ]
  },
  {
   "cell_type": "code",
   "execution_count": 6,
   "metadata": {},
   "outputs": [
    {
     "name": "stdout",
     "output_type": "stream",
     "text": [
      "Train on 40000 samples\n",
      "40000/40000 [==============================] - 34s 860us/sample - loss: 9854.2688 - accuracy: 0.1125\n"
     ]
    },
    {
     "data": {
      "image/png": "[encoded data removed]",
      "text/plain": [
       "<Figure size 432x288 with 1 Axes>"
      ]
     },
     "metadata": {
      "needs_background": "light"
     },
     "output_type": "display_data"
    }
   ],
   "source": [
    "import tensorflow as tf\n",
    "from tensorflow import keras\n",
    "model2=tf.keras.models.clone_model(model1)\n",
    "model2.compile(optimizer=opt,loss=loss_def,metrics=['accuracy'])\n",
    "K=tf.keras.backend\n",
    "\n",
    "class explr(keras.callbacks.Callback):\n",
    "    def __init__(self,factor):\n",
    "        self.factor=factor\n",
    "        self.rates=[]\n",
    "        self.losses=[]\n",
    "    \n",
    "    def on_batch_end(self,batch,logs):\n",
    "        self.rates.append(K.get_value(self.model.optimizer.lr))\n",
    "        self.losses.append(logs['loss'])\n",
    "        K.set_value(self.model.optimizer.lr,self.model.optimizer.lr*self.factor)\n",
    "    \n",
    "\n",
    "def lr_finder(model,x,y,epochs=1,batch_size=32,min_rate=1e-5,max_rate=10):\n",
    "    import numpy as np\n",
    "    init_w=model.get_weights()\n",
    "    init_lr=K.get_value(model.optimizer.lr)\n",
    "    iterations=len(x)//batch_size*epochs\n",
    "    factor=np.exp(np.log(max_rate/min_rate)/iterations)\n",
    "    K.set_value(model.optimizer.lr,min_rate)\n",
    "   \n",
    "    \n",
    "    exp_lr=explr(factor)\n",
    "    model.fit(x,y,epochs=epochs,batch_size=batch_size,callbacks=[exp_lr])\n",
    "    model.set_weights(init_w)\n",
    "    K.set_value(model.optimizer.lr,init_lr)\n",
    "    rates=exp_lr.rates\n",
    "    losses=exp_lr.losses\n",
    "   \n",
    "    \n",
    "    import matplotlib.pyplot as plt\n",
    "    plt.plot(rates,losses)\n",
    "    plt.gca().set_xscale(\"log\")\n",
    "    plt.hlines(min(losses),min(rates),max(rates))\n",
    "    plt.axis([min(rates),max(rates),min(losses),15])\n",
    "    plt.xlabel(\"Learning Rate\")\n",
    "    \n",
    "\n",
    "lr_finder(model2,x_train,y_train,epochs=1,batch_size=32,min_rate=1e-5,max_rate=15)"
   ]
  },
  {
   "cell_type": "code",
   "execution_count": 7,
   "metadata": {},
   "outputs": [],
   "source": [
    "import tensorflow as tf\n",
    "from tensorflow import keras\n",
    "K=tf.keras.backend\n",
    "class OneCycleScheduler(keras.callbacks.Callback):\n",
    "    def __init__(self,iterations,max_lr,start_lr=None,last_iterations=None,last_lr=None):\n",
    "        self.iterations=iterations\n",
    "        self.max_lr=max_lr\n",
    "        self.start_lr=start_lr or max_lr/10\n",
    "        self.last_iterations=last_iterations or iterations//10+1\n",
    "        self.half_iteration=(iterations-self.last_iterations)//2\n",
    "        self.last_lr=last_lr or self.start_lr/1000\n",
    "        self.iteration=0\n",
    "     \n",
    "    def interpolate(self,iter1,iter2,rate1,rate2):\n",
    "        temp1=((rate2-rate1)/(iter2-iter1))*(self.iteration-iter1)\n",
    "        temp2=rate1+temp1\n",
    "        return temp2\n",
    "    \n",
    "    def on_batch_begin(self,batch,logs):\n",
    "        \n",
    "        if self.iteration<self.half_iteration:\n",
    "            rate=self.interpolate(0,self.half_iteration,self.start_lr,self.max_lr)\n",
    "        \n",
    "        elif self.iteration <2*self.half_iteration:\n",
    "            \n",
    "            rate=self.interpolate(self.half_iteration,2*self.half_iteration,self.max_lr,self.start_lr)\n",
    "\n",
    "            \n",
    "        else:\n",
    "            rate=self.interpolate(2*self.half_iteration,self.iterations,self.start_lr,self.last_lr)\n",
    "            rate=max(rate,self.last_lr)\n",
    "            \n",
    "        \n",
    "        self.iteration+=1\n",
    "        K.set_value(self.model.optimizer.lr,rate)\n",
    "        \n",
    "onec=OneCycleScheduler(iterations=iterations,max_lr=max_lr)        "
   ]
  },
  {
   "cell_type": "code",
   "execution_count": 8,
   "metadata": {},
   "outputs": [],
   "source": [
    "import tensorflow as tf\n",
    "class custom_escb(tf.keras.callbacks.EarlyStopping):\n",
    "    def __init__(self,monitor='val_loss', min_delta=0, patience=10, verbose=2, mode='auto',baseline=None, restore_best_weights=True,start_epoch=50):\n",
    "        super(custom_escb,self).__init__()\n",
    "        self.monitor=monitor\n",
    "        self.patience=patience\n",
    "        self.verbose=verbose\n",
    "        self.start_epoch=start_epoch\n",
    "                \n",
    "    def on_epoch_end(self,epoch,logs=None):\n",
    "        if(epoch>self.start_epoch):\n",
    "            super().on_epoch_end(epoch,logs)\n",
    "cescb=custom_escb()       "
   ]
  },
  {
   "cell_type": "code",
   "execution_count": 9,
   "metadata": {},
   "outputs": [
    {
     "name": "stdout",
     "output_type": "stream",
     "text": [
      "Train on 40000 samples, validate on 10000 samples\n",
      "Epoch 1/500\n",
      "40000/40000 [==============================] - 35s 872us/sample - loss: 3.2253 - accuracy: 0.0988 - val_loss: 3.2134 - val_accuracy: 0.0967\n",
      "Epoch 2/500\n",
      "40000/40000 [==============================] - 30s 758us/sample - loss: 3.0702 - accuracy: 0.0987 - val_loss: 3.0653 - val_accuracy: 0.1005\n",
      "Epoch 3/500\n",
      "40000/40000 [==============================] - 29s 713us/sample - loss: 2.9396 - accuracy: 0.1019 - val_loss: 2.9544 - val_accuracy: 0.0978\n",
      "Epoch 4/500\n",
      "40000/40000 [==============================] - 26s 661us/sample - loss: 2.8527 - accuracy: 0.1003 - val_loss: 2.8440 - val_accuracy: 0.1031\n",
      "Epoch 5/500\n",
      "40000/40000 [==============================] - 26s 662us/sample - loss: 2.7770 - accuracy: 0.1009 - val_loss: 2.7747 - val_accuracy: 0.1013\n",
      "Epoch 6/500\n",
      "40000/40000 [==============================] - 27s 668us/sample - loss: 2.7125 - accuracy: 0.1020 - val_loss: 2.7152 - val_accuracy: 0.1018\n",
      "Epoch 7/500\n",
      "40000/40000 [==============================] - 27s 672us/sample - loss: 2.6605 - accuracy: 0.1014 - val_loss: 2.6721 - val_accuracy: 0.0983\n",
      "Epoch 8/500\n",
      "40000/40000 [==============================] - 27s 668us/sample - loss: 2.6179 - accuracy: 0.0997 - val_loss: 2.6232 - val_accuracy: 0.1016\n",
      "Epoch 9/500\n",
      "40000/40000 [==============================] - 38s 938us/sample - loss: 2.5768 - accuracy: 0.0999 - val_loss: 2.5787 - val_accuracy: 0.0996\n",
      "Epoch 10/500\n",
      "40000/40000 [==============================] - 38s 944us/sample - loss: 2.5382 - accuracy: 0.1034 - val_loss: 2.5322 - val_accuracy: 0.1018\n",
      "Epoch 11/500\n",
      "40000/40000 [==============================] - 38s 943us/sample - loss: 2.5056 - accuracy: 0.1010 - val_loss: 2.5132 - val_accuracy: 0.0940\n",
      "Epoch 12/500\n",
      "40000/40000 [==============================] - 38s 938us/sample - loss: 2.4780 - accuracy: 0.1036 - val_loss: 2.4853 - val_accuracy: 0.0996\n",
      "Epoch 13/500\n",
      "40000/40000 [==============================] - 38s 938us/sample - loss: 2.4455 - accuracy: 0.1073 - val_loss: 2.4264 - val_accuracy: 0.1142\n",
      "Epoch 14/500\n",
      "40000/40000 [==============================] - 38s 951us/sample - loss: 2.3832 - accuracy: 0.1226 - val_loss: 2.3358 - val_accuracy: 0.1403\n",
      "Epoch 15/500\n",
      "40000/40000 [==============================] - 39s 977us/sample - loss: 2.2951 - accuracy: 0.1435 - val_loss: 2.2396 - val_accuracy: 0.1552\n",
      "Epoch 16/500\n",
      "40000/40000 [==============================] - 39s 974us/sample - loss: 2.2279 - accuracy: 0.1549 - val_loss: 2.1944 - val_accuracy: 0.1566\n",
      "Epoch 17/500\n",
      "40000/40000 [==============================] - 42s 1ms/sample - loss: 2.1800 - accuracy: 0.1584 - val_loss: 2.1485 - val_accuracy: 0.1700\n",
      "Epoch 18/500\n",
      "40000/40000 [==============================] - 41s 1ms/sample - loss: 2.1440 - accuracy: 0.1681 - val_loss: 2.1119 - val_accuracy: 0.1705\n",
      "Epoch 19/500\n",
      "40000/40000 [==============================] - 41s 1ms/sample - loss: 2.1225 - accuracy: 0.1713 - val_loss: 2.0846 - val_accuracy: 0.1749\n",
      "Epoch 20/500\n",
      "40000/40000 [==============================] - 42s 1ms/sample - loss: 2.0918 - accuracy: 0.1743 - val_loss: 2.0634 - val_accuracy: 0.1759\n",
      "Epoch 21/500\n",
      "40000/40000 [==============================] - 41s 1ms/sample - loss: 2.0636 - accuracy: 0.1815 - val_loss: 2.0383 - val_accuracy: 0.1840\n",
      "Epoch 22/500\n",
      "40000/40000 [==============================] - 41s 1ms/sample - loss: 2.0451 - accuracy: 0.1922 - val_loss: 1.9971 - val_accuracy: 0.2064\n",
      "Epoch 23/500\n",
      "40000/40000 [==============================] - 41s 1ms/sample - loss: 1.9756 - accuracy: 0.2266 - val_loss: 1.9304 - val_accuracy: 0.2409\n",
      "Epoch 24/500\n",
      "40000/40000 [==============================] - 40s 989us/sample - loss: 1.9331 - accuracy: 0.2553 - val_loss: 1.8960 - val_accuracy: 0.2587\n",
      "Epoch 25/500\n",
      "40000/40000 [==============================] - 38s 961us/sample - loss: 1.9011 - accuracy: 0.2650 - val_loss: 1.8592 - val_accuracy: 0.2757\n",
      "Epoch 26/500\n",
      "40000/40000 [==============================] - 39s 986us/sample - loss: 1.8631 - accuracy: 0.2885 - val_loss: 1.8228 - val_accuracy: 0.3057\n",
      "Epoch 27/500\n",
      "40000/40000 [==============================] - 37s 937us/sample - loss: 1.8282 - accuracy: 0.3045 - val_loss: 1.7927 - val_accuracy: 0.3226\n",
      "Epoch 28/500\n",
      "40000/40000 [==============================] - 39s 965us/sample - loss: 1.7894 - accuracy: 0.3271 - val_loss: 1.7572 - val_accuracy: 0.3412\n",
      "Epoch 29/500\n",
      "40000/40000 [==============================] - 37s 921us/sample - loss: 1.7608 - accuracy: 0.3423 - val_loss: 1.7325 - val_accuracy: 0.3563\n",
      "Epoch 30/500\n",
      "40000/40000 [==============================] - 38s 947us/sample - loss: 1.7317 - accuracy: 0.3518 - val_loss: 1.7245 - val_accuracy: 0.3626\n",
      "Epoch 31/500\n",
      "40000/40000 [==============================] - 37s 918us/sample - loss: 1.7108 - accuracy: 0.3691 - val_loss: 1.6894 - val_accuracy: 0.3728\n",
      "Epoch 32/500\n",
      "40000/40000 [==============================] - 37s 918us/sample - loss: 1.6890 - accuracy: 0.3787 - val_loss: 1.6873 - val_accuracy: 0.3813\n",
      "Epoch 33/500\n",
      "40000/40000 [==============================] - 37s 918us/sample - loss: 1.6720 - accuracy: 0.3855 - val_loss: 1.6742 - val_accuracy: 0.3793\n",
      "Epoch 34/500\n",
      "40000/40000 [==============================] - 37s 919us/sample - loss: 1.6605 - accuracy: 0.3877 - val_loss: 1.6694 - val_accuracy: 0.3829\n",
      "Epoch 35/500\n",
      "40000/40000 [==============================] - 37s 919us/sample - loss: 1.6413 - accuracy: 0.3948 - val_loss: 1.6453 - val_accuracy: 0.3979\n",
      "Epoch 36/500\n",
      "40000/40000 [==============================] - 36s 911us/sample - loss: 1.6268 - accuracy: 0.4057 - val_loss: 1.6510 - val_accuracy: 0.3960\n",
      "Epoch 37/500\n",
      "40000/40000 [==============================] - 36s 911us/sample - loss: 1.6195 - accuracy: 0.4019 - val_loss: 1.6406 - val_accuracy: 0.4014\n",
      "Epoch 38/500\n",
      "40000/40000 [==============================] - 36s 911us/sample - loss: 1.6016 - accuracy: 0.4130 - val_loss: 1.6271 - val_accuracy: 0.4024\n",
      "Epoch 39/500\n",
      "40000/40000 [==============================] - 36s 912us/sample - loss: 1.5923 - accuracy: 0.4153 - val_loss: 1.6260 - val_accuracy: 0.4084\n",
      "Epoch 40/500\n",
      "40000/40000 [==============================] - 36s 912us/sample - loss: 1.5892 - accuracy: 0.4168 - val_loss: 1.6227 - val_accuracy: 0.4193\n",
      "Epoch 41/500\n",
      "40000/40000 [==============================] - 38s 939us/sample - loss: 1.5772 - accuracy: 0.4248 - val_loss: 1.6136 - val_accuracy: 0.4110\n",
      "Epoch 42/500\n",
      "40000/40000 [==============================] - 38s 958us/sample - loss: 1.5630 - accuracy: 0.4298 - val_loss: 1.6119 - val_accuracy: 0.4149\n",
      "Epoch 43/500\n",
      "40000/40000 [==============================] - 39s 976us/sample - loss: 1.5634 - accuracy: 0.4271 - val_loss: 1.6106 - val_accuracy: 0.4164\n",
      "Epoch 44/500\n",
      "40000/40000 [==============================] - 40s 1ms/sample - loss: 1.5570 - accuracy: 0.4317 - val_loss: 1.6087 - val_accuracy: 0.4190\n",
      "Epoch 45/500\n",
      "40000/40000 [==============================] - 40s 991us/sample - loss: 1.5539 - accuracy: 0.4300 - val_loss: 1.5974 - val_accuracy: 0.4142\n",
      "Epoch 46/500\n",
      "40000/40000 [==============================] - 41s 1ms/sample - loss: 1.5380 - accuracy: 0.4380 - val_loss: 1.6009 - val_accuracy: 0.4233\n",
      "Epoch 47/500\n",
      "40000/40000 [==============================] - 41s 1ms/sample - loss: 1.5410 - accuracy: 0.4391 - val_loss: 1.6012 - val_accuracy: 0.4143\n",
      "Epoch 48/500\n",
      "40000/40000 [==============================] - 40s 1ms/sample - loss: 1.5426 - accuracy: 0.4350 - val_loss: 1.6007 - val_accuracy: 0.4188\n",
      "Epoch 49/500\n",
      "40000/40000 [==============================] - 42s 1ms/sample - loss: 1.5365 - accuracy: 0.4378 - val_loss: 1.5972 - val_accuracy: 0.4187\n",
      "Epoch 50/500\n",
      "40000/40000 [==============================] - 39s 978us/sample - loss: 1.5400 - accuracy: 0.4358 - val_loss: 1.5939 - val_accuracy: 0.4217\n",
      "Epoch 51/500\n",
      "40000/40000 [==============================] - 39s 986us/sample - loss: 1.5285 - accuracy: 0.4408 - val_loss: 1.6011 - val_accuracy: 0.4167\n",
      "Epoch 52/500\n",
      "40000/40000 [==============================] - 38s 950us/sample - loss: 1.5375 - accuracy: 0.4348 - val_loss: 1.5978 - val_accuracy: 0.4177\n",
      "Epoch 53/500\n",
      "40000/40000 [==============================] - 39s 974us/sample - loss: 1.5340 - accuracy: 0.4379 - val_loss: 1.5920 - val_accuracy: 0.4227\n",
      "Epoch 54/500\n"
     ]
    },
    {
     "name": "stdout",
     "output_type": "stream",
     "text": [
      "40000/40000 [==============================] - 41s 1ms/sample - loss: 1.5334 - accuracy: 0.4392 - val_loss: 1.6011 - val_accuracy: 0.4178\n",
      "Epoch 55/500\n",
      "40000/40000 [==============================] - 40s 998us/sample - loss: 1.5311 - accuracy: 0.4409 - val_loss: 1.5911 - val_accuracy: 0.4230\n",
      "Epoch 56/500\n",
      "40000/40000 [==============================] - 42s 1ms/sample - loss: 1.5360 - accuracy: 0.4385 - val_loss: 1.5994 - val_accuracy: 0.4268\n",
      "Epoch 57/500\n",
      "40000/40000 [==============================] - 40s 1ms/sample - loss: 1.5342 - accuracy: 0.4377 - val_loss: 1.6065 - val_accuracy: 0.4209\n",
      "Epoch 58/500\n",
      "40000/40000 [==============================] - 42s 1ms/sample - loss: 1.5356 - accuracy: 0.4374 - val_loss: 1.5975 - val_accuracy: 0.4189\n",
      "Epoch 59/500\n",
      "40000/40000 [==============================] - 43s 1ms/sample - loss: 1.5304 - accuracy: 0.4408 - val_loss: 1.6011 - val_accuracy: 0.4126\n",
      "Epoch 60/500\n",
      "40000/40000 [==============================] - 44s 1ms/sample - loss: 1.5312 - accuracy: 0.4372 - val_loss: 1.5945 - val_accuracy: 0.4195\n",
      "Epoch 61/500\n",
      "40000/40000 [==============================] - 40s 999us/sample - loss: 1.5355 - accuracy: 0.4366 - val_loss: 1.5925 - val_accuracy: 0.4244\n",
      "Epoch 62/500\n",
      "40000/40000 [==============================] - 39s 984us/sample - loss: 1.5336 - accuracy: 0.4384 - val_loss: 1.6013 - val_accuracy: 0.4193\n",
      "Epoch 63/500\n",
      "40000/40000 [==============================] - 38s 959us/sample - loss: 1.5355 - accuracy: 0.4377 - val_loss: 1.6034 - val_accuracy: 0.4153\n",
      "Epoch 64/500\n",
      "40000/40000 [==============================] - 39s 976us/sample - loss: 1.5329 - accuracy: 0.4376 - val_loss: 1.6078 - val_accuracy: 0.4187\n",
      "Epoch 65/500\n",
      "40000/40000 [==============================] - 38s 954us/sample - loss: 1.5331 - accuracy: 0.4387 - val_loss: 1.5965 - val_accuracy: 0.4191\n",
      "Epoch 00065: early stopping\n"
     ]
    }
   ],
   "source": [
    "escb=tensorflow.keras.callbacks.EarlyStopping(monitor='val_accuracy',patience=10,verbose=2,restore_best_weights=True)\n",
    "history=model1.fit(initial_epoch=0,x=x_train,y=y_train,epochs=ep,validation_data=(x_val,y_val),batch_size=32,callbacks=[onec,cescb])#"
   ]
  },
  {
   "cell_type": "code",
   "execution_count": 10,
   "metadata": {
    "scrolled": true
   },
   "outputs": [
    {
     "data": {
      "image/png": "[encoded data removed]",
      "text/plain": [
       "<Figure size 576x360 with 1 Axes>"
      ]
     },
     "metadata": {
      "needs_background": "light"
     },
     "output_type": "display_data"
    }
   ],
   "source": [
    "keras_plotter(history)"
   ]
  },
  {
   "cell_type": "code",
   "execution_count": 11,
   "metadata": {},
   "outputs": [
    {
     "name": "stdout",
     "output_type": "stream",
     "text": [
      "Train Accuracy 0.468725\n"
     ]
    }
   ],
   "source": [
    "import numpy as np\n",
    "y_pred=model1.predict(x_train)\n",
    "y_pred_sparse=np.argmax(y_pred,axis=1)\n",
    "y_train_sparse=np.argmax(y_train,axis=1)\n",
    "from sklearn.metrics import accuracy_score\n",
    "acc=accuracy_score(y_train_sparse,y_pred_sparse)\n",
    "print(\"Train Accuracy\",acc)"
   ]
  },
  {
   "cell_type": "code",
   "execution_count": 12,
   "metadata": {},
   "outputs": [
    {
     "name": "stdout",
     "output_type": "stream",
     "text": [
      "Validation Loss 0.4193\n"
     ]
    }
   ],
   "source": [
    "import numpy as np\n",
    "y_pred=model1.predict(x_val)\n",
    "y_pred_sparse=np.argmax(y_pred,axis=1)\n",
    "y_val_sparse=np.argmax(y_val,axis=1)\n",
    "from sklearn.metrics import accuracy_score\n",
    "acc=accuracy_score(y_val_sparse,y_pred_sparse)\n",
    "print(\"Validation Loss\",acc)"
   ]
  },
  {
   "cell_type": "code",
   "execution_count": 13,
   "metadata": {},
   "outputs": [
    {
     "name": "stdout",
     "output_type": "stream",
     "text": [
      "Test Accuracy 0.421\n"
     ]
    }
   ],
   "source": [
    "import numpy as np\n",
    "y_pred=model1.predict(x_test)\n",
    "y_pred_sparse=np.argmax(y_pred,axis=1)\n",
    "y_test_sparse=np.argmax(y_test,axis=1)\n",
    "from sklearn.metrics import accuracy_score\n",
    "acc=accuracy_score(y_test_sparse,y_pred_sparse)\n",
    "print(\"Test Accuracy\",acc)"
   ]
  },
  {
   "cell_type": "code",
   "execution_count": 14,
   "metadata": {},
   "outputs": [
    {
     "name": "stdout",
     "output_type": "stream",
     "text": [
      "test\n",
      "MC Dropout Test Loss 0.4608\n"
     ]
    }
   ],
   "source": [
    "def mc_droupout(model1,x_test,y_test):\n",
    "    \n",
    "    num_iter=100\n",
    "    print(\"test\")\n",
    "    y_prob_pred_temp=np.zeros((10000,10,num_iter))\n",
    "\n",
    "    for i in range(num_iter):\n",
    "\n",
    "        y_prob_pred_temp[:,:,i]=model1.predict(x_test)\n",
    "\n",
    "    y_prob_pred=y_prob_pred_temp.mean(axis=2)\n",
    "    y_prob_pred_sparse=np.argmax(y_prob_pred,axis=1)\n",
    "    return y_prob_pred_sparse\n",
    "\n",
    "y_prob_pred_sparse=mc_droupout(model1,x_test,y_test)\n",
    "y_test_sparse=np.argmax(y_test,axis=1)\n",
    "    \n",
    "from sklearn.metrics import accuracy_score\n",
    "acc=accuracy_score(y_test_sparse,y_prob_pred_sparse)\n",
    "print(\"MC Dropout Test Loss\",acc)\n"
   ]
  },
  {
   "cell_type": "code",
   "execution_count": null,
   "metadata": {},
   "outputs": [],
   "source": []
  }
 ],
 "metadata": {
  "kernelspec": {
   "display_name": "Python 3",
   "language": "python",
   "name": "python3"
  },
  "language_info": {
   "codemirror_mode": {
    "name": "ipython",
    "version": 3
   },
   "file_extension": ".py",
   "mimetype": "text/x-python",
   "name": "python",
   "nbconvert_exporter": "python",
   "pygments_lexer": "ipython3",
   "version": "3.7.6"
  }
 },
 "nbformat": 4,
 "nbformat_minor": 4
}
