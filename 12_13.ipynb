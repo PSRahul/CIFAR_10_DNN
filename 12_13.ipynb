{
 "cells": [
  {
   "cell_type": "code",
   "execution_count": 1,
   "metadata": {},
   "outputs": [],
   "source": [
    "def keras_plotter(history):\n",
    "    import pandas as pd\n",
    "    import matplotlib.pyplot as plt\n",
    "    \n",
    "    pd.DataFrame(history.history).plot(figsize=(8,5))\n",
    "    plt.grid(True)\n",
    "    plt.gca().set_ylim(0,2)\n",
    "    plt.savefig(\"parte_temp.jpeg\")\n",
    "    plt.show()\n",
    "   "
   ]
  },
  {
   "cell_type": "code",
   "execution_count": 2,
   "metadata": {},
   "outputs": [],
   "source": [
    "import tensorflow as tf\n",
    "from tensorflow import keras\n",
    "from tensorflow.keras.datasets import cifar10\n",
    "\n",
    "(x_train_val, y_train_val), (x_test, y_test) = cifar10.load_data()\n",
    "\n",
    "from sklearn.model_selection import StratifiedShuffleSplit\n",
    "strat_split=StratifiedShuffleSplit(n_splits=1,test_size=0.2)\n",
    "for train_index,test_index in strat_split.split(x_train_val,y_train_val):\n",
    "    x_train,y_train=x_train_val[train_index],y_train_val[train_index]\n",
    "    x_val,y_val=x_train_val[test_index],y_train_val[test_index]\n",
    "    \n",
    "x_train_val=x_train_val.reshape((50000,3072))\n",
    "x_train=x_train.reshape((40000,3072))\n",
    "x_val=x_val.reshape((10000,3072))\n",
    "x_test=x_test.reshape((10000,3072))\n",
    "\n",
    "from sklearn.preprocessing import StandardScaler\n",
    "sta_scal=StandardScaler()\n",
    "sta_scal.fit(x_train)\n",
    "x_train_val=sta_scal.transform(x_train_val)\n",
    "x_train=sta_scal.transform(x_train)\n",
    "x_val=sta_scal.transform(x_val)\n",
    "x_test=sta_scal.transform(x_test)\n",
    "\n",
    "\n",
    "x_train_val=x_train_val.reshape((50000,32, 32, 3))\n",
    "x_train=x_train.reshape((40000,32, 32, 3))\n",
    "x_val=x_val.reshape((10000,32, 32, 3))\n",
    "x_test=x_test.reshape((10000,32, 32, 3))\n",
    "\n",
    "\n",
    "y_train_val=keras.utils.to_categorical(y_train_val,10)\n",
    "y_train=keras.utils.to_categorical(y_train,10)\n",
    "y_val=keras.utils.to_categorical(y_val,10)\n",
    "y_test=keras.utils.to_categorical(y_test,10)\n"
   ]
  },
  {
   "cell_type": "code",
   "execution_count": 3,
   "metadata": {},
   "outputs": [],
   "source": [
    "#HyperParameters Definition\n",
    "import tensorflow as tf\n",
    "n_hidden=20\n",
    "n_units=200\n",
    "act='selu'\n",
    "out_act='softmax'\n",
    "init='lecun_normal'\n",
    "init_lr=0.0001\n",
    "loss_def='categorical_crossentropy'\n",
    "ep=500\n",
    "opt=keras.optimizers.Nadam(learning_rate=0.0001)\n",
    "loss=keras.losses.categorical_crossentropy"
   ]
  },
  {
   "cell_type": "code",
   "execution_count": 4,
   "metadata": {},
   "outputs": [],
   "source": [
    "#Model Definition\n",
    "import tensorflow as tf\n",
    "from tensorflow import keras\n",
    "#model1=Sequential()\n",
    "ins=tf.keras.layers.Input(shape=x_train.shape[1:])\n",
    "layer1=tf.keras.layers.Flatten(input_shape=x_train.shape[1:])(ins)\n",
    "layer1=tf.keras.layers.Dense(units=n_units,activation=act,kernel_initializer=init)(layer1)\n",
    "for i in range(n_hidden-1):\n",
    "    layer1=tf.keras.layers.Dense(units=n_units,activation=act,kernel_initializer=init)(layer1)\n",
    "    if(i%3)==0:\n",
    "        layer1=tf.keras.layers.AlphaDropout(0.3)(layer1,training=True)\n",
    "  \n",
    "outs = tf.keras.layers.Dense(units=10,activation=out_act,kernel_initializer=init)(layer1)\n",
    "model1=tf.keras.Model(inputs=ins,outputs=outs)\n",
    "#model1.add()    "
   ]
  },
  {
   "cell_type": "code",
   "execution_count": 5,
   "metadata": {},
   "outputs": [],
   "source": [
    "escb=tf.keras.callbacks.EarlyStopping(monitor='val_accuracy',patience=10,verbose=2,restore_best_weights=True)\n",
    "model1.compile(optimizer=opt,loss=loss_def,metrics=['accuracy'])"
   ]
  },
  {
   "cell_type": "code",
   "execution_count": 6,
   "metadata": {},
   "outputs": [
    {
     "name": "stdout",
     "output_type": "stream",
     "text": [
      "Train on 40000 samples, validate on 10000 samples\n",
      "Epoch 1/500\n",
      "40000/40000 [==============================] - 22s 560us/sample - loss: 2.2851 - accuracy: 0.1866 - val_loss: 2.0655 - val_accuracy: 0.2263\n",
      "Epoch 2/500\n",
      "40000/40000 [==============================] - 20s 495us/sample - loss: 1.9746 - accuracy: 0.2624 - val_loss: 1.8995 - val_accuracy: 0.2951\n",
      "Epoch 3/500\n",
      "40000/40000 [==============================] - 22s 540us/sample - loss: 1.8573 - accuracy: 0.3165 - val_loss: 1.8298 - val_accuracy: 0.3325\n",
      "Epoch 4/500\n",
      "40000/40000 [==============================] - 26s 645us/sample - loss: 1.7918 - accuracy: 0.3508 - val_loss: 1.7857 - val_accuracy: 0.3564\n",
      "Epoch 5/500\n",
      "40000/40000 [==============================] - 26s 647us/sample - loss: 1.7350 - accuracy: 0.3776 - val_loss: 1.7317 - val_accuracy: 0.3848\n",
      "Epoch 6/500\n",
      "40000/40000 [==============================] - 26s 649us/sample - loss: 1.6872 - accuracy: 0.3982 - val_loss: 1.6995 - val_accuracy: 0.3962\n",
      "Epoch 7/500\n",
      "40000/40000 [==============================] - 26s 650us/sample - loss: 1.6411 - accuracy: 0.4187 - val_loss: 1.6794 - val_accuracy: 0.4063\n",
      "Epoch 8/500\n",
      "40000/40000 [==============================] - 26s 650us/sample - loss: 1.6016 - accuracy: 0.4322 - val_loss: 1.6554 - val_accuracy: 0.4128\n",
      "Epoch 9/500\n",
      "40000/40000 [==============================] - 26s 646us/sample - loss: 1.5732 - accuracy: 0.4470 - val_loss: 1.6260 - val_accuracy: 0.4265\n",
      "Epoch 10/500\n",
      "40000/40000 [==============================] - 26s 646us/sample - loss: 1.5352 - accuracy: 0.4602 - val_loss: 1.6174 - val_accuracy: 0.4363\n",
      "Epoch 11/500\n",
      "40000/40000 [==============================] - 26s 647us/sample - loss: 1.5081 - accuracy: 0.4678 - val_loss: 1.6021 - val_accuracy: 0.4472\n",
      "Epoch 12/500\n",
      "40000/40000 [==============================] - 26s 651us/sample - loss: 1.4818 - accuracy: 0.4771 - val_loss: 1.5939 - val_accuracy: 0.4447\n",
      "Epoch 13/500\n",
      "40000/40000 [==============================] - 26s 649us/sample - loss: 1.4563 - accuracy: 0.4892 - val_loss: 1.5723 - val_accuracy: 0.4480\n",
      "Epoch 14/500\n",
      "40000/40000 [==============================] - 27s 676us/sample - loss: 1.4310 - accuracy: 0.4983 - val_loss: 1.5662 - val_accuracy: 0.4536\n",
      "Epoch 15/500\n",
      "40000/40000 [==============================] - 26s 662us/sample - loss: 1.4058 - accuracy: 0.5062 - val_loss: 1.5596 - val_accuracy: 0.4597\n",
      "Epoch 16/500\n",
      "40000/40000 [==============================] - 26s 652us/sample - loss: 1.3857 - accuracy: 0.5157 - val_loss: 1.5398 - val_accuracy: 0.4695\n",
      "Epoch 17/500\n",
      "40000/40000 [==============================] - 26s 652us/sample - loss: 1.3628 - accuracy: 0.5200 - val_loss: 1.5310 - val_accuracy: 0.4715\n",
      "Epoch 18/500\n",
      "40000/40000 [==============================] - 26s 659us/sample - loss: 1.3432 - accuracy: 0.5307 - val_loss: 1.5252 - val_accuracy: 0.4705\n",
      "Epoch 19/500\n",
      "40000/40000 [==============================] - 26s 650us/sample - loss: 1.3217 - accuracy: 0.5372 - val_loss: 1.5292 - val_accuracy: 0.4755\n",
      "Epoch 20/500\n",
      "40000/40000 [==============================] - 26s 650us/sample - loss: 1.3051 - accuracy: 0.5444 - val_loss: 1.5237 - val_accuracy: 0.4656\n",
      "Epoch 21/500\n",
      "40000/40000 [==============================] - 26s 653us/sample - loss: 1.2829 - accuracy: 0.5518 - val_loss: 1.5251 - val_accuracy: 0.4824\n",
      "Epoch 22/500\n",
      "40000/40000 [==============================] - 26s 652us/sample - loss: 1.2704 - accuracy: 0.5576 - val_loss: 1.5595 - val_accuracy: 0.4787\n",
      "Epoch 23/500\n",
      "40000/40000 [==============================] - 26s 650us/sample - loss: 1.2512 - accuracy: 0.5649 - val_loss: 1.5254 - val_accuracy: 0.4768\n",
      "Epoch 24/500\n",
      "40000/40000 [==============================] - 26s 650us/sample - loss: 1.2338 - accuracy: 0.5694 - val_loss: 1.5530 - val_accuracy: 0.4797\n",
      "Epoch 25/500\n",
      "40000/40000 [==============================] - 26s 656us/sample - loss: 1.2140 - accuracy: 0.5781 - val_loss: 1.5603 - val_accuracy: 0.4765\n",
      "Epoch 26/500\n",
      "40000/40000 [==============================] - 26s 646us/sample - loss: 1.2011 - accuracy: 0.5825 - val_loss: 1.5287 - val_accuracy: 0.4847\n",
      "Epoch 27/500\n",
      "40000/40000 [==============================] - 26s 646us/sample - loss: 1.1839 - accuracy: 0.5901 - val_loss: 1.5057 - val_accuracy: 0.4908\n",
      "Epoch 28/500\n",
      "40000/40000 [==============================] - 26s 648us/sample - loss: 1.1730 - accuracy: 0.5875 - val_loss: 1.5265 - val_accuracy: 0.4865\n",
      "Epoch 29/500\n",
      "40000/40000 [==============================] - 26s 648us/sample - loss: 1.1523 - accuracy: 0.5978 - val_loss: 1.5221 - val_accuracy: 0.4835\n",
      "Epoch 30/500\n",
      "40000/40000 [==============================] - 26s 648us/sample - loss: 1.1369 - accuracy: 0.6051 - val_loss: 1.5395 - val_accuracy: 0.4950\n",
      "Epoch 31/500\n",
      "40000/40000 [==============================] - 26s 659us/sample - loss: 1.1327 - accuracy: 0.6087 - val_loss: 1.5312 - val_accuracy: 0.4939\n",
      "Epoch 32/500\n",
      "40000/40000 [==============================] - 26s 645us/sample - loss: 1.1162 - accuracy: 0.6142 - val_loss: 1.5414 - val_accuracy: 0.4948\n",
      "Epoch 33/500\n",
      "40000/40000 [==============================] - 26s 657us/sample - loss: 1.0994 - accuracy: 0.6166 - val_loss: 1.5437 - val_accuracy: 0.4910\n",
      "Epoch 34/500\n",
      "40000/40000 [==============================] - 26s 649us/sample - loss: 1.0900 - accuracy: 0.6213 - val_loss: 1.5462 - val_accuracy: 0.4995\n",
      "Epoch 35/500\n",
      "40000/40000 [==============================] - 26s 649us/sample - loss: 1.0725 - accuracy: 0.6309 - val_loss: 1.5788 - val_accuracy: 0.4977\n",
      "Epoch 36/500\n",
      "40000/40000 [==============================] - 26s 652us/sample - loss: 1.0661 - accuracy: 0.6320 - val_loss: 1.5716 - val_accuracy: 0.4943\n",
      "Epoch 37/500\n",
      "40000/40000 [==============================] - 27s 674us/sample - loss: 1.0559 - accuracy: 0.6344 - val_loss: 1.5391 - val_accuracy: 0.5008\n",
      "Epoch 38/500\n",
      "40000/40000 [==============================] - 26s 658us/sample - loss: 1.0431 - accuracy: 0.6389 - val_loss: 1.5705 - val_accuracy: 0.4958\n",
      "Epoch 39/500\n",
      "40000/40000 [==============================] - 26s 658us/sample - loss: 1.0258 - accuracy: 0.6464 - val_loss: 1.5864 - val_accuracy: 0.4949\n",
      "Epoch 40/500\n",
      "40000/40000 [==============================] - 26s 658us/sample - loss: 1.0146 - accuracy: 0.6507 - val_loss: 1.5781 - val_accuracy: 0.4967\n",
      "Epoch 41/500\n",
      "40000/40000 [==============================] - 26s 656us/sample - loss: 1.0033 - accuracy: 0.6538 - val_loss: 1.5899 - val_accuracy: 0.4979\n",
      "Epoch 42/500\n",
      "40000/40000 [==============================] - 26s 658us/sample - loss: 1.0013 - accuracy: 0.6592 - val_loss: 1.6220 - val_accuracy: 0.4961\n",
      "Epoch 43/500\n",
      "40000/40000 [==============================] - 26s 658us/sample - loss: 0.9815 - accuracy: 0.6632 - val_loss: 1.5997 - val_accuracy: 0.4965\n",
      "Epoch 44/500\n",
      "40000/40000 [==============================] - 26s 658us/sample - loss: 0.9787 - accuracy: 0.6613 - val_loss: 1.6273 - val_accuracy: 0.4987\n",
      "Epoch 45/500\n",
      "40000/40000 [==============================] - 26s 657us/sample - loss: 0.9677 - accuracy: 0.6651 - val_loss: 1.6021 - val_accuracy: 0.5055\n",
      "Epoch 46/500\n",
      "40000/40000 [==============================] - 26s 657us/sample - loss: 0.9523 - accuracy: 0.6707 - val_loss: 1.6287 - val_accuracy: 0.5014\n",
      "Epoch 47/500\n",
      "40000/40000 [==============================] - 26s 658us/sample - loss: 0.9405 - accuracy: 0.6772 - val_loss: 1.6345 - val_accuracy: 0.5039\n",
      "Epoch 48/500\n",
      "40000/40000 [==============================] - 26s 658us/sample - loss: 0.9403 - accuracy: 0.6773 - val_loss: 1.5939 - val_accuracy: 0.5060\n",
      "Epoch 49/500\n",
      "40000/40000 [==============================] - 27s 663us/sample - loss: 0.9208 - accuracy: 0.6830 - val_loss: 1.6143 - val_accuracy: 0.4953\n",
      "Epoch 50/500\n",
      "40000/40000 [==============================] - 26s 658us/sample - loss: 0.9125 - accuracy: 0.6848 - val_loss: 1.6729 - val_accuracy: 0.5018\n",
      "Epoch 51/500\n",
      "40000/40000 [==============================] - 26s 659us/sample - loss: 0.9030 - accuracy: 0.6885 - val_loss: 1.6336 - val_accuracy: 0.5112\n",
      "Epoch 52/500\n",
      "40000/40000 [==============================] - 26s 657us/sample - loss: 0.8909 - accuracy: 0.6942 - val_loss: 1.6466 - val_accuracy: 0.5022\n",
      "Epoch 53/500\n",
      "40000/40000 [==============================] - 26s 658us/sample - loss: 0.8885 - accuracy: 0.6916 - val_loss: 1.6760 - val_accuracy: 0.5014\n",
      "Epoch 54/500\n"
     ]
    },
    {
     "name": "stdout",
     "output_type": "stream",
     "text": [
      "40000/40000 [==============================] - 25s 636us/sample - loss: 0.8789 - accuracy: 0.6950 - val_loss: 1.7260 - val_accuracy: 0.4930\n",
      "Epoch 55/500\n",
      "40000/40000 [==============================] - 25s 635us/sample - loss: 0.8678 - accuracy: 0.7020 - val_loss: 1.6704 - val_accuracy: 0.5051\n",
      "Epoch 56/500\n",
      "40000/40000 [==============================] - 25s 636us/sample - loss: 0.8661 - accuracy: 0.7016 - val_loss: 1.6917 - val_accuracy: 0.5011\n",
      "Epoch 57/500\n",
      "40000/40000 [==============================] - 25s 636us/sample - loss: 0.8614 - accuracy: 0.7050 - val_loss: 1.6610 - val_accuracy: 0.5009\n",
      "Epoch 58/500\n",
      "40000/40000 [==============================] - 26s 645us/sample - loss: 0.8440 - accuracy: 0.7080 - val_loss: 1.6702 - val_accuracy: 0.4965\n",
      "Epoch 59/500\n",
      "40000/40000 [==============================] - 26s 660us/sample - loss: 0.8360 - accuracy: 0.7130 - val_loss: 1.7220 - val_accuracy: 0.4999\n",
      "Epoch 60/500\n",
      "40000/40000 [==============================] - 26s 651us/sample - loss: 0.8302 - accuracy: 0.7146 - val_loss: 1.7086 - val_accuracy: 0.4976\n",
      "Epoch 61/500\n",
      "40000/40000 [==============================] - 27s 663us/sample - loss: 0.8195 - accuracy: 0.7193 - val_loss: 1.6976 - val_accuracy: 0.5125\n",
      "Epoch 62/500\n",
      "40000/40000 [==============================] - 27s 664us/sample - loss: 0.8237 - accuracy: 0.7182 - val_loss: 1.6645 - val_accuracy: 0.5014\n",
      "Epoch 63/500\n",
      "40000/40000 [==============================] - 26s 655us/sample - loss: 0.8070 - accuracy: 0.7246 - val_loss: 1.7638 - val_accuracy: 0.5057\n",
      "Epoch 64/500\n",
      "40000/40000 [==============================] - 28s 697us/sample - loss: 0.8026 - accuracy: 0.7244 - val_loss: 1.6998 - val_accuracy: 0.5048\n",
      "Epoch 65/500\n",
      "40000/40000 [==============================] - 28s 697us/sample - loss: 0.8007 - accuracy: 0.7262 - val_loss: 1.7012 - val_accuracy: 0.5043\n",
      "Epoch 66/500\n",
      "40000/40000 [==============================] - 30s 745us/sample - loss: 0.7863 - accuracy: 0.7286 - val_loss: 1.6860 - val_accuracy: 0.5050\n",
      "Epoch 67/500\n",
      "40000/40000 [==============================] - 28s 709us/sample - loss: 0.7838 - accuracy: 0.7345 - val_loss: 1.7398 - val_accuracy: 0.5146\n",
      "Epoch 68/500\n",
      "40000/40000 [==============================] - 29s 713us/sample - loss: 0.7730 - accuracy: 0.7356 - val_loss: 1.7723 - val_accuracy: 0.5036\n",
      "Epoch 69/500\n",
      "40000/40000 [==============================] - 27s 669us/sample - loss: 0.7715 - accuracy: 0.7394 - val_loss: 1.7809 - val_accuracy: 0.5038\n",
      "Epoch 70/500\n",
      "40000/40000 [==============================] - 26s 658us/sample - loss: 0.7554 - accuracy: 0.7405 - val_loss: 1.7435 - val_accuracy: 0.5046\n",
      "Epoch 71/500\n",
      "40000/40000 [==============================] - 27s 666us/sample - loss: 0.7506 - accuracy: 0.7452 - val_loss: 1.7853 - val_accuracy: 0.4988\n",
      "Epoch 72/500\n",
      "40000/40000 [==============================] - 26s 660us/sample - loss: 0.7521 - accuracy: 0.7424 - val_loss: 1.7757 - val_accuracy: 0.5022\n",
      "Epoch 73/500\n",
      "40000/40000 [==============================] - 26s 658us/sample - loss: 0.7422 - accuracy: 0.7480 - val_loss: 1.8318 - val_accuracy: 0.5078\n",
      "Epoch 74/500\n",
      "40000/40000 [==============================] - 27s 666us/sample - loss: 0.7343 - accuracy: 0.7483 - val_loss: 1.8036 - val_accuracy: 0.5036\n",
      "Epoch 75/500\n",
      "40000/40000 [==============================] - 26s 659us/sample - loss: 0.7267 - accuracy: 0.7528 - val_loss: 1.7899 - val_accuracy: 0.4998\n",
      "Epoch 76/500\n",
      "40000/40000 [==============================] - 26s 660us/sample - loss: 0.7233 - accuracy: 0.7531 - val_loss: 1.7860 - val_accuracy: 0.5091\n",
      "Epoch 77/500\n",
      "39968/40000 [============================>.] - ETA: 0s - loss: 0.7182 - accuracy: 0.7581Restoring model weights from the end of the best epoch.\n",
      "40000/40000 [==============================] - 26s 657us/sample - loss: 0.7186 - accuracy: 0.7580 - val_loss: 1.7396 - val_accuracy: 0.4989\n",
      "Epoch 00077: early stopping\n"
     ]
    }
   ],
   "source": [
    "history=model1.fit(x=x_train,y=y_train,epochs=ep,validation_data=(x_val,y_val),batch_size=32,callbacks=[escb])#"
   ]
  },
  {
   "cell_type": "code",
   "execution_count": 7,
   "metadata": {
    "scrolled": true
   },
   "outputs": [
    {
     "data": {
      "image/png": "[encoded data removed]",
      "text/plain": [
       "<Figure size 576x360 with 1 Axes>"
      ]
     },
     "metadata": {
      "needs_background": "light"
     },
     "output_type": "display_data"
    }
   ],
   "source": [
    "keras_plotter(history)"
   ]
  },
  {
   "cell_type": "code",
   "execution_count": 8,
   "metadata": {},
   "outputs": [
    {
     "name": "stdout",
     "output_type": "stream",
     "text": [
      "Train Loss 0.741175\n",
      "Validation Loss 0.5072\n",
      "Test Loss 0.5018\n"
     ]
    }
   ],
   "source": [
    "import numpy as np\n",
    "y_pred=model1.predict(x_train)\n",
    "y_pred_sparse=np.argmax(y_pred,axis=1)\n",
    "y_train_sparse=np.argmax(y_train,axis=1)\n",
    "from sklearn.metrics import accuracy_score\n",
    "acc=accuracy_score(y_train_sparse,y_pred_sparse)\n",
    "print(\"Train Loss\",acc)\n",
    "\n",
    "import numpy as np\n",
    "y_pred=model1.predict(x_val)\n",
    "y_pred_sparse=np.argmax(y_pred,axis=1)\n",
    "y_val_sparse=np.argmax(y_val,axis=1)\n",
    "from sklearn.metrics import accuracy_score\n",
    "acc=accuracy_score(y_val_sparse,y_pred_sparse)\n",
    "print(\"Validation Loss\",acc)\n",
    "\n",
    "import numpy as np\n",
    "y_pred=model1.predict(x_test)\n",
    "y_pred_sparse=np.argmax(y_pred,axis=1)\n",
    "y_test_sparse=np.argmax(y_test,axis=1)\n",
    "from sklearn.metrics import accuracy_score\n",
    "acc=accuracy_score(y_test_sparse,y_pred_sparse)\n",
    "print(\"Test Loss\",acc)"
   ]
  },
  {
   "cell_type": "code",
   "execution_count": 9,
   "metadata": {},
   "outputs": [
    {
     "name": "stdout",
     "output_type": "stream",
     "text": [
      "MC Dropout Test Loss 0.5224\n"
     ]
    }
   ],
   "source": [
    "num_iter=100\n",
    "\n",
    "y_prob_pred_temp=np.zeros((10000,10,num_iter))\n",
    "\n",
    "for i in range(num_iter):\n",
    "    \n",
    "    y_prob_pred_temp[:,:,i]=model1.predict(x_test)\n",
    "\n",
    "y_prob_pred=y_prob_pred_temp.mean(axis=2)\n",
    "y_prob_pred_sparse=np.argmax(y_prob_pred,axis=1)\n",
    "y_test_sparse=np.argmax(y_test,axis=1)\n",
    "from sklearn.metrics import accuracy_score\n",
    "acc=accuracy_score(y_test_sparse,y_prob_pred_sparse)\n",
    "print(\"MC Dropout Test Loss\",acc)"
   ]
  },
  {
   "cell_type": "code",
   "execution_count": null,
   "metadata": {},
   "outputs": [],
   "source": []
  }
 ],
 "metadata": {
  "kernelspec": {
   "display_name": "Python 3",
   "language": "python",
   "name": "python3"
  },
  "language_info": {
   "codemirror_mode": {
    "name": "ipython",
    "version": 3
   },
   "file_extension": ".py",
   "mimetype": "text/x-python",
   "name": "python",
   "nbconvert_exporter": "python",
   "pygments_lexer": "ipython3",
   "version": "3.7.6"
  }
 },
 "nbformat": 4,
 "nbformat_minor": 4
}
