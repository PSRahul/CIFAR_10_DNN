{
 "cells": [
  {
   "cell_type": "code",
   "execution_count": 1,
   "metadata": {},
   "outputs": [],
   "source": [
    "def keras_plotter(history):\n",
    "    import pandas as pd\n",
    "    import matplotlib.pyplot as plt\n",
    "    \n",
    "    pd.DataFrame(history.history).plot(figsize=(8,5))\n",
    "    plt.grid(True)\n",
    "    plt.gca().set_ylim(0,2)\n",
    "    plt.savefig(\"6_t.jpeg\")\n",
    "    plt.show()\n",
    "   "
   ]
  },
  {
   "cell_type": "code",
   "execution_count": 2,
   "metadata": {},
   "outputs": [],
   "source": [
    "import tensorflow as tf\n",
    "from tensorflow import keras\n",
    "from tensorflow.keras.datasets import cifar10\n",
    "\n",
    "(x_train_val, y_train_val), (x_test, y_test) = cifar10.load_data()\n",
    "\n",
    "from sklearn.model_selection import StratifiedShuffleSplit\n",
    "strat_split=StratifiedShuffleSplit(n_splits=1,test_size=0.2)\n",
    "for train_index,test_index in strat_split.split(x_train_val,y_train_val):\n",
    "    x_train,y_train=x_train_val[train_index],y_train_val[train_index]\n",
    "    x_val,y_val=x_train_val[test_index],y_train_val[test_index]\n",
    "    \n",
    "x_train_val=x_train_val.reshape((50000,3072))\n",
    "x_train=x_train.reshape((40000,3072))\n",
    "x_val=x_val.reshape((10000,3072))\n",
    "x_test=x_test.reshape((10000,3072))\n",
    "\n",
    "from sklearn.preprocessing import StandardScaler\n",
    "sta_scal=StandardScaler()\n",
    "sta_scal.fit(x_train)\n",
    "x_train_val=sta_scal.transform(x_train_val)\n",
    "x_train=sta_scal.transform(x_train)\n",
    "x_val=sta_scal.transform(x_val)\n",
    "x_test=sta_scal.transform(x_test)\n",
    "\n",
    "\n",
    "x_train_val=x_train_val.reshape((50000,32, 32, 3))\n",
    "x_train=x_train.reshape((40000,32, 32, 3))\n",
    "x_val=x_val.reshape((10000,32, 32, 3))\n",
    "x_test=x_test.reshape((10000,32, 32, 3))\n",
    "\n",
    "\n",
    "y_train_val=keras.utils.to_categorical(y_train_val,10)\n",
    "y_train=keras.utils.to_categorical(y_train,10)\n",
    "y_val=keras.utils.to_categorical(y_val,10)\n",
    "y_test=keras.utils.to_categorical(y_test,10)\n"
   ]
  },
  {
   "cell_type": "code",
   "execution_count": 3,
   "metadata": {},
   "outputs": [],
   "source": [
    "#HyperParameters Definition\n",
    "import tensorflow\n",
    "n_hidden=20\n",
    "n_units=200\n",
    "act='elu'\n",
    "out_act='softmax'\n",
    "init='he_normal'\n",
    "init_lr=0.0001\n",
    "loss_def='categorical_crossentropy'\n",
    "ep=500\n",
    "opt=tensorflow.keras.optimizers.Nadam(learning_rate=0.0001)\n",
    "loss=tensorflow.keras.losses.categorical_crossentropy"
   ]
  },
  {
   "cell_type": "code",
   "execution_count": 4,
   "metadata": {},
   "outputs": [],
   "source": [
    "#Model Definition\n",
    "import tensorflow as tf\n",
    "from tensorflow import keras\n",
    "#model1=Sequential()\n",
    "ins=tf.keras.layers.Input(shape=x_train.shape[1:])\n",
    "layer1=tf.keras.layers.Flatten(input_shape=x_train.shape[1:])(ins)\n",
    "layer1=tf.keras.layers.Dense(units=n_units,activation=act,kernel_initializer=init)(layer1)\n",
    "layer1=tf.keras.layers.BatchNormalization()(layer1)\n",
    "for i in range(n_hidden-1):\n",
    "    layer1=tf.keras.layers.Dense(units=n_units,activation=act,kernel_initializer=init)(layer1)\n",
    "    layer1=tf.keras.layers.BatchNormalization()(layer1)\n",
    "    if(i%3)==0:\n",
    "        layer1=tf.keras.layers.Dropout(0.3)(layer1,training=True)\n",
    "  \n",
    "outs = tf.keras.layers.Dense(units=10,activation=out_act,kernel_initializer=init)(layer1)\n",
    "model1=tf.keras.Model(inputs=ins,outputs=outs)\n",
    "model1.compile(optimizer=opt,loss=loss_def,metrics=['accuracy'])\n",
    "#model1.add()    "
   ]
  },
  {
   "cell_type": "code",
   "execution_count": 5,
   "metadata": {},
   "outputs": [
    {
     "data": {
      "text/plain": [
       "\"\\n#Model Definition\\n\\nmodel1=tensorflow.keras.models.Sequential()\\nmodel1.add(tensorflow.keras.layers.Flatten(input_shape=x_train.shape[1:]))\\n\\nfor i in range(n_hidden):\\n    model1.add(tensorflow.keras.layers.Dense(units=n_units,activation=act,kernel_initializer=init,kernel_regularizer=keras.regularizers.l2(0.01)))\\n\\nmodel1.add(tensorflow.keras.layers.Dense(units=10,activation=out_act,kernel_initializer=init,kernel_regularizer=keras.regularizers.l2(0.01)))   \\nmodel1.compile(optimizer=opt,loss=loss_def,metrics=['accuracy'])\\n\""
      ]
     },
     "execution_count": 5,
     "metadata": {},
     "output_type": "execute_result"
    }
   ],
   "source": [
    "'''\n",
    "#Model Definition\n",
    "\n",
    "model1=tensorflow.keras.models.Sequential()\n",
    "model1.add(tensorflow.keras.layers.Flatten(input_shape=x_train.shape[1:]))\n",
    "\n",
    "for i in range(n_hidden):\n",
    "    model1.add(tensorflow.keras.layers.Dense(units=n_units,activation=act,kernel_initializer=init,kernel_regularizer=keras.regularizers.l2(0.01)))\n",
    "\n",
    "model1.add(tensorflow.keras.layers.Dense(units=10,activation=out_act,kernel_initializer=init,kernel_regularizer=keras.regularizers.l2(0.01)))   \n",
    "model1.compile(optimizer=opt,loss=loss_def,metrics=['accuracy'])\n",
    "'''"
   ]
  },
  {
   "cell_type": "code",
   "execution_count": 6,
   "metadata": {},
   "outputs": [
    {
     "name": "stdout",
     "output_type": "stream",
     "text": [
      "Train on 40000 samples\n",
      "40000/40000 [==============================] - 31s 786us/sample - loss: 10834.4324 - accuracy: 0.1299\n"
     ]
    },
    {
     "data": {
      "image/png": "[encoded data removed]",
      "text/plain": [
       "<Figure size 432x288 with 1 Axes>"
      ]
     },
     "metadata": {
      "needs_background": "light"
     },
     "output_type": "display_data"
    }
   ],
   "source": [
    "import tensorflow as tf\n",
    "from tensorflow import keras\n",
    "model2=tf.keras.models.clone_model(model1)\n",
    "model2.compile(optimizer=opt,loss=loss_def,metrics=['accuracy'])\n",
    "K=tf.keras.backend\n",
    "\n",
    "class explr(keras.callbacks.Callback):\n",
    "    def __init__(self,factor):\n",
    "        self.factor=factor\n",
    "        self.rates=[]\n",
    "        self.losses=[]\n",
    "    \n",
    "    def on_batch_end(self,batch,logs):\n",
    "        self.rates.append(K.get_value(self.model.optimizer.lr))\n",
    "        self.losses.append(logs['loss'])\n",
    "        K.set_value(self.model.optimizer.lr,self.model.optimizer.lr*self.factor)\n",
    "    \n",
    "\n",
    "def lr_finder(model,x,y,epochs=1,batch_size=32,min_rate=1e-5,max_rate=10):\n",
    "    import numpy as np\n",
    "    init_w=model.get_weights()\n",
    "    init_lr=K.get_value(model.optimizer.lr)\n",
    "    iterations=len(x)//batch_size*epochs\n",
    "    factor=np.exp(np.log(max_rate/min_rate)/iterations)\n",
    "    K.set_value(model.optimizer.lr,min_rate)\n",
    "   \n",
    "    \n",
    "    exp_lr=explr(factor)\n",
    "    model.fit(x,y,epochs=epochs,batch_size=batch_size,callbacks=[exp_lr])\n",
    "    model.set_weights(init_w)\n",
    "    K.set_value(model.optimizer.lr,init_lr)\n",
    "    rates=exp_lr.rates\n",
    "    losses=exp_lr.losses\n",
    "   \n",
    "    \n",
    "    import matplotlib.pyplot as plt\n",
    "    plt.plot(rates,losses)\n",
    "    plt.gca().set_xscale(\"log\")\n",
    "    plt.hlines(min(losses),min(rates),max(rates))\n",
    "    plt.axis([min(rates),max(rates),min(losses),15])\n",
    "    plt.xlabel(\"Learning Rate\")\n",
    "    \n",
    "\n",
    "lr_finder(model2,x_train,y_train,epochs=1,batch_size=32,min_rate=1e-5,max_rate=15)"
   ]
  },
  {
   "cell_type": "code",
   "execution_count": 7,
   "metadata": {},
   "outputs": [
    {
     "name": "stdout",
     "output_type": "stream",
     "text": [
      "Train on 40000 samples, validate on 10000 samples\n",
      "Epoch 1/500\n",
      "40000/40000 [==============================] - 32s 789us/sample - loss: 2.4826 - accuracy: 0.1726 - val_loss: 2.2459 - val_accuracy: 0.2199\n",
      "Epoch 2/500\n",
      "40000/40000 [==============================] - 25s 626us/sample - loss: 2.1738 - accuracy: 0.2356 - val_loss: 2.0567 - val_accuracy: 0.2619\n",
      "Epoch 3/500\n",
      "40000/40000 [==============================] - 25s 630us/sample - loss: 2.0354 - accuracy: 0.2772 - val_loss: 1.9447 - val_accuracy: 0.2935\n",
      "Epoch 4/500\n",
      "40000/40000 [==============================] - 25s 631us/sample - loss: 1.9413 - accuracy: 0.3095 - val_loss: 1.8770 - val_accuracy: 0.3299\n",
      "Epoch 5/500\n",
      "40000/40000 [==============================] - 28s 693us/sample - loss: 1.8603 - accuracy: 0.3392 - val_loss: 1.7802 - val_accuracy: 0.3613\n",
      "Epoch 6/500\n",
      "40000/40000 [==============================] - 35s 886us/sample - loss: 1.7975 - accuracy: 0.3630 - val_loss: 1.7294 - val_accuracy: 0.3775\n",
      "Epoch 7/500\n",
      "40000/40000 [==============================] - 35s 886us/sample - loss: 1.7346 - accuracy: 0.3829 - val_loss: 1.6665 - val_accuracy: 0.3992\n",
      "Epoch 8/500\n",
      "40000/40000 [==============================] - 36s 888us/sample - loss: 1.6885 - accuracy: 0.4022 - val_loss: 1.6351 - val_accuracy: 0.4116\n",
      "Epoch 9/500\n",
      "40000/40000 [==============================] - 36s 899us/sample - loss: 1.6484 - accuracy: 0.4116 - val_loss: 1.6107 - val_accuracy: 0.4266\n",
      "Epoch 10/500\n",
      "40000/40000 [==============================] - 36s 909us/sample - loss: 1.6123 - accuracy: 0.4310 - val_loss: 1.5659 - val_accuracy: 0.4473\n",
      "Epoch 11/500\n",
      "40000/40000 [==============================] - 36s 892us/sample - loss: 1.5731 - accuracy: 0.4421 - val_loss: 1.5612 - val_accuracy: 0.4434\n",
      "Epoch 12/500\n",
      "40000/40000 [==============================] - 36s 891us/sample - loss: 1.5526 - accuracy: 0.4529 - val_loss: 1.5223 - val_accuracy: 0.4556\n",
      "Epoch 13/500\n",
      "40000/40000 [==============================] - 36s 893us/sample - loss: 1.5140 - accuracy: 0.4661 - val_loss: 1.5145 - val_accuracy: 0.4638\n",
      "Epoch 14/500\n",
      "40000/40000 [==============================] - 36s 892us/sample - loss: 1.5000 - accuracy: 0.4743 - val_loss: 1.5089 - val_accuracy: 0.4683\n",
      "Epoch 15/500\n",
      "40000/40000 [==============================] - 36s 891us/sample - loss: 1.4744 - accuracy: 0.4839 - val_loss: 1.4969 - val_accuracy: 0.4775\n",
      "Epoch 16/500\n",
      "40000/40000 [==============================] - 36s 892us/sample - loss: 1.4563 - accuracy: 0.4911 - val_loss: 1.4822 - val_accuracy: 0.4796\n",
      "Epoch 17/500\n",
      "40000/40000 [==============================] - 36s 893us/sample - loss: 1.4352 - accuracy: 0.4998 - val_loss: 1.4702 - val_accuracy: 0.4806\n",
      "Epoch 18/500\n",
      "40000/40000 [==============================] - 36s 895us/sample - loss: 1.4158 - accuracy: 0.5024 - val_loss: 1.4631 - val_accuracy: 0.4876\n",
      "Epoch 19/500\n",
      "40000/40000 [==============================] - 36s 891us/sample - loss: 1.4013 - accuracy: 0.5113 - val_loss: 1.4565 - val_accuracy: 0.4841\n",
      "Epoch 20/500\n",
      "40000/40000 [==============================] - 36s 893us/sample - loss: 1.3839 - accuracy: 0.5172 - val_loss: 1.4538 - val_accuracy: 0.4974\n",
      "Epoch 21/500\n",
      "40000/40000 [==============================] - 36s 900us/sample - loss: 1.3627 - accuracy: 0.5239 - val_loss: 1.4537 - val_accuracy: 0.4883\n",
      "Epoch 22/500\n",
      "40000/40000 [==============================] - 36s 901us/sample - loss: 1.3497 - accuracy: 0.5276 - val_loss: 1.4361 - val_accuracy: 0.4952\n",
      "Epoch 23/500\n",
      "40000/40000 [==============================] - 36s 899us/sample - loss: 1.3317 - accuracy: 0.5353 - val_loss: 1.4275 - val_accuracy: 0.5018\n",
      "Epoch 24/500\n",
      "40000/40000 [==============================] - 36s 896us/sample - loss: 1.3176 - accuracy: 0.5391 - val_loss: 1.4485 - val_accuracy: 0.4910\n",
      "Epoch 25/500\n",
      "40000/40000 [==============================] - 36s 897us/sample - loss: 1.3000 - accuracy: 0.5448 - val_loss: 1.4358 - val_accuracy: 0.4977\n",
      "Epoch 26/500\n",
      "40000/40000 [==============================] - 36s 895us/sample - loss: 1.2854 - accuracy: 0.5528 - val_loss: 1.4298 - val_accuracy: 0.4955\n",
      "Epoch 27/500\n",
      "40000/40000 [==============================] - 36s 896us/sample - loss: 1.2782 - accuracy: 0.5548 - val_loss: 1.4216 - val_accuracy: 0.5025\n",
      "Epoch 28/500\n",
      "40000/40000 [==============================] - 36s 898us/sample - loss: 1.2635 - accuracy: 0.5597 - val_loss: 1.4279 - val_accuracy: 0.5024\n",
      "Epoch 29/500\n",
      "40000/40000 [==============================] - 36s 896us/sample - loss: 1.2475 - accuracy: 0.5670 - val_loss: 1.4306 - val_accuracy: 0.5060\n",
      "Epoch 30/500\n",
      "40000/40000 [==============================] - 36s 897us/sample - loss: 1.2371 - accuracy: 0.5723 - val_loss: 1.4380 - val_accuracy: 0.5031\n",
      "Epoch 31/500\n",
      "40000/40000 [==============================] - 36s 896us/sample - loss: 1.2271 - accuracy: 0.5760 - val_loss: 1.4274 - val_accuracy: 0.5002\n",
      "Epoch 32/500\n",
      "40000/40000 [==============================] - 36s 892us/sample - loss: 1.2177 - accuracy: 0.5754 - val_loss: 1.4361 - val_accuracy: 0.5045\n",
      "Epoch 33/500\n",
      "40000/40000 [==============================] - 36s 892us/sample - loss: 1.2129 - accuracy: 0.5782 - val_loss: 1.4240 - val_accuracy: 0.5079\n",
      "Epoch 34/500\n",
      "40000/40000 [==============================] - 36s 910us/sample - loss: 1.1921 - accuracy: 0.5870 - val_loss: 1.4327 - val_accuracy: 0.5074\n",
      "Epoch 35/500\n",
      "40000/40000 [==============================] - 36s 899us/sample - loss: 1.1851 - accuracy: 0.5914 - val_loss: 1.4366 - val_accuracy: 0.5043\n",
      "Epoch 36/500\n",
      "40000/40000 [==============================] - 37s 926us/sample - loss: 1.1711 - accuracy: 0.5948 - val_loss: 1.4392 - val_accuracy: 0.5039\n",
      "Epoch 37/500\n",
      "40000/40000 [==============================] - 36s 907us/sample - loss: 1.1583 - accuracy: 0.5968 - val_loss: 1.4335 - val_accuracy: 0.5095\n",
      "Epoch 38/500\n",
      "40000/40000 [==============================] - 36s 911us/sample - loss: 1.1474 - accuracy: 0.6033 - val_loss: 1.4249 - val_accuracy: 0.5080\n",
      "Epoch 39/500\n",
      "40000/40000 [==============================] - 36s 909us/sample - loss: 1.1333 - accuracy: 0.6065 - val_loss: 1.4468 - val_accuracy: 0.5095\n",
      "Epoch 40/500\n",
      "40000/40000 [==============================] - 37s 926us/sample - loss: 1.1285 - accuracy: 0.6082 - val_loss: 1.4431 - val_accuracy: 0.4997\n",
      "Epoch 41/500\n",
      "40000/40000 [==============================] - 38s 943us/sample - loss: 1.1291 - accuracy: 0.6077 - val_loss: 1.4400 - val_accuracy: 0.5101\n",
      "Epoch 42/500\n",
      "40000/40000 [==============================] - 37s 913us/sample - loss: 1.1063 - accuracy: 0.6198 - val_loss: 1.4497 - val_accuracy: 0.5077\n",
      "Epoch 43/500\n",
      "40000/40000 [==============================] - 37s 915us/sample - loss: 1.0991 - accuracy: 0.6205 - val_loss: 1.4278 - val_accuracy: 0.5164\n",
      "Epoch 44/500\n",
      "40000/40000 [==============================] - 36s 912us/sample - loss: 1.0900 - accuracy: 0.6226 - val_loss: 1.4530 - val_accuracy: 0.5132\n",
      "Epoch 45/500\n",
      "40000/40000 [==============================] - 36s 905us/sample - loss: 1.0760 - accuracy: 0.6287 - val_loss: 1.4682 - val_accuracy: 0.5054\n",
      "Epoch 46/500\n",
      "40000/40000 [==============================] - 37s 916us/sample - loss: 1.0711 - accuracy: 0.6295 - val_loss: 1.4486 - val_accuracy: 0.5114\n",
      "Epoch 47/500\n",
      "40000/40000 [==============================] - 37s 914us/sample - loss: 1.0638 - accuracy: 0.6347 - val_loss: 1.4484 - val_accuracy: 0.5133\n",
      "Epoch 48/500\n",
      "40000/40000 [==============================] - 36s 904us/sample - loss: 1.0502 - accuracy: 0.6389 - val_loss: 1.4708 - val_accuracy: 0.5085\n",
      "Epoch 49/500\n",
      "40000/40000 [==============================] - 37s 918us/sample - loss: 1.0479 - accuracy: 0.6392 - val_loss: 1.4536 - val_accuracy: 0.5142\n",
      "Epoch 50/500\n",
      "40000/40000 [==============================] - 37s 913us/sample - loss: 1.0350 - accuracy: 0.6438 - val_loss: 1.4484 - val_accuracy: 0.5164\n",
      "Epoch 51/500\n",
      "40000/40000 [==============================] - 36s 910us/sample - loss: 1.0325 - accuracy: 0.6415 - val_loss: 1.4516 - val_accuracy: 0.5118\n",
      "Epoch 52/500\n",
      "40000/40000 [==============================] - 36s 908us/sample - loss: 1.0240 - accuracy: 0.6461 - val_loss: 1.4738 - val_accuracy: 0.5118\n",
      "Epoch 53/500\n",
      "39968/40000 [============================>.] - ETA: 0s - loss: 1.0094 - accuracy: 0.6494Restoring model weights from the end of the best epoch.\n",
      "40000/40000 [==============================] - 36s 907us/sample - loss: 1.0096 - accuracy: 0.6494 - val_loss: 1.4628 - val_accuracy: 0.5160\n"
     ]
    },
    {
     "name": "stdout",
     "output_type": "stream",
     "text": [
      "Epoch 00053: early stopping\n"
     ]
    }
   ],
   "source": [
    "escb=tensorflow.keras.callbacks.EarlyStopping(monitor='val_accuracy',patience=10,verbose=2,restore_best_weights=True)\n",
    "history=model1.fit(initial_epoch=0,x=x_train,y=y_train,epochs=ep,validation_data=(x_val,y_val),batch_size=32,callbacks=[escb])#"
   ]
  },
  {
   "cell_type": "code",
   "execution_count": 8,
   "metadata": {
    "scrolled": true
   },
   "outputs": [
    {
     "data": {
      "image/png": "[encoded data removed]",
      "text/plain": [
       "<Figure size 576x360 with 1 Axes>"
      ]
     },
     "metadata": {
      "needs_background": "light"
     },
     "output_type": "display_data"
    }
   ],
   "source": [
    "keras_plotter(history)"
   ]
  },
  {
   "cell_type": "code",
   "execution_count": 9,
   "metadata": {},
   "outputs": [
    {
     "name": "stdout",
     "output_type": "stream",
     "text": [
      "Train Accuracy 0.68655\n"
     ]
    }
   ],
   "source": [
    "import numpy as np\n",
    "y_pred=model1.predict(x_train)\n",
    "y_pred_sparse=np.argmax(y_pred,axis=1)\n",
    "y_train_sparse=np.argmax(y_train,axis=1)\n",
    "from sklearn.metrics import accuracy_score\n",
    "acc=accuracy_score(y_train_sparse,y_pred_sparse)\n",
    "print(\"Train Accuracy\",acc)"
   ]
  },
  {
   "cell_type": "code",
   "execution_count": 10,
   "metadata": {},
   "outputs": [
    {
     "name": "stdout",
     "output_type": "stream",
     "text": [
      "Validation Loss 0.5141\n"
     ]
    }
   ],
   "source": [
    "import numpy as np\n",
    "y_pred=model1.predict(x_val)\n",
    "y_pred_sparse=np.argmax(y_pred,axis=1)\n",
    "y_val_sparse=np.argmax(y_val,axis=1)\n",
    "from sklearn.metrics import accuracy_score\n",
    "acc=accuracy_score(y_val_sparse,y_pred_sparse)\n",
    "print(\"Validation Loss\",acc)"
   ]
  },
  {
   "cell_type": "code",
   "execution_count": 11,
   "metadata": {},
   "outputs": [
    {
     "name": "stdout",
     "output_type": "stream",
     "text": [
      "Test Accuracy 0.5148\n"
     ]
    }
   ],
   "source": [
    "import numpy as np\n",
    "y_pred=model1.predict(x_test)\n",
    "y_pred_sparse=np.argmax(y_pred,axis=1)\n",
    "y_test_sparse=np.argmax(y_test,axis=1)\n",
    "from sklearn.metrics import accuracy_score\n",
    "acc=accuracy_score(y_test_sparse,y_pred_sparse)\n",
    "print(\"Test Accuracy\",acc)"
   ]
  },
  {
   "cell_type": "code",
   "execution_count": 12,
   "metadata": {},
   "outputs": [
    {
     "name": "stdout",
     "output_type": "stream",
     "text": [
      "test\n",
      "MC Dropout Test Loss 0.5386\n"
     ]
    }
   ],
   "source": [
    "def mc_droupout(model1,x_test,y_test):\n",
    "    \n",
    "    num_iter=100\n",
    "    print(\"test\")\n",
    "    y_prob_pred_temp=np.zeros((10000,10,num_iter))\n",
    "\n",
    "    for i in range(num_iter):\n",
    "\n",
    "        y_prob_pred_temp[:,:,i]=model1.predict(x_test)\n",
    "\n",
    "    y_prob_pred=y_prob_pred_temp.mean(axis=2)\n",
    "    y_prob_pred_sparse=np.argmax(y_prob_pred,axis=1)\n",
    "    return y_prob_pred_sparse\n",
    "\n",
    "y_prob_pred_sparse=mc_droupout(model1,x_test,y_test)\n",
    "y_test_sparse=np.argmax(y_test,axis=1)\n",
    "    \n",
    "from sklearn.metrics import accuracy_score\n",
    "acc=accuracy_score(y_test_sparse,y_prob_pred_sparse)\n",
    "print(\"MC Dropout Test Loss\",acc)\n"
   ]
  },
  {
   "cell_type": "code",
   "execution_count": null,
   "metadata": {},
   "outputs": [],
   "source": []
  }
 ],
 "metadata": {
  "kernelspec": {
   "display_name": "Python 3",
   "language": "python",
   "name": "python3"
  },
  "language_info": {
   "codemirror_mode": {
    "name": "ipython",
    "version": 3
   },
   "file_extension": ".py",
   "mimetype": "text/x-python",
   "name": "python",
   "nbconvert_exporter": "python",
   "pygments_lexer": "ipython3",
   "version": "3.7.6"
  }
 },
 "nbformat": 4,
 "nbformat_minor": 4
}
