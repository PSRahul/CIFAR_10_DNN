{
 "cells": [
  {
   "cell_type": "code",
   "execution_count": 1,
   "metadata": {},
   "outputs": [],
   "source": [
    "def keras_plotter(history):\n",
    "    import pandas as pd\n",
    "    import matplotlib.pyplot as plt\n",
    "    \n",
    "    pd.DataFrame(history.history).plot(figsize=(8,5))\n",
    "    plt.grid(True)\n",
    "    plt.gca().set_ylim(0,2)\n",
    "    plt.savefig(\"partb_final.jpeg\")\n",
    "    plt.show()\n",
    "   "
   ]
  },
  {
   "cell_type": "code",
   "execution_count": 2,
   "metadata": {},
   "outputs": [],
   "source": [
    "import tensorflow as tf\n",
    "from tensorflow import keras\n",
    "from tensorflow.keras.datasets import cifar10\n",
    "\n",
    "(x_train_val, y_train_val), (x_test, y_test) = cifar10.load_data()\n",
    "\n",
    "from sklearn.model_selection import StratifiedShuffleSplit\n",
    "strat_split=StratifiedShuffleSplit(n_splits=1,test_size=0.2)\n",
    "for train_index,test_index in strat_split.split(x_train_val,y_train_val):\n",
    "    x_train,y_train=x_train_val[train_index],y_train_val[train_index]\n",
    "    x_val,y_val=x_train_val[test_index],y_train_val[test_index]\n",
    "    \n",
    "x_train_val=x_train_val.reshape((50000,3072))\n",
    "x_train=x_train.reshape((40000,3072))\n",
    "x_val=x_val.reshape((10000,3072))\n",
    "x_test=x_test.reshape((10000,3072))\n",
    "\n",
    "from sklearn.preprocessing import StandardScaler\n",
    "sta_scal=StandardScaler()\n",
    "sta_scal.fit(x_train)\n",
    "x_train_val=sta_scal.transform(x_train_val)\n",
    "x_train=sta_scal.transform(x_train)\n",
    "x_val=sta_scal.transform(x_val)\n",
    "x_test=sta_scal.transform(x_test)\n",
    "\n",
    "\n",
    "x_train_val=x_train_val.reshape((50000,32, 32, 3))\n",
    "x_train=x_train.reshape((40000,32, 32, 3))\n",
    "x_val=x_val.reshape((10000,32, 32, 3))\n",
    "x_test=x_test.reshape((10000,32, 32, 3))\n",
    "\n",
    "\n",
    "y_train_val=keras.utils.to_categorical(y_train_val,10)\n",
    "y_train=keras.utils.to_categorical(y_train,10)\n",
    "y_val=keras.utils.to_categorical(y_val,10)\n",
    "y_test=keras.utils.to_categorical(y_test,10)\n"
   ]
  },
  {
   "cell_type": "code",
   "execution_count": 3,
   "metadata": {},
   "outputs": [],
   "source": [
    "#HyperParameters Definition\n",
    "import tensorflow\n",
    "n_hidden=20\n",
    "n_units=200\n",
    "act='elu'\n",
    "out_act='softmax'\n",
    "init='he_normal'\n",
    "init_lr=0.0001\n",
    "loss_def='categorical_crossentropy'\n",
    "ep=500\n",
    "opt=tensorflow.keras.optimizers.Nadam(learning_rate=0.0001)\n",
    "loss=tensorflow.keras.losses.categorical_crossentropy"
   ]
  },
  {
   "cell_type": "code",
   "execution_count": 4,
   "metadata": {},
   "outputs": [],
   "source": [
    "#Model Definition\n",
    "import tensorflow as tf\n",
    "from tensorflow import keras\n",
    "#model1=Sequential()\n",
    "ins=tf.keras.layers.Input(shape=x_train.shape[1:])\n",
    "layer1=tf.keras.layers.Flatten(input_shape=x_train.shape[1:])(ins)\n",
    "layer1=tf.keras.layers.Dense(units=n_units,activation=act,kernel_initializer=init)(layer1)\n",
    "for i in range(n_hidden-1):\n",
    "    layer1=tf.keras.layers.Dense(units=n_units,activation=act,kernel_initializer=init)(layer1)\n",
    "    if(i%3)==0:\n",
    "        layer1=tf.keras.layers.Dropout(0.3)(layer1,training=True)\n",
    "  \n",
    "outs = tf.keras.layers.Dense(units=10,activation=out_act,kernel_initializer=init)(layer1)\n",
    "model1=tf.keras.Model(inputs=ins,outputs=outs)\n",
    "model1.compile(optimizer=opt,loss=loss_def,metrics=['accuracy'])\n",
    "#model1.add()    "
   ]
  },
  {
   "cell_type": "code",
   "execution_count": 5,
   "metadata": {},
   "outputs": [
    {
     "data": {
      "text/plain": [
       "\"\\n#Model Definition\\n\\nmodel1=tensorflow.keras.models.Sequential()\\nmodel1.add(tensorflow.keras.layers.Flatten(input_shape=x_train.shape[1:]))\\n\\nfor i in range(n_hidden):\\n    model1.add(tensorflow.keras.layers.Dense(units=n_units,activation=act,kernel_initializer=init,kernel_regularizer=keras.regularizers.l2(0.01)))\\n\\nmodel1.add(tensorflow.keras.layers.Dense(units=10,activation=out_act,kernel_initializer=init,kernel_regularizer=keras.regularizers.l2(0.01)))   \\nmodel1.compile(optimizer=opt,loss=loss_def,metrics=['accuracy'])\\n\""
      ]
     },
     "execution_count": 5,
     "metadata": {},
     "output_type": "execute_result"
    }
   ],
   "source": [
    "'''\n",
    "#Model Definition\n",
    "\n",
    "model1=tensorflow.keras.models.Sequential()\n",
    "model1.add(tensorflow.keras.layers.Flatten(input_shape=x_train.shape[1:]))\n",
    "\n",
    "for i in range(n_hidden):\n",
    "    model1.add(tensorflow.keras.layers.Dense(units=n_units,activation=act,kernel_initializer=init,kernel_regularizer=keras.regularizers.l2(0.01)))\n",
    "\n",
    "model1.add(tensorflow.keras.layers.Dense(units=10,activation=out_act,kernel_initializer=init,kernel_regularizer=keras.regularizers.l2(0.01)))   \n",
    "model1.compile(optimizer=opt,loss=loss_def,metrics=['accuracy'])\n",
    "'''"
   ]
  },
  {
   "cell_type": "code",
   "execution_count": 6,
   "metadata": {},
   "outputs": [
    {
     "name": "stdout",
     "output_type": "stream",
     "text": [
      "Train on 40000 samples\n",
      "40000/40000 [==============================] - 21s 527us/sample - loss: nan - accuracy: 0.1013\n"
     ]
    },
    {
     "data": {
      "image/png": "[encoded data removed]",
      "text/plain": [
       "<Figure size 432x288 with 1 Axes>"
      ]
     },
     "metadata": {
      "needs_background": "light"
     },
     "output_type": "display_data"
    }
   ],
   "source": [
    "import tensorflow as tf\n",
    "from tensorflow import keras\n",
    "model2=tf.keras.models.clone_model(model1)\n",
    "model2.compile(optimizer=opt,loss=loss_def,metrics=['accuracy'])\n",
    "K=tf.keras.backend\n",
    "\n",
    "class explr(keras.callbacks.Callback):\n",
    "    def __init__(self,factor):\n",
    "        self.factor=factor\n",
    "        self.rates=[]\n",
    "        self.losses=[]\n",
    "    \n",
    "    def on_batch_end(self,batch,logs):\n",
    "        self.rates.append(K.get_value(self.model.optimizer.lr))\n",
    "        self.losses.append(logs['loss'])\n",
    "        K.set_value(self.model.optimizer.lr,self.model.optimizer.lr*self.factor)\n",
    "    \n",
    "\n",
    "def lr_finder(model,x,y,epochs=1,batch_size=32,min_rate=1e-5,max_rate=10):\n",
    "    import numpy as np\n",
    "    init_w=model.get_weights()\n",
    "    init_lr=K.get_value(model.optimizer.lr)\n",
    "    iterations=len(x)//batch_size*epochs\n",
    "    factor=np.exp(np.log(max_rate/min_rate)/iterations)\n",
    "    K.set_value(model.optimizer.lr,min_rate)\n",
    "   \n",
    "    \n",
    "    exp_lr=explr(factor)\n",
    "    model.fit(x,y,epochs=epochs,batch_size=batch_size,callbacks=[exp_lr])\n",
    "    model.set_weights(init_w)\n",
    "    K.set_value(model.optimizer.lr,init_lr)\n",
    "    rates=exp_lr.rates\n",
    "    losses=exp_lr.losses\n",
    "   \n",
    "    \n",
    "    import matplotlib.pyplot as plt\n",
    "    plt.plot(rates,losses)\n",
    "    plt.gca().set_xscale(\"log\")\n",
    "    plt.hlines(min(losses),min(rates),max(rates))\n",
    "    plt.axis([min(rates),max(rates),min(losses),15])\n",
    "    plt.xlabel(\"Learning Rate\")\n",
    "    \n",
    "\n",
    "lr_finder(model2,x_train,y_train,epochs=1,batch_size=32,min_rate=1e-5,max_rate=15)"
   ]
  },
  {
   "cell_type": "code",
   "execution_count": 7,
   "metadata": {},
   "outputs": [
    {
     "name": "stdout",
     "output_type": "stream",
     "text": [
      "Train on 40000 samples, validate on 10000 samples\n",
      "Epoch 1/500\n",
      "40000/40000 [==============================] - 25s 625us/sample - loss: 2.7940 - accuracy: 0.1160 - val_loss: 2.4506 - val_accuracy: 0.1346\n",
      "Epoch 2/500\n",
      "40000/40000 [==============================] - 27s 675us/sample - loss: 2.3413 - accuracy: 0.1537 - val_loss: 2.2730 - val_accuracy: 0.1573\n",
      "Epoch 3/500\n",
      "40000/40000 [==============================] - 26s 655us/sample - loss: 2.2089 - accuracy: 0.1710 - val_loss: 2.1582 - val_accuracy: 0.1820\n",
      "Epoch 4/500\n",
      "40000/40000 [==============================] - 26s 655us/sample - loss: 2.0871 - accuracy: 0.2090 - val_loss: 2.0480 - val_accuracy: 0.2175\n",
      "Epoch 5/500\n",
      "40000/40000 [==============================] - 26s 657us/sample - loss: 1.9876 - accuracy: 0.2443 - val_loss: 1.9670 - val_accuracy: 0.2554\n",
      "Epoch 6/500\n",
      "40000/40000 [==============================] - 26s 659us/sample - loss: 1.9182 - accuracy: 0.2709 - val_loss: 1.9050 - val_accuracy: 0.2858\n",
      "Epoch 7/500\n",
      "40000/40000 [==============================] - 26s 653us/sample - loss: 1.8488 - accuracy: 0.3057 - val_loss: 1.8474 - val_accuracy: 0.3161\n",
      "Epoch 8/500\n",
      "40000/40000 [==============================] - 26s 648us/sample - loss: 1.7805 - accuracy: 0.3421 - val_loss: 1.7993 - val_accuracy: 0.3400\n",
      "Epoch 9/500\n",
      "40000/40000 [==============================] - 26s 649us/sample - loss: 1.7292 - accuracy: 0.3607 - val_loss: 1.7424 - val_accuracy: 0.3583\n",
      "Epoch 10/500\n",
      "40000/40000 [==============================] - 26s 648us/sample - loss: 1.6773 - accuracy: 0.3821 - val_loss: 1.7204 - val_accuracy: 0.3644\n",
      "Epoch 11/500\n",
      "40000/40000 [==============================] - 20s 507us/sample - loss: 1.6357 - accuracy: 0.4028 - val_loss: 1.7088 - val_accuracy: 0.3819\n",
      "Epoch 12/500\n",
      "40000/40000 [==============================] - 20s 494us/sample - loss: 1.5964 - accuracy: 0.4166 - val_loss: 1.6800 - val_accuracy: 0.3976\n",
      "Epoch 13/500\n",
      "40000/40000 [==============================] - 20s 503us/sample - loss: 1.5617 - accuracy: 0.4311 - val_loss: 1.6570 - val_accuracy: 0.4023\n",
      "Epoch 14/500\n",
      "40000/40000 [==============================] - 20s 505us/sample - loss: 1.5333 - accuracy: 0.4451 - val_loss: 1.6514 - val_accuracy: 0.4153\n",
      "Epoch 15/500\n",
      "40000/40000 [==============================] - 20s 498us/sample - loss: 1.5006 - accuracy: 0.4557 - val_loss: 1.6327 - val_accuracy: 0.4148\n",
      "Epoch 16/500\n",
      "40000/40000 [==============================] - 20s 499us/sample - loss: 1.4706 - accuracy: 0.4698 - val_loss: 1.6328 - val_accuracy: 0.4132\n",
      "Epoch 17/500\n",
      "40000/40000 [==============================] - 20s 509us/sample - loss: 1.4460 - accuracy: 0.4795 - val_loss: 1.6106 - val_accuracy: 0.4344\n",
      "Epoch 18/500\n",
      "40000/40000 [==============================] - 20s 498us/sample - loss: 1.4187 - accuracy: 0.4912 - val_loss: 1.6138 - val_accuracy: 0.4433\n",
      "Epoch 19/500\n",
      "40000/40000 [==============================] - 22s 560us/sample - loss: 1.3944 - accuracy: 0.5031 - val_loss: 1.6203 - val_accuracy: 0.4436\n",
      "Epoch 20/500\n",
      "40000/40000 [==============================] - 26s 657us/sample - loss: 1.3725 - accuracy: 0.5139 - val_loss: 1.5797 - val_accuracy: 0.4406\n",
      "Epoch 21/500\n",
      "40000/40000 [==============================] - 26s 662us/sample - loss: 1.3498 - accuracy: 0.5184 - val_loss: 1.5848 - val_accuracy: 0.4446\n",
      "Epoch 22/500\n",
      "40000/40000 [==============================] - 26s 660us/sample - loss: 1.3278 - accuracy: 0.5280 - val_loss: 1.5819 - val_accuracy: 0.4565\n",
      "Epoch 23/500\n",
      "40000/40000 [==============================] - 26s 658us/sample - loss: 1.3065 - accuracy: 0.5372 - val_loss: 1.5866 - val_accuracy: 0.4572\n",
      "Epoch 24/500\n",
      "40000/40000 [==============================] - 26s 661us/sample - loss: 1.2878 - accuracy: 0.5426 - val_loss: 1.5788 - val_accuracy: 0.4583\n",
      "Epoch 25/500\n",
      "40000/40000 [==============================] - 27s 664us/sample - loss: 1.2672 - accuracy: 0.5530 - val_loss: 1.5570 - val_accuracy: 0.4682\n",
      "Epoch 26/500\n",
      "40000/40000 [==============================] - 27s 673us/sample - loss: 1.2496 - accuracy: 0.5603 - val_loss: 1.5873 - val_accuracy: 0.4696\n",
      "Epoch 27/500\n",
      "40000/40000 [==============================] - 26s 659us/sample - loss: 1.2321 - accuracy: 0.5660 - val_loss: 1.5765 - val_accuracy: 0.4693\n",
      "Epoch 28/500\n",
      "40000/40000 [==============================] - 27s 666us/sample - loss: 1.2161 - accuracy: 0.5725 - val_loss: 1.5774 - val_accuracy: 0.4696\n",
      "Epoch 29/500\n",
      "40000/40000 [==============================] - 27s 674us/sample - loss: 1.1960 - accuracy: 0.5819 - val_loss: 1.5816 - val_accuracy: 0.4726\n",
      "Epoch 30/500\n",
      "40000/40000 [==============================] - 26s 662us/sample - loss: 1.1822 - accuracy: 0.5841 - val_loss: 1.5869 - val_accuracy: 0.4741\n",
      "Epoch 31/500\n",
      "40000/40000 [==============================] - 27s 673us/sample - loss: 1.1648 - accuracy: 0.5885 - val_loss: 1.5806 - val_accuracy: 0.4803\n",
      "Epoch 32/500\n",
      "40000/40000 [==============================] - 27s 663us/sample - loss: 1.1509 - accuracy: 0.5967 - val_loss: 1.5930 - val_accuracy: 0.4839\n",
      "Epoch 33/500\n",
      "40000/40000 [==============================] - 27s 675us/sample - loss: 1.1352 - accuracy: 0.6030 - val_loss: 1.5734 - val_accuracy: 0.4822\n",
      "Epoch 34/500\n",
      "40000/40000 [==============================] - 28s 690us/sample - loss: 1.1208 - accuracy: 0.6055 - val_loss: 1.5941 - val_accuracy: 0.4791\n",
      "Epoch 35/500\n",
      "40000/40000 [==============================] - 27s 683us/sample - loss: 1.1076 - accuracy: 0.6120 - val_loss: 1.6091 - val_accuracy: 0.4802\n",
      "Epoch 36/500\n",
      "40000/40000 [==============================] - 27s 686us/sample - loss: 1.1046 - accuracy: 0.6148 - val_loss: 1.5595 - val_accuracy: 0.4810\n",
      "Epoch 37/500\n",
      "40000/40000 [==============================] - 27s 670us/sample - loss: 1.0828 - accuracy: 0.6207 - val_loss: 1.5794 - val_accuracy: 0.4834\n",
      "Epoch 38/500\n",
      "40000/40000 [==============================] - 27s 668us/sample - loss: 1.0705 - accuracy: 0.6255 - val_loss: 1.5908 - val_accuracy: 0.4861\n",
      "Epoch 39/500\n",
      "40000/40000 [==============================] - 27s 672us/sample - loss: 1.0563 - accuracy: 0.6279 - val_loss: 1.6027 - val_accuracy: 0.4942\n",
      "Epoch 40/500\n",
      "40000/40000 [==============================] - 28s 688us/sample - loss: 1.0491 - accuracy: 0.6328 - val_loss: 1.5892 - val_accuracy: 0.4817\n",
      "Epoch 41/500\n",
      "40000/40000 [==============================] - 28s 694us/sample - loss: 1.0329 - accuracy: 0.6392 - val_loss: 1.5603 - val_accuracy: 0.4955\n",
      "Epoch 42/500\n",
      "40000/40000 [==============================] - 27s 670us/sample - loss: 1.0214 - accuracy: 0.6447 - val_loss: 1.5841 - val_accuracy: 0.4945\n",
      "Epoch 43/500\n",
      "40000/40000 [==============================] - 28s 691us/sample - loss: 1.0053 - accuracy: 0.6501 - val_loss: 1.6002 - val_accuracy: 0.4958\n",
      "Epoch 44/500\n",
      "40000/40000 [==============================] - 28s 696us/sample - loss: 0.9952 - accuracy: 0.6544 - val_loss: 1.6228 - val_accuracy: 0.4874\n",
      "Epoch 45/500\n",
      "40000/40000 [==============================] - 27s 678us/sample - loss: 0.9777 - accuracy: 0.6594 - val_loss: 1.6407 - val_accuracy: 0.4865\n",
      "Epoch 46/500\n",
      "40000/40000 [==============================] - 27s 675us/sample - loss: 0.9764 - accuracy: 0.6622 - val_loss: 1.5839 - val_accuracy: 0.4944\n",
      "Epoch 47/500\n",
      "40000/40000 [==============================] - 27s 675us/sample - loss: 0.9609 - accuracy: 0.6661 - val_loss: 1.6346 - val_accuracy: 0.4955\n",
      "Epoch 48/500\n",
      "40000/40000 [==============================] - 27s 669us/sample - loss: 0.9490 - accuracy: 0.6723 - val_loss: 1.6288 - val_accuracy: 0.4886\n",
      "Epoch 49/500\n",
      "40000/40000 [==============================] - 27s 671us/sample - loss: 0.9415 - accuracy: 0.6708 - val_loss: 1.5834 - val_accuracy: 0.4940\n",
      "Epoch 50/500\n",
      "40000/40000 [==============================] - 27s 671us/sample - loss: 0.9328 - accuracy: 0.6752 - val_loss: 1.6831 - val_accuracy: 0.4932\n",
      "Epoch 51/500\n",
      "40000/40000 [==============================] - 27s 677us/sample - loss: 0.9251 - accuracy: 0.6805 - val_loss: 1.6554 - val_accuracy: 0.4816\n",
      "Epoch 52/500\n",
      "40000/40000 [==============================] - 27s 668us/sample - loss: 0.9150 - accuracy: 0.6814 - val_loss: 1.6907 - val_accuracy: 0.4945\n",
      "Epoch 53/500\n",
      "40000/40000 [==============================] - 27s 683us/sample - loss: 0.9109 - accuracy: 0.6834 - val_loss: 1.7001 - val_accuracy: 0.5073\n",
      "Epoch 54/500\n"
     ]
    },
    {
     "name": "stdout",
     "output_type": "stream",
     "text": [
      "40000/40000 [==============================] - 26s 658us/sample - loss: 0.8942 - accuracy: 0.6929 - val_loss: 1.6831 - val_accuracy: 0.4957\n",
      "Epoch 55/500\n",
      "40000/40000 [==============================] - 26s 657us/sample - loss: 0.8798 - accuracy: 0.6956 - val_loss: 1.6601 - val_accuracy: 0.5017\n",
      "Epoch 56/500\n",
      "40000/40000 [==============================] - 26s 655us/sample - loss: 0.9440 - accuracy: 0.6768 - val_loss: 1.6578 - val_accuracy: 0.4963\n",
      "Epoch 57/500\n",
      "40000/40000 [==============================] - 26s 657us/sample - loss: 0.8808 - accuracy: 0.6941 - val_loss: 1.6695 - val_accuracy: 0.4995\n",
      "Epoch 58/500\n",
      "40000/40000 [==============================] - 26s 661us/sample - loss: 0.8539 - accuracy: 0.7062 - val_loss: 1.6965 - val_accuracy: 0.4916\n",
      "Epoch 59/500\n",
      "40000/40000 [==============================] - 27s 674us/sample - loss: 0.8493 - accuracy: 0.7065 - val_loss: 1.6583 - val_accuracy: 0.4977\n",
      "Epoch 60/500\n",
      "40000/40000 [==============================] - 27s 668us/sample - loss: 0.8405 - accuracy: 0.7122 - val_loss: 1.7074 - val_accuracy: 0.4950\n",
      "Epoch 61/500\n",
      "40000/40000 [==============================] - 27s 666us/sample - loss: 0.8360 - accuracy: 0.7106 - val_loss: 1.7345 - val_accuracy: 0.5002\n",
      "Epoch 62/500\n",
      "40000/40000 [==============================] - 27s 670us/sample - loss: 0.8353 - accuracy: 0.7135 - val_loss: 1.6813 - val_accuracy: 0.5031\n",
      "Epoch 63/500\n",
      "39936/40000 [============================>.] - ETA: 0s - loss: 0.8258 - accuracy: 0.7164Restoring model weights from the end of the best epoch.\n",
      "40000/40000 [==============================] - 27s 668us/sample - loss: 0.8264 - accuracy: 0.7162 - val_loss: 1.7621 - val_accuracy: 0.4977\n",
      "Epoch 00063: early stopping\n"
     ]
    }
   ],
   "source": [
    "escb=tensorflow.keras.callbacks.EarlyStopping(monitor='val_accuracy',patience=10,verbose=2,restore_best_weights=True)\n",
    "history=model1.fit(initial_epoch=0,x=x_train,y=y_train,epochs=ep,validation_data=(x_val,y_val),batch_size=32,callbacks=[escb])#"
   ]
  },
  {
   "cell_type": "code",
   "execution_count": 8,
   "metadata": {
    "scrolled": true
   },
   "outputs": [
    {
     "data": {
      "image/png": "[encoded data removed]",
      "text/plain": [
       "<Figure size 576x360 with 1 Axes>"
      ]
     },
     "metadata": {
      "needs_background": "light"
     },
     "output_type": "display_data"
    }
   ],
   "source": [
    "keras_plotter(history)"
   ]
  },
  {
   "cell_type": "code",
   "execution_count": 9,
   "metadata": {},
   "outputs": [
    {
     "name": "stdout",
     "output_type": "stream",
     "text": [
      "Train Accuracy 0.704\n"
     ]
    }
   ],
   "source": [
    "import numpy as np\n",
    "y_pred=model1.predict(x_train)\n",
    "y_pred_sparse=np.argmax(y_pred,axis=1)\n",
    "y_train_sparse=np.argmax(y_train,axis=1)\n",
    "from sklearn.metrics import accuracy_score\n",
    "acc=accuracy_score(y_train_sparse,y_pred_sparse)\n",
    "print(\"Train Accuracy\",acc)"
   ]
  },
  {
   "cell_type": "code",
   "execution_count": 10,
   "metadata": {},
   "outputs": [
    {
     "name": "stdout",
     "output_type": "stream",
     "text": [
      "Validation Loss 0.5024\n"
     ]
    }
   ],
   "source": [
    "import numpy as np\n",
    "y_pred=model1.predict(x_val)\n",
    "y_pred_sparse=np.argmax(y_pred,axis=1)\n",
    "y_val_sparse=np.argmax(y_val,axis=1)\n",
    "from sklearn.metrics import accuracy_score\n",
    "acc=accuracy_score(y_val_sparse,y_pred_sparse)\n",
    "print(\"Validation Loss\",acc)"
   ]
  },
  {
   "cell_type": "code",
   "execution_count": 11,
   "metadata": {},
   "outputs": [
    {
     "name": "stdout",
     "output_type": "stream",
     "text": [
      "Test Accuracy 0.4997\n"
     ]
    }
   ],
   "source": [
    "import numpy as np\n",
    "y_pred=model1.predict(x_test)\n",
    "y_pred_sparse=np.argmax(y_pred,axis=1)\n",
    "y_test_sparse=np.argmax(y_test,axis=1)\n",
    "from sklearn.metrics import accuracy_score\n",
    "acc=accuracy_score(y_test_sparse,y_pred_sparse)\n",
    "print(\"Test Accuracy\",acc)"
   ]
  },
  {
   "cell_type": "code",
   "execution_count": 12,
   "metadata": {},
   "outputs": [
    {
     "name": "stdout",
     "output_type": "stream",
     "text": [
      "test\n",
      "MC Dropout Test Loss 0.5369\n"
     ]
    }
   ],
   "source": [
    "def mc_droupout(model1,x_test,y_test):\n",
    "    \n",
    "    num_iter=100\n",
    "    print(\"test\")\n",
    "    y_prob_pred_temp=np.zeros((10000,10,num_iter))\n",
    "\n",
    "    for i in range(num_iter):\n",
    "\n",
    "        y_prob_pred_temp[:,:,i]=model1.predict(x_test)\n",
    "\n",
    "    y_prob_pred=y_prob_pred_temp.mean(axis=2)\n",
    "    y_prob_pred_sparse=np.argmax(y_prob_pred,axis=1)\n",
    "    return y_prob_pred_sparse\n",
    "\n",
    "y_prob_pred_sparse=mc_droupout(model1,x_test,y_test)\n",
    "y_test_sparse=np.argmax(y_test,axis=1)\n",
    "    \n",
    "from sklearn.metrics import accuracy_score\n",
    "acc=accuracy_score(y_test_sparse,y_prob_pred_sparse)\n",
    "print(\"MC Dropout Test Loss\",acc)\n"
   ]
  },
  {
   "cell_type": "code",
   "execution_count": null,
   "metadata": {},
   "outputs": [],
   "source": []
  }
 ],
 "metadata": {
  "kernelspec": {
   "display_name": "Python 3",
   "language": "python",
   "name": "python3"
  },
  "language_info": {
   "codemirror_mode": {
    "name": "ipython",
    "version": 3
   },
   "file_extension": ".py",
   "mimetype": "text/x-python",
   "name": "python",
   "nbconvert_exporter": "python",
   "pygments_lexer": "ipython3",
   "version": "3.7.6"
  }
 },
 "nbformat": 4,
 "nbformat_minor": 4
}
