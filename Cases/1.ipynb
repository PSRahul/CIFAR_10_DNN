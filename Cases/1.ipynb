{
 "cells": [
  {
   "cell_type": "code",
   "execution_count": 1,
   "metadata": {},
   "outputs": [],
   "source": [
    "def keras_plotter(history):\n",
    "    import pandas as pd\n",
    "    import matplotlib.pyplot as plt\n",
    "    \n",
    "    pd.DataFrame(history.history).plot(figsize=(8,5))\n",
    "    plt.grid(True)\n",
    "    plt.gca().set_ylim(0,2)\n",
    "    plt.savefig(\"partb_final.jpeg\")\n",
    "    plt.show()\n",
    "   "
   ]
  },
  {
   "cell_type": "code",
   "execution_count": 2,
   "metadata": {},
   "outputs": [
    {
     "name": "stderr",
     "output_type": "stream",
     "text": [
      "Using TensorFlow backend.\n"
     ]
    }
   ],
   "source": [
    "import tensorflow as tf\n",
    "from tensorflow import keras\n",
    "from keras.datasets import cifar10\n",
    "\n",
    "(x_train_val, y_train_val), (x_test, y_test) = cifar10.load_data()\n",
    "\n",
    "from sklearn.model_selection import StratifiedShuffleSplit\n",
    "strat_split=StratifiedShuffleSplit(n_splits=1,test_size=0.2)\n",
    "for train_index,test_index in strat_split.split(x_train_val,y_train_val):\n",
    "    x_train,y_train=x_train_val[train_index],y_train_val[train_index]\n",
    "    x_val,y_val=x_train_val[test_index],y_train_val[test_index]\n",
    "    \n",
    "x_train_val=x_train_val.reshape((50000,3072))\n",
    "x_train=x_train.reshape((40000,3072))\n",
    "x_val=x_val.reshape((10000,3072))\n",
    "x_test=x_test.reshape((10000,3072))\n",
    "\n",
    "from sklearn.preprocessing import StandardScaler\n",
    "sta_scal=StandardScaler()\n",
    "sta_scal.fit(x_train)\n",
    "x_train_val=sta_scal.transform(x_train_val)\n",
    "x_train=sta_scal.transform(x_train)\n",
    "x_val=sta_scal.transform(x_val)\n",
    "x_test=sta_scal.transform(x_test)\n",
    "\n",
    "\n",
    "x_train_val=x_train_val.reshape((50000,32, 32, 3))\n",
    "x_train=x_train.reshape((40000,32, 32, 3))\n",
    "x_val=x_val.reshape((10000,32, 32, 3))\n",
    "x_test=x_test.reshape((10000,32, 32, 3))\n",
    "\n",
    "\n",
    "y_train_val=keras.utils.to_categorical(y_train_val,10)\n",
    "y_train=keras.utils.to_categorical(y_train,10)\n",
    "y_val=keras.utils.to_categorical(y_val,10)\n",
    "y_test=keras.utils.to_categorical(y_test,10)\n"
   ]
  },
  {
   "cell_type": "code",
   "execution_count": 3,
   "metadata": {},
   "outputs": [],
   "source": [
    "#HyperParameters Definition\n",
    "\n",
    "n_hidden=20\n",
    "n_units=200\n",
    "act='elu'\n",
    "out_act='softmax'\n",
    "init='he_normal'\n",
    "init_lr=0.0001\n",
    "loss_def='categorical_crossentropy'\n",
    "ep=500\n",
    "opt=keras.optimizers.Nadam(learning_rate=0.0001)\n",
    "loss=keras.losses.categorical_crossentropy"
   ]
  },
  {
   "cell_type": "code",
   "execution_count": 4,
   "metadata": {},
   "outputs": [],
   "source": [
    "#Model Definition\n",
    "\n",
    "from keras.layers import Dense,Flatten\n",
    "from keras.models import Sequential\n",
    "\n",
    "model1=Sequential()\n",
    "model1.add(Flatten(input_shape=x_train.shape[1:]))\n",
    "\n",
    "for i in range(n_hidden):\n",
    "    model1.add(Dense(units=n_units,activation=act,kernel_initializer=init))\n",
    "\n",
    "model1.add(Dense(units=10,activation=out_act,kernel_initializer=init))    "
   ]
  },
  {
   "cell_type": "code",
   "execution_count": 5,
   "metadata": {},
   "outputs": [],
   "source": [
    "escb=tf.keras.callbacks.EarlyStopping(patience=10,verbose=2,restore_best_weights=True)\n",
    "model1.compile(optimizer=opt,loss=loss_def,metrics=['accuracy'])"
   ]
  },
  {
   "cell_type": "code",
   "execution_count": 6,
   "metadata": {},
   "outputs": [
    {
     "name": "stdout",
     "output_type": "stream",
     "text": [
      "Train on 40000 samples, validate on 10000 samples\n",
      "Epoch 1/500\n",
      "40000/40000 [==============================] - 19s 476us/step - loss: 1.9019 - accuracy: 0.3230 - val_loss: 1.7056 - val_accuracy: 0.3861\n",
      "Epoch 2/500\n",
      "40000/40000 [==============================] - 19s 468us/step - loss: 1.5991 - accuracy: 0.4259 - val_loss: 1.5933 - val_accuracy: 0.4272\n",
      "Epoch 3/500\n",
      "40000/40000 [==============================] - 19s 469us/step - loss: 1.4687 - accuracy: 0.4775 - val_loss: 1.5057 - val_accuracy: 0.4669\n",
      "Epoch 4/500\n",
      "40000/40000 [==============================] - 19s 470us/step - loss: 1.3668 - accuracy: 0.5127 - val_loss: 1.5056 - val_accuracy: 0.4742\n",
      "Epoch 5/500\n",
      "40000/40000 [==============================] - 19s 473us/step - loss: 1.2752 - accuracy: 0.5489 - val_loss: 1.4840 - val_accuracy: 0.4836\n",
      "Epoch 6/500\n",
      "40000/40000 [==============================] - 19s 471us/step - loss: 1.1855 - accuracy: 0.5814 - val_loss: 1.4861 - val_accuracy: 0.4808\n",
      "Epoch 7/500\n",
      "40000/40000 [==============================] - 19s 468us/step - loss: 1.0996 - accuracy: 0.6107 - val_loss: 1.4923 - val_accuracy: 0.4940\n",
      "Epoch 8/500\n",
      "40000/40000 [==============================] - 19s 470us/step - loss: 1.0193 - accuracy: 0.6428 - val_loss: 1.5382 - val_accuracy: 0.4869\n",
      "Epoch 9/500\n",
      "40000/40000 [==============================] - 24s 601us/step - loss: 0.9390 - accuracy: 0.6691 - val_loss: 1.5817 - val_accuracy: 0.4869\n",
      "Epoch 10/500\n",
      "40000/40000 [==============================] - 25s 614us/step - loss: 0.8630 - accuracy: 0.6972 - val_loss: 1.5996 - val_accuracy: 0.4907\n",
      "Epoch 11/500\n",
      "40000/40000 [==============================] - 25s 616us/step - loss: 0.7913 - accuracy: 0.7222 - val_loss: 1.6801 - val_accuracy: 0.4895\n",
      "Epoch 12/500\n",
      "40000/40000 [==============================] - 25s 616us/step - loss: 0.7247 - accuracy: 0.7460 - val_loss: 1.7363 - val_accuracy: 0.4867\n",
      "Epoch 13/500\n",
      "40000/40000 [==============================] - 25s 615us/step - loss: 0.6645 - accuracy: 0.7659 - val_loss: 1.7968 - val_accuracy: 0.4895\n",
      "Epoch 14/500\n",
      "40000/40000 [==============================] - 25s 621us/step - loss: 0.6039 - accuracy: 0.7877 - val_loss: 1.8618 - val_accuracy: 0.4838\n",
      "Epoch 15/500\n",
      "40000/40000 [==============================] - 25s 617us/step - loss: 0.5562 - accuracy: 0.8044 - val_loss: 1.9949 - val_accuracy: 0.4814\n",
      "Restoring model weights from the end of the best epoch.\n",
      "Epoch 00015: early stopping\n"
     ]
    }
   ],
   "source": [
    "history=model1.fit(x=x_train,y=y_train,epochs=ep,validation_data=(x_val,y_val),batch_size=32,callbacks=[escb])#"
   ]
  },
  {
   "cell_type": "code",
   "execution_count": 7,
   "metadata": {
    "scrolled": true
   },
   "outputs": [
    {
     "data": {
      "image/png": "[encoded data removed]",
      "text/plain": [
       "<Figure size 576x360 with 1 Axes>"
      ]
     },
     "metadata": {
      "needs_background": "light"
     },
     "output_type": "display_data"
    }
   ],
   "source": [
    "keras_plotter(history)"
   ]
  },
  {
   "cell_type": "code",
   "execution_count": 8,
   "metadata": {},
   "outputs": [
    {
     "name": "stdout",
     "output_type": "stream",
     "text": [
      "Test Loss 0.4925\n"
     ]
    }
   ],
   "source": [
    "import numpy as np\n",
    "y_pred=model1.predict(x_test)\n",
    "y_pred_sparse=np.argmax(y_pred,axis=1)\n",
    "y_test_sparse=np.argmax(y_test,axis=1)\n",
    "from sklearn.metrics import accuracy_score\n",
    "acc=accuracy_score(y_test_sparse,y_pred_sparse)\n",
    "print(\"Test Loss\",acc)"
   ]
  },
  {
   "cell_type": "code",
   "execution_count": 9,
   "metadata": {},
   "outputs": [
    {
     "name": "stdout",
     "output_type": "stream",
     "text": [
      "Train Loss 0.602775\n"
     ]
    }
   ],
   "source": [
    "import numpy as np\n",
    "y_pred=model1.predict(x_train)\n",
    "y_pred_sparse=np.argmax(y_pred,axis=1)\n",
    "y_train_sparse=np.argmax(y_train,axis=1)\n",
    "from sklearn.metrics import accuracy_score\n",
    "acc=accuracy_score(y_train_sparse,y_pred_sparse)\n",
    "print(\"Train Loss\",acc)"
   ]
  },
  {
   "cell_type": "code",
   "execution_count": 11,
   "metadata": {},
   "outputs": [
    {
     "name": "stdout",
     "output_type": "stream",
     "text": [
      "Validation Loss 0.4836\n"
     ]
    }
   ],
   "source": [
    "import numpy as np\n",
    "y_pred=model1.predict(x_val)\n",
    "y_pred_sparse=np.argmax(y_pred,axis=1)\n",
    "y_val_sparse=np.argmax(y_val,axis=1)\n",
    "from sklearn.metrics import accuracy_score\n",
    "acc=accuracy_score(y_val_sparse,y_pred_sparse)\n",
    "print(\"Validation Loss\",acc)"
   ]
  },
  {
   "cell_type": "code",
   "execution_count": null,
   "metadata": {},
   "outputs": [],
   "source": []
  }
 ],
 "metadata": {
  "kernelspec": {
   "display_name": "Python 3",
   "language": "python",
   "name": "python3"
  },
  "language_info": {
   "codemirror_mode": {
    "name": "ipython",
    "version": 3
   },
   "file_extension": ".py",
   "mimetype": "text/x-python",
   "name": "python",
   "nbconvert_exporter": "python",
   "pygments_lexer": "ipython3",
   "version": "3.7.6"
  }
 },
 "nbformat": 4,
 "nbformat_minor": 4
}
