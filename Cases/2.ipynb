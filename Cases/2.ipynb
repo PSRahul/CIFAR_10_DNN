{
 "cells": [
  {
   "cell_type": "code",
   "execution_count": 1,
   "metadata": {},
   "outputs": [],
   "source": [
    "def keras_plotter(history):\n",
    "    import pandas as pd\n",
    "    import matplotlib.pyplot as plt\n",
    "    \n",
    "    pd.DataFrame(history.history).plot(figsize=(8,5))\n",
    "    plt.grid(True)\n",
    "    plt.gca().set_ylim(0,2)\n",
    "    plt.savefig(\"partb.jpeg\")\n",
    "    plt.show()\n",
    "   "
   ]
  },
  {
   "cell_type": "code",
   "execution_count": 2,
   "metadata": {},
   "outputs": [
    {
     "name": "stderr",
     "output_type": "stream",
     "text": [
      "Using TensorFlow backend.\n"
     ]
    }
   ],
   "source": [
    "import tensorflow as tf\n",
    "from tensorflow import keras\n",
    "from keras.datasets import cifar10\n",
    "\n",
    "(x_train_val, y_train_val), (x_test, y_test) = cifar10.load_data()\n",
    "\n",
    "from sklearn.model_selection import StratifiedShuffleSplit\n",
    "strat_split=StratifiedShuffleSplit(n_splits=1,test_size=0.2)\n",
    "for train_index,test_index in strat_split.split(x_train_val,y_train_val):\n",
    "    x_train,y_train=x_train_val[train_index],y_train_val[train_index]\n",
    "    x_val,y_val=x_train_val[test_index],y_train_val[test_index]\n",
    "    \n",
    "x_train_val=x_train_val.reshape((50000,3072))\n",
    "x_train=x_train.reshape((40000,3072))\n",
    "x_val=x_val.reshape((10000,3072))\n",
    "x_test=x_test.reshape((10000,3072))\n",
    "\n",
    "from sklearn.preprocessing import StandardScaler\n",
    "sta_scal=StandardScaler()\n",
    "sta_scal.fit(x_train)\n",
    "x_train_val=sta_scal.transform(x_train_val)\n",
    "x_train=sta_scal.transform(x_train)\n",
    "x_val=sta_scal.transform(x_val)\n",
    "x_test=sta_scal.transform(x_test)\n",
    "\n",
    "\n",
    "x_train_val=x_train_val.reshape((50000,32, 32, 3))\n",
    "x_train=x_train.reshape((40000,32, 32, 3))\n",
    "x_val=x_val.reshape((10000,32, 32, 3))\n",
    "x_test=x_test.reshape((10000,32, 32, 3))\n",
    "\n",
    "\n",
    "y_train_val=keras.utils.to_categorical(y_train_val,10)\n",
    "y_train=keras.utils.to_categorical(y_train,10)\n",
    "y_val=keras.utils.to_categorical(y_val,10)\n",
    "y_test=keras.utils.to_categorical(y_test,10)\n"
   ]
  },
  {
   "cell_type": "code",
   "execution_count": 3,
   "metadata": {},
   "outputs": [],
   "source": [
    "#HyperParameters Definition\n",
    "\n",
    "n_hidden=20\n",
    "n_units=200\n",
    "act='elu'\n",
    "out_act='softmax'\n",
    "init='he_normal'\n",
    "init_lr=0.0001\n",
    "loss_def='categorical_crossentropy'\n",
    "ep=100\n",
    "opt=keras.optimizers.Nadam(learning_rate=0.0001)\n",
    "loss=keras.losses.categorical_crossentropy"
   ]
  },
  {
   "cell_type": "code",
   "execution_count": 4,
   "metadata": {},
   "outputs": [],
   "source": [
    "#Model Definition\n",
    "\n",
    "from keras.layers import Dense,Flatten,BatchNormalization\n",
    "from keras.models import Sequential\n",
    "\n",
    "model1=Sequential()\n",
    "model1.add(Flatten(input_shape=x_train.shape[1:]))\n",
    "model1.add(BatchNormalization())\n",
    "\n",
    "for i in range(n_hidden):\n",
    "    model1.add(Dense(units=n_units,activation=act,kernel_initializer=init))\n",
    "    model1.add(BatchNormalization())\n",
    "\n",
    "model1.add(Dense(units=10,activation=out_act,kernel_initializer=init))    "
   ]
  },
  {
   "cell_type": "code",
   "execution_count": 5,
   "metadata": {},
   "outputs": [],
   "source": [
    "escb=tf.keras.callbacks.EarlyStopping(patience=10,verbose=2,restore_best_weights=True)\n",
    "model1.compile(optimizer=opt,loss=loss_def,metrics=['accuracy'])"
   ]
  },
  {
   "cell_type": "code",
   "execution_count": 6,
   "metadata": {},
   "outputs": [
    {
     "name": "stdout",
     "output_type": "stream",
     "text": [
      "Train on 40000 samples, validate on 10000 samples\n",
      "Epoch 1/100\n",
      "40000/40000 [==============================] - 32s 793us/step - loss: 2.0541 - accuracy: 0.2761 - val_loss: 1.7529 - val_accuracy: 0.3665\n",
      "Epoch 2/100\n",
      "40000/40000 [==============================] - 33s 820us/step - loss: 1.7724 - accuracy: 0.3671 - val_loss: 1.6456 - val_accuracy: 0.4174\n",
      "Epoch 3/100\n",
      "40000/40000 [==============================] - 39s 963us/step - loss: 1.6652 - accuracy: 0.4050 - val_loss: 1.5658 - val_accuracy: 0.4541\n",
      "Epoch 4/100\n",
      "40000/40000 [==============================] - 39s 964us/step - loss: 1.5911 - accuracy: 0.4330 - val_loss: 1.5290 - val_accuracy: 0.4548\n",
      "Epoch 5/100\n",
      "40000/40000 [==============================] - 41s 1ms/step - loss: 1.5473 - accuracy: 0.4503 - val_loss: 1.4931 - val_accuracy: 0.4722\n",
      "Epoch 6/100\n",
      "40000/40000 [==============================] - 39s 974us/step - loss: 1.5018 - accuracy: 0.4665 - val_loss: 1.4656 - val_accuracy: 0.4844\n",
      "Epoch 7/100\n",
      "40000/40000 [==============================] - 41s 1ms/step - loss: 1.4563 - accuracy: 0.4842 - val_loss: 1.4468 - val_accuracy: 0.4856\n",
      "Epoch 8/100\n",
      "40000/40000 [==============================] - 41s 1ms/step - loss: 1.4140 - accuracy: 0.4986 - val_loss: 1.4306 - val_accuracy: 0.4970\n",
      "Epoch 9/100\n",
      "40000/40000 [==============================] - 46s 1ms/step - loss: 1.3725 - accuracy: 0.5141 - val_loss: 1.4147 - val_accuracy: 0.4951\n",
      "Epoch 10/100\n",
      "40000/40000 [==============================] - 39s 964us/step - loss: 1.3473 - accuracy: 0.5218 - val_loss: 1.4038 - val_accuracy: 0.5024\n",
      "Epoch 11/100\n",
      "40000/40000 [==============================] - 39s 968us/step - loss: 1.3081 - accuracy: 0.5372 - val_loss: 1.3937 - val_accuracy: 0.5043\n",
      "Epoch 12/100\n",
      "40000/40000 [==============================] - 39s 966us/step - loss: 1.2855 - accuracy: 0.5439 - val_loss: 1.3816 - val_accuracy: 0.5068\n",
      "Epoch 13/100\n",
      "40000/40000 [==============================] - 39s 965us/step - loss: 1.2532 - accuracy: 0.5561 - val_loss: 1.3636 - val_accuracy: 0.5156\n",
      "Epoch 14/100\n",
      "40000/40000 [==============================] - 39s 967us/step - loss: 1.2317 - accuracy: 0.5635 - val_loss: 1.3779 - val_accuracy: 0.5089\n",
      "Epoch 15/100\n",
      "40000/40000 [==============================] - 39s 972us/step - loss: 1.2005 - accuracy: 0.5768 - val_loss: 1.3480 - val_accuracy: 0.5235\n",
      "Epoch 16/100\n",
      "40000/40000 [==============================] - 40s 993us/step - loss: 1.1737 - accuracy: 0.5825 - val_loss: 1.3669 - val_accuracy: 0.5136\n",
      "Epoch 17/100\n",
      "40000/40000 [==============================] - 39s 969us/step - loss: 1.1520 - accuracy: 0.5929 - val_loss: 1.3610 - val_accuracy: 0.5215\n",
      "Epoch 18/100\n",
      "40000/40000 [==============================] - 40s 989us/step - loss: 1.1306 - accuracy: 0.6017 - val_loss: 1.3636 - val_accuracy: 0.5161\n",
      "Epoch 19/100\n",
      "40000/40000 [==============================] - 39s 971us/step - loss: 1.1128 - accuracy: 0.6039 - val_loss: 1.3474 - val_accuracy: 0.5203\n",
      "Epoch 20/100\n",
      "40000/40000 [==============================] - 39s 970us/step - loss: 1.0860 - accuracy: 0.6143 - val_loss: 1.3674 - val_accuracy: 0.5187\n",
      "Epoch 21/100\n",
      "40000/40000 [==============================] - 39s 969us/step - loss: 1.0673 - accuracy: 0.6221 - val_loss: 1.3492 - val_accuracy: 0.5288\n",
      "Epoch 22/100\n",
      "40000/40000 [==============================] - 39s 969us/step - loss: 1.0467 - accuracy: 0.6291 - val_loss: 1.3550 - val_accuracy: 0.5304\n",
      "Epoch 23/100\n",
      "40000/40000 [==============================] - 40s 988us/step - loss: 1.0276 - accuracy: 0.6374 - val_loss: 1.3664 - val_accuracy: 0.5176\n",
      "Epoch 24/100\n",
      "40000/40000 [==============================] - 39s 973us/step - loss: 1.0112 - accuracy: 0.6413 - val_loss: 1.3642 - val_accuracy: 0.5256\n",
      "Epoch 25/100\n",
      "40000/40000 [==============================] - 40s 999us/step - loss: 0.9927 - accuracy: 0.6499 - val_loss: 1.3625 - val_accuracy: 0.5282\n",
      "Epoch 26/100\n",
      "40000/40000 [==============================] - 39s 973us/step - loss: 0.9714 - accuracy: 0.6569 - val_loss: 1.3628 - val_accuracy: 0.5323\n",
      "Epoch 27/100\n",
      "40000/40000 [==============================] - 39s 979us/step - loss: 0.9580 - accuracy: 0.6627 - val_loss: 1.3717 - val_accuracy: 0.5263\n",
      "Epoch 28/100\n",
      "40000/40000 [==============================] - 38s 938us/step - loss: 0.9326 - accuracy: 0.6719 - val_loss: 1.3730 - val_accuracy: 0.5278\n",
      "Epoch 29/100\n",
      "40000/40000 [==============================] - 28s 701us/step - loss: 0.9315 - accuracy: 0.6723 - val_loss: 1.3745 - val_accuracy: 0.5314\n",
      "Restoring model weights from the end of the best epoch.\n",
      "Epoch 00029: early stopping\n"
     ]
    }
   ],
   "source": [
    "history=model1.fit(x=x_train,y=y_train,epochs=ep,validation_data=(x_val,y_val),batch_size=32,callbacks=[escb])#"
   ]
  },
  {
   "cell_type": "code",
   "execution_count": 7,
   "metadata": {
    "scrolled": true
   },
   "outputs": [
    {
     "data": {
      "image/png": "[encoded data removed]",
      "text/plain": [
       "<Figure size 576x360 with 1 Axes>"
      ]
     },
     "metadata": {
      "needs_background": "light"
     },
     "output_type": "display_data"
    }
   ],
   "source": [
    "keras_plotter(history)"
   ]
  },
  {
   "cell_type": "code",
   "execution_count": 8,
   "metadata": {},
   "outputs": [
    {
     "name": "stdout",
     "output_type": "stream",
     "text": [
      "Test Loss 0.5254\n"
     ]
    }
   ],
   "source": [
    "import numpy as np\n",
    "y_pred=model1.predict(x_test)\n",
    "y_pred_sparse=np.argmax(y_pred,axis=1)\n",
    "y_test_sparse=np.argmax(y_test,axis=1)\n",
    "from sklearn.metrics import accuracy_score\n",
    "acc=accuracy_score(y_test_sparse,y_pred_sparse)\n",
    "print(\"Test Loss\",acc)"
   ]
  },
  {
   "cell_type": "code",
   "execution_count": 9,
   "metadata": {},
   "outputs": [
    {
     "name": "stdout",
     "output_type": "stream",
     "text": [
      "Train Loss 0.709375\n"
     ]
    }
   ],
   "source": [
    "import numpy as np\n",
    "y_pred=model1.predict(x_train)\n",
    "y_pred_sparse=np.argmax(y_pred,axis=1)\n",
    "y_train_sparse=np.argmax(y_train,axis=1)\n",
    "from sklearn.metrics import accuracy_score\n",
    "acc=accuracy_score(y_train_sparse,y_pred_sparse)\n",
    "print(\"Train Loss\",acc)"
   ]
  },
  {
   "cell_type": "code",
   "execution_count": 10,
   "metadata": {},
   "outputs": [
    {
     "name": "stdout",
     "output_type": "stream",
     "text": [
      "Validation Loss 0.5203\n"
     ]
    }
   ],
   "source": [
    "import numpy as np\n",
    "y_pred=model1.predict(x_val)\n",
    "y_pred_sparse=np.argmax(y_pred,axis=1)\n",
    "y_val_sparse=np.argmax(y_val,axis=1)\n",
    "from sklearn.metrics import accuracy_score\n",
    "acc=accuracy_score(y_val_sparse,y_pred_sparse)\n",
    "print(\"Validation Loss\",acc)"
   ]
  }
 ],
 "metadata": {
  "kernelspec": {
   "display_name": "Python 3",
   "language": "python",
   "name": "python3"
  },
  "language_info": {
   "codemirror_mode": {
    "name": "ipython",
    "version": 3
   },
   "file_extension": ".py",
   "mimetype": "text/x-python",
   "name": "python",
   "nbconvert_exporter": "python",
   "pygments_lexer": "ipython3",
   "version": "3.7.6"
  }
 },
 "nbformat": 4,
 "nbformat_minor": 4
}
