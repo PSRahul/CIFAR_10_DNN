{
 "cells": [
  {
   "cell_type": "code",
   "execution_count": 1,
   "metadata": {},
   "outputs": [],
   "source": [
    "def keras_plotter(history):\n",
    "    import pandas as pd\n",
    "    import matplotlib.pyplot as plt\n",
    "    \n",
    "    pd.DataFrame(history.history).plot(figsize=(8,5))\n",
    "    plt.grid(True)\n",
    "    plt.gca().set_ylim(0,2)\n",
    "    plt.savefig(\"8_t.jpeg\")\n",
    "    plt.show()\n",
    "   "
   ]
  },
  {
   "cell_type": "code",
   "execution_count": 2,
   "metadata": {},
   "outputs": [],
   "source": [
    "import tensorflow as tf\n",
    "from tensorflow import keras\n",
    "from tensorflow.keras.datasets import cifar10\n",
    "\n",
    "(x_train_val, y_train_val), (x_test, y_test) = cifar10.load_data()\n",
    "\n",
    "from sklearn.model_selection import StratifiedShuffleSplit\n",
    "strat_split=StratifiedShuffleSplit(n_splits=1,test_size=0.2)\n",
    "for train_index,test_index in strat_split.split(x_train_val,y_train_val):\n",
    "    x_train,y_train=x_train_val[train_index],y_train_val[train_index]\n",
    "    x_val,y_val=x_train_val[test_index],y_train_val[test_index]\n",
    "    \n",
    "x_train_val=x_train_val.reshape((50000,3072))\n",
    "x_train=x_train.reshape((40000,3072))\n",
    "x_val=x_val.reshape((10000,3072))\n",
    "x_test=x_test.reshape((10000,3072))\n",
    "\n",
    "from sklearn.preprocessing import StandardScaler\n",
    "sta_scal=StandardScaler()\n",
    "sta_scal.fit(x_train)\n",
    "x_train_val=sta_scal.transform(x_train_val)\n",
    "x_train=sta_scal.transform(x_train)\n",
    "x_val=sta_scal.transform(x_val)\n",
    "x_test=sta_scal.transform(x_test)\n",
    "\n",
    "\n",
    "x_train_val=x_train_val.reshape((50000,32, 32, 3))\n",
    "x_train=x_train.reshape((40000,32, 32, 3))\n",
    "x_val=x_val.reshape((10000,32, 32, 3))\n",
    "x_test=x_test.reshape((10000,32, 32, 3))\n",
    "\n",
    "\n",
    "y_train_val=keras.utils.to_categorical(y_train_val,10)\n",
    "y_train=keras.utils.to_categorical(y_train,10)\n",
    "y_val=keras.utils.to_categorical(y_val,10)\n",
    "y_test=keras.utils.to_categorical(y_test,10)\n"
   ]
  },
  {
   "cell_type": "code",
   "execution_count": 3,
   "metadata": {},
   "outputs": [],
   "source": [
    "#HyperParameters Definition\n",
    "import tensorflow\n",
    "n_hidden=20\n",
    "n_units=200\n",
    "act='elu'\n",
    "out_act='softmax'\n",
    "init='he_normal'\n",
    "init_lr=0.0001\n",
    "loss_def='categorical_crossentropy'\n",
    "ep=500\n",
    "ep_int=50\n",
    "bat_size=32\n",
    "max_lr=0.0001\n",
    "iterations=len(x_train)//bat_size*ep_int\n",
    "opt=tensorflow.keras.optimizers.Nadam(learning_rate=0.0001)\n",
    "loss=tensorflow.keras.losses.categorical_crossentropy"
   ]
  },
  {
   "cell_type": "code",
   "execution_count": 4,
   "metadata": {},
   "outputs": [],
   "source": [
    "#Model Definition\n",
    "import tensorflow as tf\n",
    "from tensorflow import keras\n",
    "#model1=Sequential()\n",
    "ins=tf.keras.layers.Input(shape=x_train.shape[1:])\n",
    "layer1=tf.keras.layers.Flatten(input_shape=x_train.shape[1:])(ins)\n",
    "layer1=tf.keras.layers.Dense(units=n_units,activation=act,kernel_initializer=init)(layer1)\n",
    "layer1=tf.keras.layers.BatchNormalization()(layer1)\n",
    "for i in range(n_hidden-1):\n",
    "    layer1=tf.keras.layers.Dense(units=n_units,activation=act,kernel_initializer=init)(layer1)\n",
    "    layer1=tf.keras.layers.BatchNormalization()(layer1)\n",
    "    if(i%3)==0:\n",
    "        layer1=tf.keras.layers.Dropout(0.3)(layer1,training=True)\n",
    "  \n",
    "outs = tf.keras.layers.Dense(units=10,activation=out_act,kernel_initializer=init)(layer1)\n",
    "model1=tf.keras.Model(inputs=ins,outputs=outs)\n",
    "model1.compile(optimizer=opt,loss=loss_def,metrics=['accuracy'])\n",
    "#model1.add()    "
   ]
  },
  {
   "cell_type": "code",
   "execution_count": 5,
   "metadata": {},
   "outputs": [
    {
     "data": {
      "text/plain": [
       "\"\\n#Model Definition\\n\\nmodel1=tensorflow.keras.models.Sequential()\\nmodel1.add(tensorflow.keras.layers.Flatten(input_shape=x_train.shape[1:]))\\n\\nfor i in range(n_hidden):\\n    model1.add(tensorflow.keras.layers.Dense(units=n_units,activation=act,kernel_initializer=init,kernel_regularizer=keras.regularizers.l2(0.01)))\\n\\nmodel1.add(tensorflow.keras.layers.Dense(units=10,activation=out_act,kernel_initializer=init,kernel_regularizer=keras.regularizers.l2(0.01)))   \\nmodel1.compile(optimizer=opt,loss=loss_def,metrics=['accuracy'])\\n\""
      ]
     },
     "execution_count": 5,
     "metadata": {},
     "output_type": "execute_result"
    }
   ],
   "source": [
    "'''\n",
    "#Model Definition\n",
    "\n",
    "model1=tensorflow.keras.models.Sequential()\n",
    "model1.add(tensorflow.keras.layers.Flatten(input_shape=x_train.shape[1:]))\n",
    "\n",
    "for i in range(n_hidden):\n",
    "    model1.add(tensorflow.keras.layers.Dense(units=n_units,activation=act,kernel_initializer=init,kernel_regularizer=keras.regularizers.l2(0.01)))\n",
    "\n",
    "model1.add(tensorflow.keras.layers.Dense(units=10,activation=out_act,kernel_initializer=init,kernel_regularizer=keras.regularizers.l2(0.01)))   \n",
    "model1.compile(optimizer=opt,loss=loss_def,metrics=['accuracy'])\n",
    "'''"
   ]
  },
  {
   "cell_type": "code",
   "execution_count": 6,
   "metadata": {},
   "outputs": [
    {
     "name": "stdout",
     "output_type": "stream",
     "text": [
      "Train on 40000 samples\n",
      "40000/40000 [==============================] - 29s 736us/sample - loss: 13060.8423 - accuracy: 0.1299\n"
     ]
    },
    {
     "data": {
      "image/png": "[encoded data removed]",
      "text/plain": [
       "<Figure size 432x288 with 1 Axes>"
      ]
     },
     "metadata": {
      "needs_background": "light"
     },
     "output_type": "display_data"
    }
   ],
   "source": [
    "import tensorflow as tf\n",
    "from tensorflow import keras\n",
    "model2=tf.keras.models.clone_model(model1)\n",
    "model2.compile(optimizer=opt,loss=loss_def,metrics=['accuracy'])\n",
    "K=tf.keras.backend\n",
    "\n",
    "class explr(keras.callbacks.Callback):\n",
    "    def __init__(self,factor):\n",
    "        self.factor=factor\n",
    "        self.rates=[]\n",
    "        self.losses=[]\n",
    "    \n",
    "    def on_batch_end(self,batch,logs):\n",
    "        self.rates.append(K.get_value(self.model.optimizer.lr))\n",
    "        self.losses.append(logs['loss'])\n",
    "        K.set_value(self.model.optimizer.lr,self.model.optimizer.lr*self.factor)\n",
    "    \n",
    "\n",
    "def lr_finder(model,x,y,epochs=1,batch_size=32,min_rate=1e-5,max_rate=10):\n",
    "    import numpy as np\n",
    "    init_w=model.get_weights()\n",
    "    init_lr=K.get_value(model.optimizer.lr)\n",
    "    iterations=len(x)//batch_size*epochs\n",
    "    factor=np.exp(np.log(max_rate/min_rate)/iterations)\n",
    "    K.set_value(model.optimizer.lr,min_rate)\n",
    "   \n",
    "    \n",
    "    exp_lr=explr(factor)\n",
    "    model.fit(x,y,epochs=epochs,batch_size=batch_size,callbacks=[exp_lr])\n",
    "    model.set_weights(init_w)\n",
    "    K.set_value(model.optimizer.lr,init_lr)\n",
    "    rates=exp_lr.rates\n",
    "    losses=exp_lr.losses\n",
    "   \n",
    "    \n",
    "    import matplotlib.pyplot as plt\n",
    "    plt.plot(rates,losses)\n",
    "    plt.gca().set_xscale(\"log\")\n",
    "    plt.hlines(min(losses),min(rates),max(rates))\n",
    "    plt.axis([min(rates),max(rates),min(losses),15])\n",
    "    plt.xlabel(\"Learning Rate\")\n",
    "    \n",
    "\n",
    "lr_finder(model2,x_train,y_train,epochs=1,batch_size=32,min_rate=1e-5,max_rate=15)"
   ]
  },
  {
   "cell_type": "code",
   "execution_count": 7,
   "metadata": {},
   "outputs": [],
   "source": [
    "import tensorflow as tf\n",
    "from tensorflow import keras\n",
    "K=tf.keras.backend\n",
    "class OneCycleScheduler(keras.callbacks.Callback):\n",
    "    def __init__(self,iterations,max_lr,start_lr=None,last_iterations=None,last_lr=None):\n",
    "        self.iterations=iterations\n",
    "        self.max_lr=max_lr\n",
    "        self.start_lr=start_lr or max_lr/10\n",
    "        self.last_iterations=last_iterations or iterations//10+1\n",
    "        self.half_iteration=(iterations-self.last_iterations)//2\n",
    "        self.last_lr=last_lr or self.start_lr/1000\n",
    "        self.iteration=0\n",
    "     \n",
    "    def interpolate(self,iter1,iter2,rate1,rate2):\n",
    "        temp1=((rate2-rate1)/(iter2-iter1))*(self.iteration-iter1)\n",
    "        temp2=rate1+temp1\n",
    "        return temp2\n",
    "    \n",
    "    def on_batch_begin(self,batch,logs):\n",
    "        \n",
    "        if self.iteration<self.half_iteration:\n",
    "            rate=self.interpolate(0,self.half_iteration,self.start_lr,self.max_lr)\n",
    "        \n",
    "        elif self.iteration <2*self.half_iteration:\n",
    "            \n",
    "            rate=self.interpolate(self.half_iteration,2*self.half_iteration,self.max_lr,self.start_lr)\n",
    "\n",
    "            \n",
    "        else:\n",
    "            rate=self.interpolate(2*self.half_iteration,self.iterations,self.start_lr,self.last_lr)\n",
    "            rate=max(rate,self.last_lr)\n",
    "            \n",
    "        \n",
    "        self.iteration+=1\n",
    "        K.set_value(self.model.optimizer.lr,rate)\n",
    "        \n",
    "onec=OneCycleScheduler(iterations=iterations,max_lr=max_lr)        "
   ]
  },
  {
   "cell_type": "code",
   "execution_count": 8,
   "metadata": {},
   "outputs": [],
   "source": [
    "import tensorflow as tf\n",
    "class custom_escb(tf.keras.callbacks.EarlyStopping):\n",
    "    def __init__(self,monitor='val_loss', min_delta=0, patience=10, verbose=2, mode='auto',baseline=None, restore_best_weights=True,start_epoch=50):\n",
    "        super(custom_escb,self).__init__()\n",
    "        self.monitor=monitor\n",
    "        self.patience=patience\n",
    "        self.verbose=verbose\n",
    "        self.start_epoch=start_epoch\n",
    "                \n",
    "    def on_epoch_end(self,epoch,logs=None):\n",
    "        if(epoch>self.start_epoch):\n",
    "            super().on_epoch_end(epoch,logs)\n",
    "cescb=custom_escb()       "
   ]
  },
  {
   "cell_type": "code",
   "execution_count": 9,
   "metadata": {},
   "outputs": [
    {
     "name": "stdout",
     "output_type": "stream",
     "text": [
      "Train on 40000 samples, validate on 10000 samples\n",
      "Epoch 1/500\n",
      "40000/40000 [==============================] - 33s 821us/sample - loss: 3.0347 - accuracy: 0.1119 - val_loss: 2.8976 - val_accuracy: 0.1163\n",
      "Epoch 2/500\n",
      "40000/40000 [==============================] - 27s 672us/sample - loss: 2.7855 - accuracy: 0.1277 - val_loss: 2.7083 - val_accuracy: 0.1401\n",
      "Epoch 3/500\n",
      "40000/40000 [==============================] - 26s 645us/sample - loss: 2.6170 - accuracy: 0.1520 - val_loss: 2.5578 - val_accuracy: 0.1603\n",
      "Epoch 4/500\n",
      "40000/40000 [==============================] - 26s 645us/sample - loss: 2.4980 - accuracy: 0.1700 - val_loss: 2.4548 - val_accuracy: 0.1776\n",
      "Epoch 5/500\n",
      "40000/40000 [==============================] - 26s 647us/sample - loss: 2.3969 - accuracy: 0.1875 - val_loss: 2.3562 - val_accuracy: 0.1959\n",
      "Epoch 6/500\n",
      "40000/40000 [==============================] - 26s 649us/sample - loss: 2.3083 - accuracy: 0.2080 - val_loss: 2.2661 - val_accuracy: 0.2128\n",
      "Epoch 7/500\n",
      "40000/40000 [==============================] - 26s 643us/sample - loss: 2.2391 - accuracy: 0.2227 - val_loss: 2.1867 - val_accuracy: 0.2278\n",
      "Epoch 8/500\n",
      "40000/40000 [==============================] - 25s 637us/sample - loss: 2.1531 - accuracy: 0.2422 - val_loss: 2.0976 - val_accuracy: 0.2572\n",
      "Epoch 9/500\n",
      "40000/40000 [==============================] - 26s 647us/sample - loss: 2.0931 - accuracy: 0.2614 - val_loss: 2.0299 - val_accuracy: 0.2855\n",
      "Epoch 10/500\n",
      "40000/40000 [==============================] - 26s 655us/sample - loss: 2.0325 - accuracy: 0.2803 - val_loss: 1.9812 - val_accuracy: 0.2935\n",
      "Epoch 11/500\n",
      "40000/40000 [==============================] - 30s 754us/sample - loss: 1.9652 - accuracy: 0.3011 - val_loss: 1.9229 - val_accuracy: 0.3083\n",
      "Epoch 12/500\n",
      "40000/40000 [==============================] - 37s 917us/sample - loss: 1.9099 - accuracy: 0.3232 - val_loss: 1.8732 - val_accuracy: 0.3291\n",
      "Epoch 13/500\n",
      "40000/40000 [==============================] - 35s 885us/sample - loss: 1.8621 - accuracy: 0.3378 - val_loss: 1.8236 - val_accuracy: 0.3512\n",
      "Epoch 14/500\n",
      "40000/40000 [==============================] - 26s 652us/sample - loss: 1.8107 - accuracy: 0.3525 - val_loss: 1.7654 - val_accuracy: 0.3669\n",
      "Epoch 15/500\n",
      "40000/40000 [==============================] - 27s 663us/sample - loss: 1.7650 - accuracy: 0.3713 - val_loss: 1.7269 - val_accuracy: 0.3878\n",
      "Epoch 16/500\n",
      "40000/40000 [==============================] - 26s 654us/sample - loss: 1.7261 - accuracy: 0.3844 - val_loss: 1.6987 - val_accuracy: 0.3951\n",
      "Epoch 17/500\n",
      "40000/40000 [==============================] - 26s 653us/sample - loss: 1.6955 - accuracy: 0.3961 - val_loss: 1.6670 - val_accuracy: 0.4041\n",
      "Epoch 18/500\n",
      "40000/40000 [==============================] - 31s 771us/sample - loss: 1.6553 - accuracy: 0.4078 - val_loss: 1.6468 - val_accuracy: 0.4144\n",
      "Epoch 19/500\n",
      "40000/40000 [==============================] - 36s 911us/sample - loss: 1.6268 - accuracy: 0.4200 - val_loss: 1.6062 - val_accuracy: 0.4334\n",
      "Epoch 20/500\n",
      "40000/40000 [==============================] - 37s 918us/sample - loss: 1.5981 - accuracy: 0.4349 - val_loss: 1.5933 - val_accuracy: 0.4358\n",
      "Epoch 21/500\n",
      "40000/40000 [==============================] - 33s 821us/sample - loss: 1.5677 - accuracy: 0.4437 - val_loss: 1.5908 - val_accuracy: 0.4458\n",
      "Epoch 22/500\n",
      "40000/40000 [==============================] - 26s 653us/sample - loss: 1.5441 - accuracy: 0.4539 - val_loss: 1.5647 - val_accuracy: 0.4491\n",
      "Epoch 23/500\n",
      "40000/40000 [==============================] - 26s 660us/sample - loss: 1.5185 - accuracy: 0.4640 - val_loss: 1.5464 - val_accuracy: 0.4559\n",
      "Epoch 24/500\n",
      "40000/40000 [==============================] - 29s 735us/sample - loss: 1.4963 - accuracy: 0.4714 - val_loss: 1.5301 - val_accuracy: 0.4580\n",
      "Epoch 25/500\n",
      "40000/40000 [==============================] - 37s 933us/sample - loss: 1.4716 - accuracy: 0.4805 - val_loss: 1.5235 - val_accuracy: 0.4627\n",
      "Epoch 26/500\n",
      "40000/40000 [==============================] - 38s 960us/sample - loss: 1.4426 - accuracy: 0.4900 - val_loss: 1.5080 - val_accuracy: 0.4669\n",
      "Epoch 27/500\n",
      "40000/40000 [==============================] - 37s 918us/sample - loss: 1.4287 - accuracy: 0.4945 - val_loss: 1.5020 - val_accuracy: 0.4726\n",
      "Epoch 28/500\n",
      "40000/40000 [==============================] - 37s 925us/sample - loss: 1.3985 - accuracy: 0.5047 - val_loss: 1.4907 - val_accuracy: 0.4759\n",
      "Epoch 29/500\n",
      "40000/40000 [==============================] - 37s 919us/sample - loss: 1.3849 - accuracy: 0.5096 - val_loss: 1.4674 - val_accuracy: 0.4836\n",
      "Epoch 30/500\n",
      "40000/40000 [==============================] - 37s 920us/sample - loss: 1.3642 - accuracy: 0.5199 - val_loss: 1.4803 - val_accuracy: 0.4849\n",
      "Epoch 31/500\n",
      "40000/40000 [==============================] - 37s 918us/sample - loss: 1.3458 - accuracy: 0.5283 - val_loss: 1.4643 - val_accuracy: 0.4865\n",
      "Epoch 32/500\n",
      "40000/40000 [==============================] - 37s 918us/sample - loss: 1.3301 - accuracy: 0.5297 - val_loss: 1.4552 - val_accuracy: 0.4845\n",
      "Epoch 33/500\n",
      "40000/40000 [==============================] - 37s 920us/sample - loss: 1.3169 - accuracy: 0.5379 - val_loss: 1.4845 - val_accuracy: 0.4853\n",
      "Epoch 34/500\n",
      "40000/40000 [==============================] - 37s 919us/sample - loss: 1.3009 - accuracy: 0.5425 - val_loss: 1.4595 - val_accuracy: 0.4919\n",
      "Epoch 35/500\n",
      "40000/40000 [==============================] - 37s 920us/sample - loss: 1.2831 - accuracy: 0.5501 - val_loss: 1.4497 - val_accuracy: 0.4935\n",
      "Epoch 36/500\n",
      "40000/40000 [==============================] - 37s 928us/sample - loss: 1.2621 - accuracy: 0.5544 - val_loss: 1.4422 - val_accuracy: 0.5016\n",
      "Epoch 37/500\n",
      "40000/40000 [==============================] - 37s 928us/sample - loss: 1.2568 - accuracy: 0.5605 - val_loss: 1.4469 - val_accuracy: 0.4972\n",
      "Epoch 38/500\n",
      "40000/40000 [==============================] - 37s 930us/sample - loss: 1.2452 - accuracy: 0.5608 - val_loss: 1.4543 - val_accuracy: 0.4936\n",
      "Epoch 39/500\n",
      "40000/40000 [==============================] - 37s 935us/sample - loss: 1.2261 - accuracy: 0.5709 - val_loss: 1.4317 - val_accuracy: 0.5005\n",
      "Epoch 40/500\n",
      "40000/40000 [==============================] - 37s 931us/sample - loss: 1.2153 - accuracy: 0.5771 - val_loss: 1.4336 - val_accuracy: 0.5070\n",
      "Epoch 41/500\n",
      "40000/40000 [==============================] - 37s 930us/sample - loss: 1.2059 - accuracy: 0.5756 - val_loss: 1.4399 - val_accuracy: 0.4999\n",
      "Epoch 42/500\n",
      "40000/40000 [==============================] - 37s 936us/sample - loss: 1.1960 - accuracy: 0.5824 - val_loss: 1.4490 - val_accuracy: 0.5021\n",
      "Epoch 43/500\n",
      "40000/40000 [==============================] - 37s 933us/sample - loss: 1.1958 - accuracy: 0.5810 - val_loss: 1.4349 - val_accuracy: 0.4980\n",
      "Epoch 44/500\n",
      "40000/40000 [==============================] - 37s 926us/sample - loss: 1.1768 - accuracy: 0.5863 - val_loss: 1.4515 - val_accuracy: 0.5007\n",
      "Epoch 45/500\n",
      "40000/40000 [==============================] - 38s 948us/sample - loss: 1.1774 - accuracy: 0.5868 - val_loss: 1.4389 - val_accuracy: 0.5088\n",
      "Epoch 46/500\n",
      "40000/40000 [==============================] - 38s 938us/sample - loss: 1.1638 - accuracy: 0.5917 - val_loss: 1.4296 - val_accuracy: 0.5085\n",
      "Epoch 47/500\n",
      "40000/40000 [==============================] - 37s 932us/sample - loss: 1.1635 - accuracy: 0.5942 - val_loss: 1.4371 - val_accuracy: 0.5054\n",
      "Epoch 48/500\n",
      "40000/40000 [==============================] - 37s 931us/sample - loss: 1.1602 - accuracy: 0.5913 - val_loss: 1.4393 - val_accuracy: 0.5097\n",
      "Epoch 49/500\n",
      "40000/40000 [==============================] - 37s 931us/sample - loss: 1.1497 - accuracy: 0.5969 - val_loss: 1.4436 - val_accuracy: 0.5062\n",
      "Epoch 50/500\n",
      "40000/40000 [==============================] - 37s 936us/sample - loss: 1.1485 - accuracy: 0.5955 - val_loss: 1.4421 - val_accuracy: 0.5030\n",
      "Epoch 51/500\n",
      "40000/40000 [==============================] - 38s 942us/sample - loss: 1.1437 - accuracy: 0.5986 - val_loss: 1.4491 - val_accuracy: 0.5031\n",
      "Epoch 52/500\n",
      "40000/40000 [==============================] - 38s 942us/sample - loss: 1.1480 - accuracy: 0.6000 - val_loss: 1.4424 - val_accuracy: 0.5065\n",
      "Epoch 53/500\n",
      "40000/40000 [==============================] - 38s 939us/sample - loss: 1.1510 - accuracy: 0.5968 - val_loss: 1.4348 - val_accuracy: 0.5040\n",
      "Epoch 54/500\n",
      "40000/40000 [==============================] - 37s 916us/sample - loss: 1.1436 - accuracy: 0.6019 - val_loss: 1.4441 - val_accuracy: 0.5059\n",
      "Epoch 55/500\n",
      "40000/40000 [==============================] - 37s 933us/sample - loss: 1.1532 - accuracy: 0.5931 - val_loss: 1.4283 - val_accuracy: 0.5058\n",
      "Epoch 56/500\n",
      "40000/40000 [==============================] - 38s 940us/sample - loss: 1.1557 - accuracy: 0.5975 - val_loss: 1.4411 - val_accuracy: 0.5104\n",
      "Epoch 57/500\n",
      "40000/40000 [==============================] - 38s 939us/sample - loss: 1.1498 - accuracy: 0.5960 - val_loss: 1.4407 - val_accuracy: 0.5071\n",
      "Epoch 58/500\n",
      "40000/40000 [==============================] - 37s 931us/sample - loss: 1.1480 - accuracy: 0.5980 - val_loss: 1.4391 - val_accuracy: 0.5095\n",
      "Epoch 59/500\n",
      "40000/40000 [==============================] - 37s 927us/sample - loss: 1.1498 - accuracy: 0.6007 - val_loss: 1.4412 - val_accuracy: 0.5048\n",
      "Epoch 60/500\n",
      "40000/40000 [==============================] - 37s 928us/sample - loss: 1.1530 - accuracy: 0.5963 - val_loss: 1.4382 - val_accuracy: 0.5039\n",
      "Epoch 61/500\n",
      "40000/40000 [==============================] - 37s 930us/sample - loss: 1.1523 - accuracy: 0.5976 - val_loss: 1.4356 - val_accuracy: 0.5076\n",
      "Epoch 62/500\n",
      "40000/40000 [==============================] - 37s 928us/sample - loss: 1.1454 - accuracy: 0.5987 - val_loss: 1.4566 - val_accuracy: 0.5033\n",
      "Epoch 63/500\n",
      "40000/40000 [==============================] - 37s 927us/sample - loss: 1.1558 - accuracy: 0.5959 - val_loss: 1.4460 - val_accuracy: 0.5011\n",
      "Epoch 64/500\n",
      "40000/40000 [==============================] - 37s 930us/sample - loss: 1.1527 - accuracy: 0.5954 - val_loss: 1.4402 - val_accuracy: 0.5020\n",
      "Epoch 65/500\n",
      "40000/40000 [==============================] - 37s 931us/sample - loss: 1.1433 - accuracy: 0.5980 - val_loss: 1.4356 - val_accuracy: 0.5113\n",
      "Epoch 00065: early stopping\n"
     ]
    }
   ],
   "source": [
    "escb=tensorflow.keras.callbacks.EarlyStopping(monitor='val_accuracy',patience=10,verbose=2,restore_best_weights=True)\n",
    "history=model1.fit(initial_epoch=0,x=x_train,y=y_train,epochs=ep,validation_data=(x_val,y_val),batch_size=32,callbacks=[onec,cescb])#"
   ]
  },
  {
   "cell_type": "code",
   "execution_count": 10,
   "metadata": {
    "scrolled": true
   },
   "outputs": [
    {
     "data": {
      "image/png": "[encoded data removed]",
      "text/plain": [
       "<Figure size 576x360 with 1 Axes>"
      ]
     },
     "metadata": {
      "needs_background": "light"
     },
     "output_type": "display_data"
    }
   ],
   "source": [
    "keras_plotter(history)"
   ]
  },
  {
   "cell_type": "code",
   "execution_count": 11,
   "metadata": {},
   "outputs": [
    {
     "name": "stdout",
     "output_type": "stream",
     "text": [
      "Train Accuracy 0.652875\n"
     ]
    }
   ],
   "source": [
    "import numpy as np\n",
    "y_pred=model1.predict(x_train)\n",
    "y_pred_sparse=np.argmax(y_pred,axis=1)\n",
    "y_train_sparse=np.argmax(y_train,axis=1)\n",
    "from sklearn.metrics import accuracy_score\n",
    "acc=accuracy_score(y_train_sparse,y_pred_sparse)\n",
    "print(\"Train Accuracy\",acc)"
   ]
  },
  {
   "cell_type": "code",
   "execution_count": 12,
   "metadata": {},
   "outputs": [
    {
     "name": "stdout",
     "output_type": "stream",
     "text": [
      "Validation Loss 0.5105\n"
     ]
    }
   ],
   "source": [
    "import numpy as np\n",
    "y_pred=model1.predict(x_val)\n",
    "y_pred_sparse=np.argmax(y_pred,axis=1)\n",
    "y_val_sparse=np.argmax(y_val,axis=1)\n",
    "from sklearn.metrics import accuracy_score\n",
    "acc=accuracy_score(y_val_sparse,y_pred_sparse)\n",
    "print(\"Validation Loss\",acc)"
   ]
  },
  {
   "cell_type": "code",
   "execution_count": 13,
   "metadata": {},
   "outputs": [
    {
     "name": "stdout",
     "output_type": "stream",
     "text": [
      "Test Accuracy 0.5131\n"
     ]
    }
   ],
   "source": [
    "import numpy as np\n",
    "y_pred=model1.predict(x_test)\n",
    "y_pred_sparse=np.argmax(y_pred,axis=1)\n",
    "y_test_sparse=np.argmax(y_test,axis=1)\n",
    "from sklearn.metrics import accuracy_score\n",
    "acc=accuracy_score(y_test_sparse,y_pred_sparse)\n",
    "print(\"Test Accuracy\",acc)"
   ]
  },
  {
   "cell_type": "code",
   "execution_count": 14,
   "metadata": {},
   "outputs": [
    {
     "name": "stdout",
     "output_type": "stream",
     "text": [
      "test\n",
      "MC Dropout Test Loss 0.5451\n"
     ]
    }
   ],
   "source": [
    "def mc_droupout(model1,x_test,y_test):\n",
    "    \n",
    "    num_iter=100\n",
    "    print(\"test\")\n",
    "    y_prob_pred_temp=np.zeros((10000,10,num_iter))\n",
    "\n",
    "    for i in range(num_iter):\n",
    "\n",
    "        y_prob_pred_temp[:,:,i]=model1.predict(x_test)\n",
    "\n",
    "    y_prob_pred=y_prob_pred_temp.mean(axis=2)\n",
    "    y_prob_pred_sparse=np.argmax(y_prob_pred,axis=1)\n",
    "    return y_prob_pred_sparse\n",
    "\n",
    "y_prob_pred_sparse=mc_droupout(model1,x_test,y_test)\n",
    "y_test_sparse=np.argmax(y_test,axis=1)\n",
    "    \n",
    "from sklearn.metrics import accuracy_score\n",
    "acc=accuracy_score(y_test_sparse,y_prob_pred_sparse)\n",
    "print(\"MC Dropout Test Loss\",acc)\n"
   ]
  },
  {
   "cell_type": "code",
   "execution_count": null,
   "metadata": {},
   "outputs": [],
   "source": []
  }
 ],
 "metadata": {
  "kernelspec": {
   "display_name": "Python 3",
   "language": "python",
   "name": "python3"
  },
  "language_info": {
   "codemirror_mode": {
    "name": "ipython",
    "version": 3
   },
   "file_extension": ".py",
   "mimetype": "text/x-python",
   "name": "python",
   "nbconvert_exporter": "python",
   "pygments_lexer": "ipython3",
   "version": "3.7.7"
  }
 },
 "nbformat": 4,
 "nbformat_minor": 4
}
