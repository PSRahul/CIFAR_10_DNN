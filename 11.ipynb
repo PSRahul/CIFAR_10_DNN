{
 "cells": [
  {
   "cell_type": "code",
   "execution_count": 1,
   "metadata": {},
   "outputs": [],
   "source": [
    "def keras_plotter(history):\n",
    "    import pandas as pd\n",
    "    import matplotlib.pyplot as plt\n",
    "    \n",
    "    pd.DataFrame(history.history).plot(figsize=(8,5))\n",
    "    plt.grid(True)\n",
    "    plt.gca().set_ylim(0,2)\n",
    "    plt.savefig(\"partc_temp.jpeg\")\n",
    "    plt.show()\n",
    "   "
   ]
  },
  {
   "cell_type": "code",
   "execution_count": 2,
   "metadata": {},
   "outputs": [
    {
     "name": "stderr",
     "output_type": "stream",
     "text": [
      "Using TensorFlow backend.\n"
     ]
    }
   ],
   "source": [
    "import tensorflow as tf\n",
    "from tensorflow import keras\n",
    "from keras.datasets import cifar10\n",
    "\n",
    "(x_train_val, y_train_val), (x_test, y_test) = cifar10.load_data()\n",
    "\n",
    "from sklearn.model_selection import StratifiedShuffleSplit\n",
    "strat_split=StratifiedShuffleSplit(n_splits=1,test_size=0.2)\n",
    "for train_index,test_index in strat_split.split(x_train_val,y_train_val):\n",
    "    x_train,y_train=x_train_val[train_index],y_train_val[train_index]\n",
    "    x_val,y_val=x_train_val[test_index],y_train_val[test_index]\n",
    "    \n",
    "x_train_val=x_train_val.reshape((50000,3072))\n",
    "x_train=x_train.reshape((40000,3072))\n",
    "x_val=x_val.reshape((10000,3072))\n",
    "x_test=x_test.reshape((10000,3072))\n",
    "\n",
    "from sklearn.preprocessing import StandardScaler\n",
    "sta_scal=StandardScaler()\n",
    "sta_scal.fit(x_train)\n",
    "x_train_val=sta_scal.transform(x_train_val)\n",
    "x_train=sta_scal.transform(x_train)\n",
    "x_val=sta_scal.transform(x_val)\n",
    "x_test=sta_scal.transform(x_test)\n",
    "\n",
    "\n",
    "x_train_val=x_train_val.reshape((50000,32, 32, 3))\n",
    "x_train=x_train.reshape((40000,32, 32, 3))\n",
    "x_val=x_val.reshape((10000,32, 32, 3))\n",
    "x_test=x_test.reshape((10000,32, 32, 3))\n",
    "\n",
    "\n",
    "y_train_val=keras.utils.to_categorical(y_train_val,10)\n",
    "y_train=keras.utils.to_categorical(y_train,10)\n",
    "y_val=keras.utils.to_categorical(y_val,10)\n",
    "y_test=keras.utils.to_categorical(y_test,10)\n"
   ]
  },
  {
   "cell_type": "code",
   "execution_count": 3,
   "metadata": {},
   "outputs": [],
   "source": [
    "#HyperParameters Definition\n",
    "\n",
    "n_hidden=20\n",
    "n_units=200\n",
    "act='selu'\n",
    "out_act='softmax'\n",
    "init='lecun_normal'\n",
    "init_lr=0.0001\n",
    "loss_def='categorical_crossentropy'\n",
    "ep=100\n",
    "opt=keras.optimizers.Nadam(learning_rate=0.0001)\n",
    "loss=keras.losses.categorical_crossentropy"
   ]
  },
  {
   "cell_type": "code",
   "execution_count": 4,
   "metadata": {},
   "outputs": [],
   "source": [
    "#Model Definition\n",
    "\n",
    "from keras.layers import Dense,Flatten,BatchNormalization\n",
    "from keras.models import Sequential\n",
    "\n",
    "model1=Sequential()\n",
    "model1.add(Flatten(input_shape=x_train.shape[1:]))\n",
    "\n",
    "for i in range(n_hidden):\n",
    "    model1.add(Dense(units=n_units,activation=act,kernel_initializer=init))\n",
    "    \n",
    "model1.add(Dense(units=10,activation=out_act,kernel_initializer=init))    "
   ]
  },
  {
   "cell_type": "code",
   "execution_count": 5,
   "metadata": {},
   "outputs": [],
   "source": [
    "escb=tf.keras.callbacks.EarlyStopping(patience=10,verbose=2,restore_best_weights=True)\n",
    "model1.compile(optimizer=opt,loss=loss_def,metrics=['accuracy'])"
   ]
  },
  {
   "cell_type": "code",
   "execution_count": 6,
   "metadata": {},
   "outputs": [
    {
     "name": "stdout",
     "output_type": "stream",
     "text": [
      "Train on 40000 samples, validate on 10000 samples\n",
      "Epoch 1/100\n",
      "40000/40000 [==============================] - 23s 578us/step - loss: 1.7818 - accuracy: 0.3640 - val_loss: 1.6617 - val_accuracy: 0.4091\n",
      "Epoch 2/100\n",
      "40000/40000 [==============================] - 22s 553us/step - loss: 1.5668 - accuracy: 0.4430 - val_loss: 1.5756 - val_accuracy: 0.4413\n",
      "Epoch 3/100\n",
      "40000/40000 [==============================] - 22s 560us/step - loss: 1.4616 - accuracy: 0.4787 - val_loss: 1.5145 - val_accuracy: 0.4661\n",
      "Epoch 4/100\n",
      "40000/40000 [==============================] - 23s 567us/step - loss: 1.3682 - accuracy: 0.5139 - val_loss: 1.4775 - val_accuracy: 0.4850\n",
      "Epoch 5/100\n",
      "40000/40000 [==============================] - 23s 564us/step - loss: 1.2954 - accuracy: 0.5398 - val_loss: 1.4651 - val_accuracy: 0.4915\n",
      "Epoch 6/100\n",
      "40000/40000 [==============================] - 23s 565us/step - loss: 1.2200 - accuracy: 0.5664 - val_loss: 1.4407 - val_accuracy: 0.5003\n",
      "Epoch 7/100\n",
      "40000/40000 [==============================] - 23s 572us/step - loss: 1.1495 - accuracy: 0.5941 - val_loss: 1.4488 - val_accuracy: 0.5091\n",
      "Epoch 8/100\n",
      "40000/40000 [==============================] - 23s 582us/step - loss: 1.0837 - accuracy: 0.6131 - val_loss: 1.4654 - val_accuracy: 0.5090\n",
      "Epoch 9/100\n",
      "40000/40000 [==============================] - 24s 593us/step - loss: 1.0165 - accuracy: 0.6361 - val_loss: 1.4977 - val_accuracy: 0.5151\n",
      "Epoch 10/100\n",
      "40000/40000 [==============================] - 23s 568us/step - loss: 0.9531 - accuracy: 0.6584 - val_loss: 1.5320 - val_accuracy: 0.4971\n",
      "Epoch 11/100\n",
      "40000/40000 [==============================] - 23s 565us/step - loss: 0.8936 - accuracy: 0.6824 - val_loss: 1.5969 - val_accuracy: 0.5072\n",
      "Epoch 12/100\n",
      "40000/40000 [==============================] - 23s 568us/step - loss: 0.8288 - accuracy: 0.7048 - val_loss: 1.5875 - val_accuracy: 0.5067\n",
      "Epoch 13/100\n",
      "40000/40000 [==============================] - 23s 571us/step - loss: 0.7769 - accuracy: 0.7216 - val_loss: 1.6383 - val_accuracy: 0.5089\n",
      "Epoch 14/100\n",
      "40000/40000 [==============================] - 23s 572us/step - loss: 0.7182 - accuracy: 0.7444 - val_loss: 1.6773 - val_accuracy: 0.5109\n",
      "Epoch 15/100\n",
      "40000/40000 [==============================] - 23s 573us/step - loss: 0.6701 - accuracy: 0.7589 - val_loss: 1.7580 - val_accuracy: 0.5093\n",
      "Epoch 16/100\n",
      "40000/40000 [==============================] - 23s 569us/step - loss: 0.6190 - accuracy: 0.7786 - val_loss: 1.8218 - val_accuracy: 0.5023\n",
      "Restoring model weights from the end of the best epoch.\n",
      "Epoch 00016: early stopping\n"
     ]
    }
   ],
   "source": [
    "history=model1.fit(x=x_train,y=y_train,epochs=ep,validation_data=(x_val,y_val),batch_size=32,callbacks=[escb])#"
   ]
  },
  {
   "cell_type": "code",
   "execution_count": 7,
   "metadata": {
    "scrolled": true
   },
   "outputs": [
    {
     "data": {
      "image/png": "[encoded data removed]",
      "text/plain": [
       "<Figure size 576x360 with 1 Axes>"
      ]
     },
     "metadata": {
      "needs_background": "light"
     },
     "output_type": "display_data"
    }
   ],
   "source": [
    "keras_plotter(history)"
   ]
  },
  {
   "cell_type": "code",
   "execution_count": 8,
   "metadata": {},
   "outputs": [
    {
     "name": "stdout",
     "output_type": "stream",
     "text": [
      "Test Loss 0.4982\n"
     ]
    }
   ],
   "source": [
    "import numpy as np\n",
    "y_pred=model1.predict(x_test)\n",
    "y_pred_sparse=np.argmax(y_pred,axis=1)\n",
    "y_test_sparse=np.argmax(y_test,axis=1)\n",
    "from sklearn.metrics import accuracy_score\n",
    "acc=accuracy_score(y_test_sparse,y_pred_sparse)\n",
    "print(\"Test Loss\",acc)"
   ]
  },
  {
   "cell_type": "code",
   "execution_count": 9,
   "metadata": {},
   "outputs": [
    {
     "name": "stdout",
     "output_type": "stream",
     "text": [
      "Train Loss 0.612525\n"
     ]
    }
   ],
   "source": [
    "import numpy as np\n",
    "y_pred=model1.predict(x_train)\n",
    "y_pred_sparse=np.argmax(y_pred,axis=1)\n",
    "y_train_sparse=np.argmax(y_train,axis=1)\n",
    "from sklearn.metrics import accuracy_score\n",
    "acc=accuracy_score(y_train_sparse,y_pred_sparse)\n",
    "print(\"Train Loss\",acc)"
   ]
  },
  {
   "cell_type": "code",
   "execution_count": 10,
   "metadata": {},
   "outputs": [
    {
     "name": "stdout",
     "output_type": "stream",
     "text": [
      "Validation Loss 0.5003\n"
     ]
    }
   ],
   "source": [
    "import numpy as np\n",
    "y_pred=model1.predict(x_val)\n",
    "y_pred_sparse=np.argmax(y_pred,axis=1)\n",
    "y_val_sparse=np.argmax(y_val,axis=1)\n",
    "from sklearn.metrics import accuracy_score\n",
    "acc=accuracy_score(y_val_sparse,y_pred_sparse)\n",
    "print(\"Validation Loss\",acc)"
   ]
  }
 ],
 "metadata": {
  "kernelspec": {
   "display_name": "Python 3",
   "language": "python",
   "name": "python3"
  },
  "language_info": {
   "codemirror_mode": {
    "name": "ipython",
    "version": 3
   },
   "file_extension": ".py",
   "mimetype": "text/x-python",
   "name": "python",
   "nbconvert_exporter": "python",
   "pygments_lexer": "ipython3",
   "version": "3.7.6"
  }
 },
 "nbformat": 4,
 "nbformat_minor": 4
}
